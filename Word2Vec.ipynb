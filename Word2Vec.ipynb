{
  "nbformat": 4,
  "nbformat_minor": 0,
  "metadata": {
    "colab": {
      "name": "Word2Vec.ipynb",
      "provenance": [],
      "include_colab_link": true
    },
    "kernelspec": {
      "name": "python3",
      "display_name": "Python 3"
    }
  },
  "cells": [
    {
      "cell_type": "markdown",
      "metadata": {
        "id": "view-in-github",
        "colab_type": "text"
      },
      "source": [
        "<a href=\"https://colab.research.google.com/github/Tikquuss/word_embeddings/blob/main/Word2Vec.ipynb\" target=\"_parent\"><img src=\"https://colab.research.google.com/assets/colab-badge.svg\" alt=\"Open In Colab\"/></a>"
      ]
    },
    {
      "cell_type": "markdown",
      "metadata": {
        "id": "1fQH1CvlnoD7"
      },
      "source": [
        "**Word2Vec**"
      ]
    },
    {
      "cell_type": "markdown",
      "metadata": {
        "id": "9aJButVdn3fP"
      },
      "source": [
        "Word2vec is a group of related models that are used to produce word embeddings.Word2vec takes as its input a large corpus of text and produces a vector space, typically of several hundred dimensions, with each unique word in the corpus being assigned a corresponding vector in the space. Word vectors are positioned in the vector space such that words that share common contexts in the corpus are located close to one another in the space.\r\n",
        "\r\n",
        "- ***Continuous Bag of Words (CBOW)*** : In the continuous bag-of-words architecture, the model predicts the current word from a window of surrounding context words. The order of context words does not influence prediction (bag-of-words assumption). \r\n",
        "\r\n",
        "- ***Continuous Skipgram (CS)*** : In the continuous skip-gram architecture, the model uses the current word to predict the surrounding window of context words. The skip-gram architecture weighs nearby context words more heavily than more distant context words. This other architecture tries to guess neighboring words using the current word. \r\n",
        "\r\n",
        "According to the authors, CBOW is faster while skip-gram is slower but does a better job for infrequent words.\r\n",
        "\r\n",
        "For a sentence $x = x_1 ... x_T$, we want to maximize the given likelihood :\r\n",
        "\r\n",
        "$$\\mathcal{L} (\\theta) = \\prod_{t=1}^{T} \\prod_{-m \\le j \\le m } f_{\\theta}(w_t, w_{t+j})$$\r\n",
        "\r\n",
        "where :\r\n",
        "\r\n",
        "$$\r\n",
        "f_{\\theta}(w_i, w_j) = \\left\\{\r\n",
        "    \\begin{array}{ll}\r\n",
        "        P_{\\theta} (w_i | w_j) & \\mbox{for CBOW} \\\\\r\n",
        "        P_{\\theta} (w_j | w_i) & \\mbox{for CS}\r\n",
        "    \\end{array}\r\n",
        "\\right.\r\n",
        "$$\r\n",
        "\r\n",
        "Hence, our objective function can be the average negative log likelihood :\r\n",
        "$$\\mathcal{J} (\\theta) = - \\frac{1}{T} log(\\mathcal{L} (\\theta)) = - \\frac{1}{T} \\sum_{t=1}^{T} \\sum_{-m \\le j \\le m } f_{\\theta}(w_t, w_{t+j})$$\r\n"
      ]
    },
    {
      "cell_type": "markdown",
      "metadata": {
        "id": "UXHuDCAPiLf6"
      },
      "source": [
        "**Model**\r\n",
        "\r\n",
        "For each word $w$, we define two different vector representation $v_w$ and $u_w$ :\r\n",
        "- $v_w$ is used when $w$ is a center word\r\n",
        "- $u_w$ is used when $w$ is a context word\r\n",
        "\r\n",
        "Hence, for a center word $c$ and a context word $o$ :\r\n",
        "\r\n",
        "$P_{\\theta} (o | c) = \\frac{e^{u_o^Tv_c}}{\\sum_{w \\in V} e^{u_w^Tv_c}}$"
      ]
    },
    {
      "cell_type": "code",
      "metadata": {
        "colab": {
          "base_uri": "https://localhost:8080/"
        },
        "id": "nSUVVXZipjbf",
        "outputId": "fd9f8319-7338-4fd9-8b8d-410fce1dbf3c"
      },
      "source": [
        "%matplotlib inline\r\n",
        "import matplotlib.pyplot as plt\r\n",
        "\r\n",
        "import numpy as np\r\n",
        "from tqdm import tqdm\r\n",
        "\r\n",
        "import torch\r\n",
        "import torch.nn as nn\r\n",
        "import torch.nn.functional as F\r\n",
        "import torch.optim as optim\r\n",
        "from torch.autograd import Variable\r\n",
        "\r\n",
        "from nltk.tokenize import word_tokenize\r\n",
        "import nltk\r\n",
        "nltk.download('punkt')"
      ],
      "execution_count": null,
      "outputs": [
        {
          "output_type": "stream",
          "text": [
            "[nltk_data] Downloading package punkt to /root/nltk_data...\n",
            "[nltk_data]   Unzipping tokenizers/punkt.zip.\n"
          ],
          "name": "stdout"
        },
        {
          "output_type": "execute_result",
          "data": {
            "text/plain": [
              "True"
            ]
          },
          "metadata": {
            "tags": []
          },
          "execution_count": 1
        }
      ]
    },
    {
      "cell_type": "code",
      "metadata": {
        "id": "arejA3-ltiIK"
      },
      "source": [
        "def get_data(corpus, vocab = None, context_size = 10) :\r\n",
        "    token_text = word_tokenize(corpus)\r\n",
        "    pads = [\"__pad__\"]*context_size\r\n",
        "    token_text = pads + token_text + pads\r\n",
        "    len_token_text = len(token_text)\r\n",
        "\r\n",
        "    print(\"# of tokens: \", len(token_text), '\\n', token_text[context_size:10+context_size])\r\n",
        "\r\n",
        "    # set of vocab items\r\n",
        "    if vocab is None :\r\n",
        "        vocab = set(token_text)\r\n",
        "\r\n",
        "    data = []\r\n",
        "\r\n",
        "    for i in range(context_size, len(token_text) - context_size):\r\n",
        "        context = [token_text[j] for j in range(i - context_size, i + context_size + 1)]\r\n",
        "        target = token_text[i]\r\n",
        "        data.append((context, target))\r\n",
        "\r\n",
        "    return data, vocab, len_token_text"
      ],
      "execution_count": null,
      "outputs": []
    },
    {
      "cell_type": "code",
      "metadata": {
        "id": "2VRBJpawwv89"
      },
      "source": [
        "class CBOW(nn.Module):\r\n",
        "    \r\n",
        "    def __init__(self, vocab : set, len_token_text : int, data, embedding_dim = 2, hidden_dim = 128, batch_size = 32):\r\n",
        "        super(CBOW, self).__init__()\r\n",
        "\r\n",
        "        self.len_token_text = len_token_text\r\n",
        "        unk = \"unk\"\r\n",
        "        vocab = {unk}.union(vocab)\r\n",
        "        self.vocab = vocab\r\n",
        "        vocab_size = len(vocab)\r\n",
        "        self.vocab_size = vocab_size\r\n",
        "        self.word_to_idx = {word: i for i, word in enumerate(vocab)}\r\n",
        "        self.idx_to_word = {i: word for i, word in enumerate(vocab)}\r\n",
        "        self.unk_id = self.word_to_idx[\"unk\"]\r\n",
        "\r\n",
        "        self.embeddings = nn.Embedding(vocab_size, embedding_dim)\r\n",
        "        self.proj = nn.Linear(embedding_dim, hidden_dim)\r\n",
        "        self.output = nn.Linear(hidden_dim, vocab_size)\r\n",
        "\r\n",
        "        self.data = data\r\n",
        "        self.n_samples = len(data)\r\n",
        "        self.batch_size = batch_size\r\n",
        "        self.index = 0\r\n",
        "        \r\n",
        "    def forward(self, inputs):\r\n",
        "        embeds = sum(self.embeddings(inputs)).view(1, -1)\r\n",
        "        out = F.relu(self.proj(embeds))\r\n",
        "        out = self.output(out)\r\n",
        "        nll_prob = F.log_softmax(out, dim=-1)\r\n",
        "        return nll_prob\r\n",
        "\r\n",
        "    #def embeddings(self):\r\n",
        "    #    # \"we choose to use the sum W + W_tilde as our word vectors\"\r\n",
        "    #    pass\r\n",
        "    \r\n",
        "    def make_context_vector(self, context):\r\n",
        "        idxs = [self.word_to_idx.get(w, self.unk_id) for w in context]\r\n",
        "        return torch.tensor(idxs, dtype=torch.long)\r\n",
        "\r\n",
        "    # Batch sampling function\r\n",
        "    def gen_batch(self):\r\n",
        "        if self.n_samples > self.index :\r\n",
        "            self.index = 0\r\n",
        "        self.index += self.batch_size\r\n",
        "        return self.data[self.index - self.batch_size, self.index]\r\n",
        "    \r\n",
        "    def train(self, num_epochs, optimizer, loss_function = nn.NLLLoss()):\r\n",
        "        \"\"\"trains the model over num_epochs epochs, with the optimizer specified in the parameters.\"\"\"\r\n",
        "        \r\n",
        "        losses = []\r\n",
        "        #num_batches = int(self.len_token_text/self.batch_size)\r\n",
        "        for epoch in range(num_epochs):\r\n",
        "            total_loss = 0\r\n",
        "            print(\"Beginning epoch %d\" %epoch)\r\n",
        "            #for batch in tqdm(range(num_batches)) :\r\n",
        "            for context, target in self.data :\r\n",
        "                context_vector = self.make_context_vector(context)\r\n",
        "                self.zero_grad()\r\n",
        "                nll_prob = self.__call__(context_vector)\r\n",
        "                loss = loss_function(nll_prob, Variable(torch.tensor([self.word_to_idx[target]])))\r\n",
        "                loss.backward()\r\n",
        "                optimizer.step() \r\n",
        "                \r\n",
        "                total_loss += loss.item()\r\n",
        "              \r\n",
        "            losses.append(total_loss)\r\n",
        "\r\n",
        "            print('Epoch : %d, mean loss : %.02f, loss : %.02f' % (epoch, np.mean(losses), total_loss))\r\n",
        "            print()\r\n",
        "\r\n",
        "        return losses \r\n",
        "\r\n",
        "    def predict(self, sentence) :\r\n",
        "        \"\"\"\r\n",
        "        returns the embedding that belongs to the given sentence (str)\r\n",
        "        \"\"\"\r\n",
        "        sentence = sentence.lower()\r\n",
        "        tokens = word_tokenize(sentence)\r\n",
        "        token_ids = [self.word_to_idx.get(word, self.unk_id) for word in tokens]\r\n",
        "        return self.embeddings.weight.data[token_ids]\r\n",
        "\r\n",
        "    def get_context(self, context) :\r\n",
        "        context_vector = self.make_context_vector(context)\r\n",
        "        nll_prob = model(context_vector).data.numpy()\r\n",
        "        max_idx = np.argmax(nll_prob)\r\n",
        "        return self.idx_to_word[max_idx]"
      ],
      "execution_count": null,
      "outputs": []
    },
    {
      "cell_type": "code",
      "metadata": {
        "id": "jomRJvVR-EDz"
      },
      "source": [
        "# Plot loss fn\r\n",
        "def plot_loss_fn(losses, title):\r\n",
        "    plt.plot(range(len(losses)), losses)\r\n",
        "    plt.xlabel('Epoch')\r\n",
        "    plt.ylabel('Loss')\r\n",
        "    plt.title(title)\r\n",
        "    plt.figure()\r\n",
        "\r\n",
        "def get_word(model, word):\r\n",
        "    \"\"\"\r\n",
        "    returns the embedding that belongs to the given word (str)\r\n",
        "    \"\"\"\r\n",
        "    return model.predict(word).squeeze()\r\n",
        "\r\n",
        "def closest(model, vec, n = 10):\r\n",
        "    \"\"\"\r\n",
        "    finds the closest words for a given vector\r\n",
        "    \"\"\"\r\n",
        "    all_dists = [(w, torch.dist(vec, get_word(model, w))) for w in model.word_to_idx]\r\n",
        "    return sorted(all_dists, key=lambda t: t[1])[:n]\r\n",
        "\r\n",
        "# some helper fn\r\n",
        "def print_tuples(tuples):\r\n",
        "    for tuple in tuples:\r\n",
        "        print('(%.4f) %s' % (tuple[1], tuple[0]))\r\n",
        "\r\n",
        "# word analogies in the form w1 : w2 :: w3 : ?\r\n",
        "def analogy(model, w1, w2, w3, n=5, filter_given=True):\r\n",
        "    print('\\n[%s : %s :: %s : ?]' % (w1, w2, w3))\r\n",
        "   \r\n",
        "    # w2 - w1 + w3 = w4\r\n",
        "    closest_words = closest(model, get_word(model, w2) - get_word(model, w1) + get_word(model, w3))\r\n",
        "    \r\n",
        "    # Optionally filter out given words\r\n",
        "    if filter_given:\r\n",
        "        closest_words = [t for t in closest_words if t[0] not in [w1, w2, w3]]\r\n",
        "        \r\n",
        "    print_tuples(closest_words[:n])"
      ],
      "execution_count": null,
      "outputs": []
    },
    {
      "cell_type": "markdown",
      "metadata": {
        "id": "WofMb5lR-UGX"
      },
      "source": [
        "\r\n",
        "\r\n",
        "---\r\n",
        "\r\n"
      ]
    },
    {
      "cell_type": "code",
      "metadata": {
        "colab": {
          "base_uri": "https://localhost:8080/"
        },
        "id": "LQRPFa1I-U2m",
        "outputId": "d0571831-739e-47cc-c84e-b299d787ae0f"
      },
      "source": [
        "! git clone https://github.com/balazs-vida/glove-pytorch"
      ],
      "execution_count": null,
      "outputs": [
        {
          "output_type": "stream",
          "text": [
            "Cloning into 'glove-pytorch'...\n",
            "remote: Enumerating objects: 13, done.\u001b[K\n",
            "remote: Total 13 (delta 0), reused 0 (delta 0), pack-reused 13\u001b[K\n",
            "Unpacking objects: 100% (13/13), done.\n"
          ],
          "name": "stdout"
        }
      ]
    },
    {
      "cell_type": "code",
      "metadata": {
        "id": "aMTTBvtK-R2K"
      },
      "source": [
        "txt_file = \"/content/glove-pytorch/short_story.txt\"\r\n",
        "\r\n",
        "# Open and read in text\r\n",
        "with open(txt_file, 'r') as f :\r\n",
        "    corpus = f.read().lower()"
      ],
      "execution_count": null,
      "outputs": []
    },
    {
      "cell_type": "code",
      "metadata": {
        "colab": {
          "base_uri": "https://localhost:8080/"
        },
        "id": "8ujCrzYQ-b3O",
        "outputId": "ed38cfd4-13a0-4eea-e601-984110e24b48"
      },
      "source": [
        "CONTEXT_SIZE = 10\r\n",
        "data, vocab, len_token_text = get_data(corpus, vocab = None, context_size = CONTEXT_SIZE)\r\n",
        "\r\n",
        "print(data[:3])"
      ],
      "execution_count": null,
      "outputs": [
        {
          "output_type": "stream",
          "text": [
            "# of tokens:  5546 \n",
            " ['the', 'last', 'question', 'was', 'asked', 'for', 'the', 'first', 'time', ',']\n",
            "[(['__pad__', '__pad__', '__pad__', '__pad__', '__pad__', '__pad__', '__pad__', '__pad__', '__pad__', '__pad__', 'the', 'last', 'question', 'was', 'asked', 'for', 'the', 'first', 'time', ',', 'half'], 'the'), (['__pad__', '__pad__', '__pad__', '__pad__', '__pad__', '__pad__', '__pad__', '__pad__', '__pad__', 'the', 'last', 'question', 'was', 'asked', 'for', 'the', 'first', 'time', ',', 'half', 'in'], 'last'), (['__pad__', '__pad__', '__pad__', '__pad__', '__pad__', '__pad__', '__pad__', '__pad__', 'the', 'last', 'question', 'was', 'asked', 'for', 'the', 'first', 'time', ',', 'half', 'in', 'jest'], 'question')]\n"
          ],
          "name": "stdout"
        }
      ]
    },
    {
      "cell_type": "code",
      "metadata": {
        "id": "tSneGl3o2eMr"
      },
      "source": [
        "model = CBOW(vocab, len_token_text, data, embedding_dim = 2, hidden_dim = 128, batch_size = 64)"
      ],
      "execution_count": null,
      "outputs": []
    },
    {
      "cell_type": "code",
      "metadata": {
        "id": "udMBHboN3OAw"
      },
      "source": [
        "LEARNING_RATE = 0.001\r\n",
        "optimizer = optim.SGD(model.parameters(), lr = LEARNING_RATE)"
      ],
      "execution_count": null,
      "outputs": []
    },
    {
      "cell_type": "code",
      "metadata": {
        "colab": {
          "base_uri": "https://localhost:8080/"
        },
        "id": "QYNFbW1j1zYs",
        "outputId": "30a3d8e7-7f27-4e4e-becf-4478643d493e"
      },
      "source": [
        "EPOCHS = 10\r\n",
        "losses = model.train(num_epochs = EPOCHS, optimizer = optimizer, loss_function = nn.NLLLoss())"
      ],
      "execution_count": null,
      "outputs": [
        {
          "output_type": "stream",
          "text": [
            "Beginning epoch 0\n",
            "Epoch : 0, mean loss : 34634.34, loss : 34634.34\n",
            "\n",
            "Beginning epoch 1\n",
            "Epoch : 1, mean loss : 33528.67, loss : 32423.01\n",
            "\n",
            "Beginning epoch 2\n",
            "Epoch : 2, mean loss : 32934.65, loss : 31746.60\n",
            "\n",
            "Beginning epoch 3\n",
            "Epoch : 3, mean loss : 32527.60, loss : 31306.47\n",
            "\n",
            "Beginning epoch 4\n",
            "Epoch : 4, mean loss : 32219.19, loss : 30985.52\n",
            "\n",
            "Beginning epoch 5\n",
            "Epoch : 5, mean loss : 31971.93, loss : 30735.64\n",
            "\n",
            "Beginning epoch 6\n",
            "Epoch : 6, mean loss : 31766.54, loss : 30534.18\n",
            "\n",
            "Beginning epoch 7\n",
            "Epoch : 7, mean loss : 31591.57, loss : 30366.83\n",
            "\n",
            "Beginning epoch 8\n",
            "Epoch : 8, mean loss : 31439.81, loss : 30225.69\n",
            "\n",
            "Beginning epoch 9\n",
            "Epoch : 9, mean loss : 31306.10, loss : 30102.74\n",
            "\n"
          ],
          "name": "stdout"
        }
      ]
    },
    {
      "cell_type": "code",
      "metadata": {
        "colab": {
          "base_uri": "https://localhost:8080/",
          "height": 312
        },
        "id": "dl72mUf_sWJ0",
        "outputId": "6c4e9365-a24a-431c-9927-bcd183add87a"
      },
      "source": [
        "plot_loss_fn(losses, \"CBOW loss function\")"
      ],
      "execution_count": null,
      "outputs": [
        {
          "output_type": "display_data",
          "data": {
            "image/png": "[encoded data removed]",
            "text/plain": [
              "<Figure size 432x288 with 1 Axes>"
            ]
          },
          "metadata": {
            "tags": [],
            "needs_background": "light"
          }
        },
        {
          "output_type": "display_data",
          "data": {
            "text/plain": [
              "<Figure size 432x288 with 0 Axes>"
            ]
          },
          "metadata": {
            "tags": []
          }
        }
      ]
    },
    {
      "cell_type": "code",
      "metadata": {
        "colab": {
          "base_uri": "https://localhost:8080/",
          "height": 35
        },
        "id": "1hi1QunX_-P6",
        "outputId": "4e316eb6-8ea0-4799-cbf3-0c4235548196"
      },
      "source": [
        "context = ['process','Computational','are', 'abstract']\r\n",
        "model.get_context(context)"
      ],
      "execution_count": null,
      "outputs": [
        {
          "output_type": "execute_result",
          "data": {
            "application/vnd.google.colaboratory.intrinsic+json": {
              "type": "string"
            },
            "text/plain": [
              "'.'"
            ]
          },
          "metadata": {
            "tags": []
          },
          "execution_count": 20
        }
      ]
    },
    {
      "cell_type": "code",
      "metadata": {
        "colab": {
          "base_uri": "https://localhost:8080/"
        },
        "id": "HBpc87eT5_Rw",
        "outputId": "56797bdb-78a1-4e36-cbbc-b7bd01454f4d"
      },
      "source": [
        "sentence = \"unk1 Hello world unk2\"\r\n",
        "vec = model.predict(sentence)\r\n",
        "print(vec.shape)\r\n",
        "vec"
      ],
      "execution_count": null,
      "outputs": [
        {
          "output_type": "stream",
          "text": [
            "torch.Size([4, 2])\n"
          ],
          "name": "stdout"
        },
        {
          "output_type": "execute_result",
          "data": {
            "text/plain": [
              "tensor([[-0.1774, -0.1825],\n",
              "        [-0.1774, -0.1825],\n",
              "        [-0.3051,  1.5307],\n",
              "        [-0.1774, -0.1825]])"
            ]
          },
          "metadata": {
            "tags": []
          },
          "execution_count": 12
        }
      ]
    },
    {
      "cell_type": "code",
      "metadata": {
        "colab": {
          "base_uri": "https://localhost:8080/"
        },
        "id": "ROzlv_X7_k28",
        "outputId": "1176e080-55ca-43c2-be09-15c7399b8620"
      },
      "source": [
        "word = \"time\"\r\n",
        "vector = get_word(model, word)\r\n",
        "vector"
      ],
      "execution_count": null,
      "outputs": [
        {
          "output_type": "execute_result",
          "data": {
            "text/plain": [
              "tensor([1.5470, 1.4468])"
            ]
          },
          "metadata": {
            "tags": []
          },
          "execution_count": 15
        }
      ]
    },
    {
      "cell_type": "code",
      "metadata": {
        "colab": {
          "base_uri": "https://localhost:8080/"
        },
        "id": "fkYYQy3-_n-P",
        "outputId": "69865cea-97d5-4adf-e823-147cda2935b0"
      },
      "source": [
        "closest(model, vector)"
      ],
      "execution_count": null,
      "outputs": [
        {
          "output_type": "execute_result",
          "data": {
            "text/plain": [
              "[('time', tensor(0.)),\n",
              " ('runs', tensor(0.0892)),\n",
              " ('good', tensor(0.2271)),\n",
              " ('dim', tensor(0.2347)),\n",
              " (\"'ve\", tensor(0.2815)),\n",
              " ('moment', tensor(0.2870)),\n",
              " ('vacation', tensor(0.3475)),\n",
              " ('best', tensor(0.3638)),\n",
              " ('promptly', tensor(0.3912)),\n",
              " ('thing', tensor(0.4009))]"
            ]
          },
          "metadata": {
            "tags": []
          },
          "execution_count": 18
        }
      ]
    },
    {
      "cell_type": "code",
      "metadata": {
        "colab": {
          "base_uri": "https://localhost:8080/"
        },
        "id": "h-Jf1WC9_51B",
        "outputId": "2875afc7-6516-448d-98af-089570f3f7e8"
      },
      "source": [
        "analogy(model, \"when\", \"time\", \"who\")"
      ],
      "execution_count": null,
      "outputs": [
        {
          "output_type": "stream",
          "text": [
            "\n",
            "[when : time :: who : ?]\n",
            "(0.1110) fundamentally\n",
            "(0.1525) shower\n",
            "(0.1738) ash\n",
            "(0.2062) never\n",
            "(0.2235) read\n"
          ],
          "name": "stdout"
        }
      ]
    },
    {
      "cell_type": "code",
      "metadata": {
        "colab": {
          "base_uri": "https://localhost:8080/",
          "height": 267
        },
        "id": "BXm2S35nAINy",
        "outputId": "4111f603-0c13-4518-d65c-ec7cc560c49a"
      },
      "source": [
        "N_WORDS = 30\r\n",
        "# Visualize embeddings\r\n",
        "#if EMBEDDING_SIZE == 2:\r\n",
        "if True :\r\n",
        "  # Pick some random words\r\n",
        "\tword_inds = np.random.choice(np.arange(len(vocab)), size = N_WORDS, replace=False)\r\n",
        "\tfor word_ind in word_inds:\r\n",
        "\t\tw_embed = model.embeddings.weight.data[word_ind].numpy()\r\n",
        "\t\tx, y = w_embed[0], w_embed[1]\r\n",
        "\t\tplt.scatter(x, y)\r\n",
        "\t\tplt.annotate(model.idx_to_word[word_ind], xy=(x, y), xytext=(5, 2),\r\n",
        "\t\t\ttextcoords='offset points', ha='right', va='bottom')\r\n",
        "\tplt.savefig(\"glove.png\")"
      ],
      "execution_count": null,
      "outputs": [
        {
          "output_type": "display_data",
          "data": {
            "image/png": "[encoded data removed]",
            "text/plain": [
              "<Figure size 432x288 with 1 Axes>"
            ]
          },
          "metadata": {
            "tags": [],
            "needs_background": "light"
          }
        }
      ]
    }
  ]
}