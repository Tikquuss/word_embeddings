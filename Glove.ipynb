{
  "nbformat": 4,
  "nbformat_minor": 0,
  "metadata": {
    "colab": {
      "name": "Glove.ipynb",
      "provenance": [],
      "collapsed_sections": [],
      "include_colab_link": true
    },
    "kernelspec": {
      "name": "python3",
      "display_name": "Python 3"
    }
  },
  "cells": [
    {
      "cell_type": "markdown",
      "metadata": {
        "id": "view-in-github",
        "colab_type": "text"
      },
      "source": [
        "<a href=\"https://colab.research.google.com/github/Tikquuss/word_embeddings/blob/main/Glove.ipynb\" target=\"_parent\"><img src=\"https://colab.research.google.com/assets/colab-badge.svg\" alt=\"Open In Colab\"/></a>"
      ]
    },
    {
      "cell_type": "markdown",
      "metadata": {
        "id": "JwpweOgYGGWm"
      },
      "source": [
        "**[GloVe ](https://nlp.stanford.edu/projects/glove/) (Global Vectors for Word Representation)  in pytorch**"
      ]
    },
    {
      "cell_type": "markdown",
      "metadata": {
        "id": "aQUMLWaDV0A0"
      },
      "source": [
        "# **Theory**"
      ]
    },
    {
      "cell_type": "markdown",
      "metadata": {
        "id": "Xnd2f1bpGxj0"
      },
      "source": [
        "GloVe, coined from Global Vectors, is a model for distributed word representation. The model is an unsupervised learning algorithm for obtaining vector representations for words. The GloVe model learns word vectors by examining word co-occurrences within a text corpus.  \r\n",
        "\r\n",
        "Let the matrix of word-word co-occurrence counts be denoted by $X$, whose entries $X_{ij}$ tabulate the number of times word $j$ occurs in the context of word $i$. Let $X_i = \\sum_k X_{ik}$ be the number of times any word appears\r\n",
        "in the context of word $i$. Finally, let $P_{ij} = X_{ij}/X_i$ be the probability that word $j$ appear in the context of word $i$.\r\n",
        "\r\n",
        "The relationship between two words $i$ and $j$ can be examined by studying the ratio of their co-occurrence probabilities with various probe words, $k$. For words $k$ related to $i$ but not $j$, we expect the ratio $P_{ik}/P_{jk}$ will be large. Similarly, for words $k$ related to $j$ but not $i$, the ratio should be small. For words $k$ that are either related to both $i$ and $j$, or to neither, the ratio should be close to one. \r\n",
        "\r\n",
        "An example relating to the concepts of thermodinamics is given in the original paper with $i = ice$, $j = steam$ and $k \\in \\{solid, gas, water, fashion\\}$\r\n",
        "\r\n",
        "The above argument suggests that the appropriate starting point for word vector learning should be with ratios of co-occurrence probabilities rather than the probabilities themselves. Noting that the ratio $P_{ik}/P_{jk}$ depends on three words $i$, $j$, and $k$, the most general model takes the form $F(w_i, w_j, \\tilde{w}_k) = P_{ik}/P_{jk}$ where $w \\in \\mathbb{R}^d$ are word vectors and $\\tilde{w} \\in \\mathbb{R}^d$ are separate context word vectors.\r\n",
        "\r\n",
        "To enforce $F$ to encode the information present the ratio $P_{ik}/P_{jk}$ in the word vector space, the authors restrict $F$\r\n",
        "to depend only on the difference of the two target words $i$ and $j$, since vector spaces are inherently linear structures.\r\n",
        "To also avoid $F$ to obfuscate the linear structure we are trying to capture as it transforms vectors into scalars, the authors passed the dot product $(w_i - w_j)^T \\tilde{w}_k$ as an $F$ parameter instead of $w_i - w_j$ and $\\tilde{w}_k$ themselves.\r\n",
        "\r\n",
        "$$F((w_i - w_j)^T \\tilde{w}_k) = P_{ik}/P_{jk}$$ $\\text{ then }$ $$F(w_i^T \\tilde{w}_k) = P_{ik} = X_{ik}/X_i \\text{ (1)}$$\r\n",
        "\r\n",
        "The authors require that $F$ be a homomorphism between the groups $(\\mathbb{R},+)$ and $(\\mathbb{R}_{>0}, ×)$, i.e.,\r\n",
        "\r\n",
        "$$F((w_i - w_j)^T \\tilde{w}_k) = F(w_i^T \\tilde{w}_k - w_j^T \\tilde{w}_k) = \\frac{F(w_i^T \\tilde{w}_k)}{F(w_j^T \\tilde{w}_k)}$$ $\\text{ then }$ $$F = exp \\text{ (2)}$$\r\n",
        "\r\n",
        "$$\\text{(1) and (2)} \\Rightarrow w_i^T \\tilde{w}_k = log(P_{ik}) = log(X_{ik}) - log(X_i)$$\r\n",
        " \r\n",
        "We will then produce vectors with a soft constraint that for each word pair of word $i$ and word $j$\r\n",
        "\r\n",
        "$$w_i^T \\tilde{w}_j + b_i + \\tilde{b}_j = \\log X_{ij}$$\r\n",
        "\r\n",
        "where $b_i$ and $\\tilde{b}_j$ are scalar bias terms associated with words $i$ and $j$, respectively. \r\n",
        "\r\n",
        "We’ll do this by minimizing an objective function $J$, which evaluates the sum of all squared errors based on the above equation, weighted with a function $f$:\r\n",
        "\r\n",
        "$$J=\\sum_{i=1}^{V} \\sum_{j=1}^{V} f(X_{ij}) (w_i^T \\tilde{w}_j + b_i + \\tilde{b}_j - \\log X_{ij})^2$$\r\n",
        "\r\n",
        "We choose an $f$ that helps prevents common word pairs (i.e., those with large $X_{ij}$ values) from skewing our objective too much:\r\n",
        "$$\r\n",
        "f(X_{ij}) = \\left\\{\r\n",
        "    \\begin{array}{ll}\r\n",
        "        \\bigg(\\frac{X_{ij}}{x_{max}}\\bigg)^{\\alpha} & \\mbox{if } X_{ij} \\lt x_{max} \\\\\r\n",
        "        1 & \\mbox{otherwise}\r\n",
        "    \\end{array}\r\n",
        "\\right.\r\n",
        "$$\r\n",
        "\r\n",
        "When we encounter extremely common word pairs (where $X_{ij} \\gt x_{max}$) this function will cut off its normal output and simply return $1$. For all other word pairs, we return some weight in the range $(0,1)$, where the distribution of weights in this range is decided by $\\alpha$.\r\n",
        "\r\n",
        "The authors use $x_{max} = 100 \\text{ and } \\alpha = 3/4$"
      ]
    },
    {
      "cell_type": "markdown",
      "metadata": {
        "id": "3OzkJv2p9DNd"
      },
      "source": [
        "Before starting, we advise you to see this [notebook](https://github.com/spro/practical-pytorch/blob/master/glove-word-vectors/glove-word-vectors.ipynb) illustrating the use of pre-trained models with pytorch."
      ]
    },
    {
      "cell_type": "markdown",
      "metadata": {
        "id": "tXB-C-IiV7_d"
      },
      "source": [
        "# **Implementation**"
      ]
    },
    {
      "cell_type": "code",
      "metadata": {
        "id": "L2QQjSFIVB14",
        "colab": {
          "base_uri": "https://localhost:8080/"
        },
        "outputId": "87719379-0730-46db-ca99-cba2d2f218a7"
      },
      "source": [
        "%matplotlib inline\r\n",
        "import matplotlib.pyplot as plt\r\n",
        "\r\n",
        "import numpy as np\r\n",
        "from tqdm import tqdm\r\n",
        "\r\n",
        "import torch\r\n",
        "import torch.nn as nn\r\n",
        "import torch.optim as optim\r\n",
        "from torch.autograd import Variable\r\n",
        "\r\n",
        "from nltk.tokenize import word_tokenize\r\n",
        "import nltk\r\n",
        "nltk.download('punkt')"
      ],
      "execution_count": null,
      "outputs": [
        {
          "output_type": "stream",
          "text": [
            "[nltk_data] Downloading package punkt to /root/nltk_data...\n",
            "[nltk_data]   Unzipping tokenizers/punkt.zip.\n"
          ],
          "name": "stdout"
        },
        {
          "output_type": "execute_result",
          "data": {
            "text/plain": [
              "True"
            ]
          },
          "metadata": {
            "tags": []
          },
          "execution_count": 1
        }
      ]
    },
    {
      "cell_type": "markdown",
      "metadata": {
        "id": "I51AyQ2TPWl8"
      },
      "source": [
        "Before we train the actual model, we need to construct a co-occurrence matrix $X$, where a cell $X_{ij}$ is a “strength” which represents how often the word $i$ appears in the context of the word $j$. We run through our corpus just once to build the matrix $X$, and from then on use this co-occurrence data in place of the actual corpus. We will construct our model based only on the values collected in $X$."
      ]
    },
    {
      "cell_type": "code",
      "metadata": {
        "id": "GJmoIlSRacCj"
      },
      "source": [
        "def build_cooccur(corpus, vocab = None, context_size = 10, min_count = None) :\r\n",
        "   \r\n",
        "    # Create tokenized text (list) and vocabulary (set of unique words)\r\n",
        "    token_text = word_tokenize(corpus)\r\n",
        "    len_token_text = len(token_text)\r\n",
        "\r\n",
        "    print(\"# of tokens: \", len(token_text), '\\n', token_text[:10])\r\n",
        "\r\n",
        "    # set of vocab items\r\n",
        "    if vocab is None :\r\n",
        "        vocab = set(token_text)\r\n",
        "\r\n",
        "    vocab_size = len(vocab)\r\n",
        "    print(\"size of vocabulary: \", vocab_size)\r\n",
        "\r\n",
        "    # dictionaries mapping from word to index and vica versa\r\n",
        "    word_to_ix = {word: i for i, word in enumerate(vocab)}\r\n",
        "    ix_to_word = {i: word for i, word in enumerate(vocab)}\r\n",
        "\r\n",
        "    # Construct co-occurence matrix\r\n",
        "    co_occ_mat = np.zeros((vocab_size, vocab_size))\r\n",
        "    for i in range(len_token_text):\r\n",
        "        ix = word_to_ix[token_text[i]]\r\n",
        "        for dist in range(1, context_size + 1):\r\n",
        "            if i - dist > 0:\r\n",
        "                left_ix = word_to_ix[token_text[i - dist]]\r\n",
        "                co_occ_mat[ix, left_ix] += 1.0 / dist\r\n",
        "            if i + dist < len_token_text:\r\n",
        "                right_ix = word_to_ix[token_text[i + dist]]\r\n",
        "                co_occ_mat[ix, right_ix] += 1.0 / dist\r\n",
        "\r\n",
        "    print(\"shape of co-occurrence matrix:\", co_occ_mat.shape)\r\n",
        "\r\n",
        "    return co_occ_mat, vocab, len_token_text"
      ],
      "execution_count": null,
      "outputs": []
    },
    {
      "cell_type": "markdown",
      "metadata": {
        "id": "gFYgOZu5uZo-"
      },
      "source": [
        "Once we’ve prepared $X$, our task is to decide vector values in continuous space for each word we observe in the corpus. Intuitively speaking, we want to build word vectors that retain some useful information about how every pair of words $i$ and $j$ co-occur."
      ]
    },
    {
      "cell_type": "code",
      "metadata": {
        "id": "007_8IZzu2Da"
      },
      "source": [
        "class Glove(nn.Module):\r\n",
        "\r\n",
        "    def __init__(self, vocab : set, len_token_text : int, comat, embedding_size, x_max, alpha, batch_size):\r\n",
        "        super(Glove, self).__init__()\r\n",
        "        \r\n",
        "        self.len_token_text = len_token_text\r\n",
        "        unk = \"unk\"\r\n",
        "        vocab = {unk}.union(vocab)\r\n",
        "        self.vocab = vocab\r\n",
        "        vocab_size = len(vocab)\r\n",
        "        self.vocab_size = vocab_size\r\n",
        "        self.word_to_ix = {word: i for i, word in enumerate(vocab)}\r\n",
        "        self.ix_to_word = {i: word for i, word in enumerate(vocab)}\r\n",
        "        self.unk_id = self.word_to_ix[\"unk\"]\r\n",
        "\r\n",
        "        # embedding matrices\r\n",
        "        self.embedding_V = nn.Embedding(vocab_size, embedding_size) # embedding matrix of center words\r\n",
        "        self.embedding_U = nn.Embedding(vocab_size, embedding_size) # embedding matrix of context words\r\n",
        "\r\n",
        "        # biases\r\n",
        "        self.v_bias = nn.Embedding(vocab_size, 1)\r\n",
        "        self.u_bias = nn.Embedding(vocab_size, 1)\r\n",
        "        \r\n",
        "        # initialize all params\r\n",
        "        for params in self.parameters():\r\n",
        "            nn.init.uniform_(params, a = -0.5, b = 0.5)\r\n",
        "            \r\n",
        "        #hyperparams\r\n",
        "        self.x_max = x_max\r\n",
        "        self.alpha = alpha\r\n",
        "        self.comat = comat\r\n",
        "        # Non-zero co-occurrences\r\n",
        "        # https://docs.scipy.org/doc/numpy-1.15.0/reference/generated/numpy.nonzero.html\r\n",
        "        # returns a 2-D array, with a row for each non-zero element            \r\n",
        "        self.co_occs = np.transpose(np.nonzero(comat))\r\n",
        "        #print(\"non-zero co-occurrences:\\n\", self.co_occs)\r\n",
        "\r\n",
        "        self.batch_size = batch_size\r\n",
        "    \r\n",
        "    def forward(self, center_word_lookup, context_word_lookup):\r\n",
        "        # indexing into the embedding matrices\r\n",
        "        center_embed = self.embedding_V(center_word_lookup)\r\n",
        "        target_embed = self.embedding_U(context_word_lookup)\r\n",
        "\r\n",
        "        center_bias = self.v_bias(center_word_lookup).squeeze(1)\r\n",
        "        target_bias = self.u_bias(context_word_lookup).squeeze(1)\r\n",
        "\r\n",
        "        # elements of the co-occurence matrix\r\n",
        "        co_occurrences = torch.tensor([self.comat[center_word_lookup[i].item(), context_word_lookup[i].item()]\r\n",
        "                                       for i in range(self.batch_size)])\r\n",
        "        \r\n",
        "        # weight_fn applied to non-zero co-occurrences\r\n",
        "        weights = torch.tensor([self.weight_fn(var) for var in co_occurrences])\r\n",
        "\r\n",
        "        # the loss as described in the paper\r\n",
        "        loss = torch.sum(torch.pow((torch.sum(center_embed * target_embed, dim=1)\r\n",
        "            + center_bias + target_bias) - torch.log(co_occurrences), 2) * weights)\r\n",
        "        \r\n",
        "        return loss\r\n",
        "        \r\n",
        "    def weight_fn(self, x):\r\n",
        "        # the proposed weighting fn\r\n",
        "        if x < self.x_max:\r\n",
        "            return (x / self.x_max) ** self.alpha\r\n",
        "        return 1\r\n",
        "        \r\n",
        "    def embeddings(self):\r\n",
        "        # \"we choose to use the sum W + W_tilde as our word vectors\"\r\n",
        "        return self.embedding_V.weight.data + self.embedding_U.weight.data\r\n",
        "\r\n",
        "    # Batch sampling function\r\n",
        "    def gen_batch(self):\r\n",
        "        \"\"\"\r\n",
        "        picks random indices for lookup in the embedding matrix\r\n",
        "        \"stochastically sampling non-zero elements from X [ie. the co-occurrence matrix]\"\r\n",
        "        \"\"\"\t\r\n",
        "        sample = np.random.choice(np.arange(len(self.co_occs)), size = self.batch_size, replace=False)\r\n",
        "        v_vecs_ix, u_vecs_ix = [], []\r\n",
        "        \r\n",
        "        for chosen in sample:\r\n",
        "            ind = tuple(self.co_occs[chosen])     \r\n",
        "            lookup_ix_v = ind[0]\r\n",
        "            lookup_ix_u = ind[1]\r\n",
        "            \r\n",
        "            v_vecs_ix.append(lookup_ix_v)\r\n",
        "            u_vecs_ix.append(lookup_ix_u) \r\n",
        "            \r\n",
        "        return torch.tensor(v_vecs_ix), torch.tensor(u_vecs_ix)\r\n",
        "\r\n",
        "    def train(self, num_epochs, optimizer):\r\n",
        "        \"\"\"trains the model over num_epochs epochs, with the optimizer specified in the parameters.\"\"\"\r\n",
        "        losses = []\r\n",
        "        num_batches = int(self.len_token_text/self.batch_size)\r\n",
        "        for epoch in range(num_epochs):\r\n",
        "            total_loss = 0\r\n",
        "            print(\"Beginning epoch %d\" %epoch)\r\n",
        "            for batch in tqdm(range(num_batches)):\r\n",
        "                self.zero_grad()\r\n",
        "                data = self.gen_batch()\r\n",
        "                loss = self.__call__(*data)\r\n",
        "                loss.backward()\r\n",
        "                optimizer.step()\r\n",
        "                total_loss += loss.item()\r\n",
        "            losses.append(total_loss)\r\n",
        "            print()\r\n",
        "            print('Epoch : %d, mean loss : %.02f' % (epoch, np.mean(losses)))\r\n",
        "        return losses \r\n",
        "\r\n",
        "    def predict(self, sentence) :\r\n",
        "        \"\"\"\r\n",
        "        returns the embedding that belongs to the given sentence (str)\r\n",
        "        \"\"\"\r\n",
        "        sentence = sentence.lower()\r\n",
        "        tokens = word_tokenize(sentence)\r\n",
        "        token_ids = [self.word_to_ix.get(word, self.unk_id) for word in tokens]\r\n",
        "        return self.embeddings()[token_ids]"
      ],
      "execution_count": null,
      "outputs": []
    },
    {
      "cell_type": "markdown",
      "metadata": {
        "id": "z9B0jk7YiiNs"
      },
      "source": [
        "**Useful functions**"
      ]
    },
    {
      "cell_type": "code",
      "metadata": {
        "id": "OYcxtgF_ia8Y"
      },
      "source": [
        "# Plot loss fn\r\n",
        "def plot_loss_fn(losses, title):\r\n",
        "    plt.plot(range(len(losses)), losses)\r\n",
        "    plt.xlabel('Epoch')\r\n",
        "    plt.ylabel('Loss')\r\n",
        "    plt.title(title)\r\n",
        "    plt.figure()\r\n",
        "\r\n",
        "def get_word(model, word):\r\n",
        "    \"\"\"\r\n",
        "    returns the embedding that belongs to the given word (str)\r\n",
        "    \"\"\"\r\n",
        "    return model.predict(word).squeeze()\r\n",
        "\r\n",
        "def closest(model, vec, n = 10):\r\n",
        "    \"\"\"\r\n",
        "    finds the closest words for a given vector\r\n",
        "    \"\"\"\r\n",
        "    all_dists = [(w, torch.dist(vec, get_word(model, w))) for w in model.word_to_ix]\r\n",
        "    return sorted(all_dists, key=lambda t: t[1])[:n]\r\n",
        "\r\n",
        "# some helper fn\r\n",
        "def print_tuples(tuples):\r\n",
        "    for tuple in tuples:\r\n",
        "        print('(%.4f) %s' % (tuple[1], tuple[0]))\r\n",
        "\r\n",
        "# word analogies in the form w1 : w2 :: w3 : ?\r\n",
        "def analogy(model, w1, w2, w3, n=5, filter_given=True):\r\n",
        "    print('\\n[%s : %s :: %s : ?]' % (w1, w2, w3))\r\n",
        "   \r\n",
        "    # w2 - w1 + w3 = w4\r\n",
        "    closest_words = closest(model, get_word(model, w2) - get_word(model, w1) + get_word(model, w3))\r\n",
        "    \r\n",
        "    # Optionally filter out given words\r\n",
        "    if filter_given:\r\n",
        "        closest_words = [t for t in closest_words if t[0] not in [w1, w2, w3]]\r\n",
        "        \r\n",
        "    print_tuples(closest_words[:n])"
      ],
      "execution_count": null,
      "outputs": []
    },
    {
      "cell_type": "markdown",
      "metadata": {
        "id": "VqBDLwRUiwpU"
      },
      "source": [
        "## **Experiments**"
      ]
    },
    {
      "cell_type": "markdown",
      "metadata": {
        "id": "q2aIvHnxksHy"
      },
      "source": [
        "**Data**"
      ]
    },
    {
      "cell_type": "code",
      "metadata": {
        "colab": {
          "base_uri": "https://localhost:8080/"
        },
        "id": "6k6xGgBYkwZ_",
        "outputId": "1029c474-c67b-4904-d9d3-27c9af59861d"
      },
      "source": [
        "#! wget -c https://github.com/balazs-vida/glove-pytorch/blob/master/short_story.txt -P /content\r\n",
        "! git clone https://github.com/balazs-vida/glove-pytorch"
      ],
      "execution_count": null,
      "outputs": [
        {
          "output_type": "stream",
          "text": [
            "Cloning into 'glove-pytorch'...\n",
            "remote: Enumerating objects: 13, done.\u001b[K\n",
            "remote: Total 13 (delta 0), reused 0 (delta 0), pack-reused 13\u001b[K\n",
            "Unpacking objects: 100% (13/13), done.\n"
          ],
          "name": "stdout"
        }
      ]
    },
    {
      "cell_type": "code",
      "metadata": {
        "id": "WgaDkLn4kzma"
      },
      "source": [
        "#txt_file = \"short_story.txt\"\r\n",
        "txt_file = \"/content/glove-pytorch/short_story.txt\"\r\n",
        "\r\n",
        "# Open and read in text\r\n",
        "with open(txt_file, 'r') as f :\r\n",
        "    corpus = f.read().lower()"
      ],
      "execution_count": null,
      "outputs": []
    },
    {
      "cell_type": "code",
      "metadata": {
        "colab": {
          "base_uri": "https://localhost:8080/"
        },
        "id": "HS8apB49kJKX",
        "outputId": "21f08d10-e334-45d5-c504-d00847563e7a"
      },
      "source": [
        "# \"Unless otherwise noted, we use a context of ten words to the left and ten words to the right.\"\r\n",
        "CONTEXT_SIZE = 10\r\n",
        "\r\n",
        "co_occ_mat, vocab, len_token_text = build_cooccur(corpus, context_size = CONTEXT_SIZE)"
      ],
      "execution_count": null,
      "outputs": [
        {
          "output_type": "stream",
          "text": [
            "# of tokens:  5526 \n",
            " ['the', 'last', 'question', 'was', 'asked', 'for', 'the', 'first', 'time', ',']\n",
            "size of vocabulary:  1115\n",
            "shape of co-occurrence matrix: (1115, 1115)\n"
          ],
          "name": "stdout"
        }
      ]
    },
    {
      "cell_type": "code",
      "metadata": {
        "id": "oNIzvUJZlPUa"
      },
      "source": [
        "EMBEDDING_SIZE = 2 # 50\r\n",
        "\r\n",
        "# \"For all our experiments, we set x_max = 100, alpha = 3/4\"\r\n",
        "X_MAX = 100\r\n",
        "ALPHA = 0.75\r\n",
        "\r\n",
        "BATCH_SIZE = 64\r\n",
        "\r\n",
        "model = Glove(vocab, len_token_text, comat = co_occ_mat, embedding_size = EMBEDDING_SIZE, x_max = X_MAX, alpha = ALPHA, batch_size = BATCH_SIZE)"
      ],
      "execution_count": null,
      "outputs": []
    },
    {
      "cell_type": "code",
      "metadata": {
        "id": "6FM9DYQfv5Sq"
      },
      "source": [
        "# \"[we] train the model using AdaGrad, [...] with initial learning rate of 0.05\"\r\n",
        "LEARNING_RATE = 0.05\r\n",
        "optimizer = optim.Adagrad(model.parameters(), lr = LEARNING_RATE)"
      ],
      "execution_count": null,
      "outputs": []
    },
    {
      "cell_type": "code",
      "metadata": {
        "colab": {
          "base_uri": "https://localhost:8080/"
        },
        "id": "uD5jYo5AfG5T",
        "outputId": "0c959b6a-e1c4-4a3b-cb4a-f61be5777da0"
      },
      "source": [
        "# \"we run 50 iterations for vectors smaller than 300 dimensions [...]\"\r\n",
        "EPOCHS = 500\r\n",
        "losses = model.train(num_epochs = EPOCHS, optimizer = optimizer)"
      ],
      "execution_count": null,
      "outputs": [
        {
          "output_type": "stream",
          "text": [
            " 20%|█▉        | 17/86 [00:00<00:00, 165.02it/s]"
          ],
          "name": "stderr"
        },
        {
          "output_type": "stream",
          "text": [
            "Beginning epoch 0\n"
          ],
          "name": "stdout"
        },
        {
          "output_type": "stream",
          "text": [
            "100%|██████████| 86/86 [00:00<00:00, 158.39it/s]\n",
            " 20%|█▉        | 17/86 [00:00<00:00, 165.08it/s]"
          ],
          "name": "stderr"
        },
        {
          "output_type": "stream",
          "text": [
            "Epoch : 0, mean loss : 248.59\n",
            "Beginning epoch 1\n"
          ],
          "name": "stdout"
        },
        {
          "output_type": "stream",
          "text": [
            "100%|██████████| 86/86 [00:00<00:00, 159.80it/s]\n",
            " 20%|█▉        | 17/86 [00:00<00:00, 165.31it/s]"
          ],
          "name": "stderr"
        },
        {
          "output_type": "stream",
          "text": [
            "Epoch : 1, mean loss : 211.12\n",
            "Beginning epoch 2\n"
          ],
          "name": "stdout"
        },
        {
          "output_type": "stream",
          "text": [
            "100%|██████████| 86/86 [00:00<00:00, 159.35it/s]\n",
            " 21%|██        | 18/86 [00:00<00:00, 173.57it/s]"
          ],
          "name": "stderr"
        },
        {
          "output_type": "stream",
          "text": [
            "Epoch : 2, mean loss : 203.74\n",
            "Beginning epoch 3\n"
          ],
          "name": "stdout"
        },
        {
          "output_type": "stream",
          "text": [
            "100%|██████████| 86/86 [00:00<00:00, 167.04it/s]\n",
            " 21%|██        | 18/86 [00:00<00:00, 171.23it/s]"
          ],
          "name": "stderr"
        },
        {
          "output_type": "stream",
          "text": [
            "Epoch : 3, mean loss : 199.32\n",
            "Beginning epoch 4\n"
          ],
          "name": "stdout"
        },
        {
          "output_type": "stream",
          "text": [
            "100%|██████████| 86/86 [00:00<00:00, 167.62it/s]\n",
            " 20%|█▉        | 17/86 [00:00<00:00, 168.39it/s]"
          ],
          "name": "stderr"
        },
        {
          "output_type": "stream",
          "text": [
            "Epoch : 4, mean loss : 193.20\n",
            "Beginning epoch 5\n"
          ],
          "name": "stdout"
        },
        {
          "output_type": "stream",
          "text": [
            "100%|██████████| 86/86 [00:00<00:00, 163.45it/s]\n",
            " 20%|█▉        | 17/86 [00:00<00:00, 165.77it/s]"
          ],
          "name": "stderr"
        },
        {
          "output_type": "stream",
          "text": [
            "Epoch : 5, mean loss : 188.76\n",
            "Beginning epoch 6\n"
          ],
          "name": "stdout"
        },
        {
          "output_type": "stream",
          "text": [
            "100%|██████████| 86/86 [00:00<00:00, 169.21it/s]\n",
            " 20%|█▉        | 17/86 [00:00<00:00, 163.85it/s]"
          ],
          "name": "stderr"
        },
        {
          "output_type": "stream",
          "text": [
            "Epoch : 6, mean loss : 185.42\n",
            "Beginning epoch 7\n"
          ],
          "name": "stdout"
        },
        {
          "output_type": "stream",
          "text": [
            "100%|██████████| 86/86 [00:00<00:00, 159.52it/s]\n",
            " 20%|█▉        | 17/86 [00:00<00:00, 166.81it/s]"
          ],
          "name": "stderr"
        },
        {
          "output_type": "stream",
          "text": [
            "Epoch : 7, mean loss : 187.87\n",
            "Beginning epoch 8\n"
          ],
          "name": "stdout"
        },
        {
          "output_type": "stream",
          "text": [
            "100%|██████████| 86/86 [00:00<00:00, 161.60it/s]\n",
            " 20%|█▉        | 17/86 [00:00<00:00, 163.24it/s]"
          ],
          "name": "stderr"
        },
        {
          "output_type": "stream",
          "text": [
            "Epoch : 8, mean loss : 185.26\n",
            "Beginning epoch 9\n"
          ],
          "name": "stdout"
        },
        {
          "output_type": "stream",
          "text": [
            "100%|██████████| 86/86 [00:00<00:00, 149.74it/s]\n",
            " 14%|█▍        | 12/86 [00:00<00:00, 115.36it/s]"
          ],
          "name": "stderr"
        },
        {
          "output_type": "stream",
          "text": [
            "Epoch : 9, mean loss : 182.70\n",
            "Beginning epoch 10\n"
          ],
          "name": "stdout"
        },
        {
          "output_type": "stream",
          "text": [
            "100%|██████████| 86/86 [00:00<00:00, 157.41it/s]\n",
            " 19%|█▊        | 16/86 [00:00<00:00, 154.10it/s]"
          ],
          "name": "stderr"
        },
        {
          "output_type": "stream",
          "text": [
            "Epoch : 10, mean loss : 179.42\n",
            "Beginning epoch 11\n"
          ],
          "name": "stdout"
        },
        {
          "output_type": "stream",
          "text": [
            "100%|██████████| 86/86 [00:00<00:00, 156.45it/s]\n",
            " 20%|█▉        | 17/86 [00:00<00:00, 163.97it/s]"
          ],
          "name": "stderr"
        },
        {
          "output_type": "stream",
          "text": [
            "Epoch : 11, mean loss : 178.33\n",
            "Beginning epoch 12\n"
          ],
          "name": "stdout"
        },
        {
          "output_type": "stream",
          "text": [
            "100%|██████████| 86/86 [00:00<00:00, 160.60it/s]\n",
            " 20%|█▉        | 17/86 [00:00<00:00, 162.59it/s]"
          ],
          "name": "stderr"
        },
        {
          "output_type": "stream",
          "text": [
            "Epoch : 12, mean loss : 174.51\n",
            "Beginning epoch 13\n"
          ],
          "name": "stdout"
        },
        {
          "output_type": "stream",
          "text": [
            "100%|██████████| 86/86 [00:00<00:00, 160.49it/s]\n",
            " 20%|█▉        | 17/86 [00:00<00:00, 165.99it/s]"
          ],
          "name": "stderr"
        },
        {
          "output_type": "stream",
          "text": [
            "Epoch : 13, mean loss : 173.08\n",
            "Beginning epoch 14\n"
          ],
          "name": "stdout"
        },
        {
          "output_type": "stream",
          "text": [
            "100%|██████████| 86/86 [00:00<00:00, 160.50it/s]\n",
            " 20%|█▉        | 17/86 [00:00<00:00, 166.56it/s]"
          ],
          "name": "stderr"
        },
        {
          "output_type": "stream",
          "text": [
            "Epoch : 14, mean loss : 171.57\n",
            "Beginning epoch 15\n"
          ],
          "name": "stdout"
        },
        {
          "output_type": "stream",
          "text": [
            "100%|██████████| 86/86 [00:00<00:00, 161.64it/s]\n",
            " 20%|█▉        | 17/86 [00:00<00:00, 161.84it/s]"
          ],
          "name": "stderr"
        },
        {
          "output_type": "stream",
          "text": [
            "Epoch : 15, mean loss : 170.79\n",
            "Beginning epoch 16\n"
          ],
          "name": "stdout"
        },
        {
          "output_type": "stream",
          "text": [
            "100%|██████████| 86/86 [00:00<00:00, 156.82it/s]\n",
            " 19%|█▊        | 16/86 [00:00<00:00, 156.54it/s]"
          ],
          "name": "stderr"
        },
        {
          "output_type": "stream",
          "text": [
            "Epoch : 16, mean loss : 168.83\n",
            "Beginning epoch 17\n"
          ],
          "name": "stdout"
        },
        {
          "output_type": "stream",
          "text": [
            "100%|██████████| 86/86 [00:00<00:00, 160.69it/s]\n",
            " 20%|█▉        | 17/86 [00:00<00:00, 167.23it/s]"
          ],
          "name": "stderr"
        },
        {
          "output_type": "stream",
          "text": [
            "Epoch : 17, mean loss : 167.09\n",
            "Beginning epoch 18\n"
          ],
          "name": "stdout"
        },
        {
          "output_type": "stream",
          "text": [
            "100%|██████████| 86/86 [00:00<00:00, 160.75it/s]\n",
            " 19%|█▊        | 16/86 [00:00<00:00, 159.32it/s]"
          ],
          "name": "stderr"
        },
        {
          "output_type": "stream",
          "text": [
            "Epoch : 18, mean loss : 165.01\n",
            "Beginning epoch 19\n"
          ],
          "name": "stdout"
        },
        {
          "output_type": "stream",
          "text": [
            "100%|██████████| 86/86 [00:00<00:00, 161.42it/s]\n",
            " 20%|█▉        | 17/86 [00:00<00:00, 164.69it/s]"
          ],
          "name": "stderr"
        },
        {
          "output_type": "stream",
          "text": [
            "Epoch : 19, mean loss : 163.86\n",
            "Beginning epoch 20\n"
          ],
          "name": "stdout"
        },
        {
          "output_type": "stream",
          "text": [
            "100%|██████████| 86/86 [00:00<00:00, 160.78it/s]\n",
            " 20%|█▉        | 17/86 [00:00<00:00, 165.23it/s]"
          ],
          "name": "stderr"
        },
        {
          "output_type": "stream",
          "text": [
            "Epoch : 20, mean loss : 162.23\n",
            "Beginning epoch 21\n"
          ],
          "name": "stdout"
        },
        {
          "output_type": "stream",
          "text": [
            "100%|██████████| 86/86 [00:00<00:00, 162.49it/s]\n",
            " 20%|█▉        | 17/86 [00:00<00:00, 169.74it/s]"
          ],
          "name": "stderr"
        },
        {
          "output_type": "stream",
          "text": [
            "Epoch : 21, mean loss : 160.14\n",
            "Beginning epoch 22\n"
          ],
          "name": "stdout"
        },
        {
          "output_type": "stream",
          "text": [
            "100%|██████████| 86/86 [00:00<00:00, 162.01it/s]\n",
            " 20%|█▉        | 17/86 [00:00<00:00, 164.37it/s]"
          ],
          "name": "stderr"
        },
        {
          "output_type": "stream",
          "text": [
            "Epoch : 22, mean loss : 157.88\n",
            "Beginning epoch 23\n"
          ],
          "name": "stdout"
        },
        {
          "output_type": "stream",
          "text": [
            "100%|██████████| 86/86 [00:00<00:00, 155.60it/s]\n",
            " 20%|█▉        | 17/86 [00:00<00:00, 169.97it/s]"
          ],
          "name": "stderr"
        },
        {
          "output_type": "stream",
          "text": [
            "Epoch : 23, mean loss : 157.04\n",
            "Beginning epoch 24\n"
          ],
          "name": "stdout"
        },
        {
          "output_type": "stream",
          "text": [
            "100%|██████████| 86/86 [00:00<00:00, 151.62it/s]\n",
            " 20%|█▉        | 17/86 [00:00<00:00, 169.92it/s]"
          ],
          "name": "stderr"
        },
        {
          "output_type": "stream",
          "text": [
            "Epoch : 24, mean loss : 156.33\n",
            "Beginning epoch 25\n"
          ],
          "name": "stdout"
        },
        {
          "output_type": "stream",
          "text": [
            "100%|██████████| 86/86 [00:00<00:00, 162.39it/s]\n",
            " 19%|█▊        | 16/86 [00:00<00:00, 152.85it/s]"
          ],
          "name": "stderr"
        },
        {
          "output_type": "stream",
          "text": [
            "Epoch : 25, mean loss : 155.33\n",
            "Beginning epoch 26\n"
          ],
          "name": "stdout"
        },
        {
          "output_type": "stream",
          "text": [
            "100%|██████████| 86/86 [00:00<00:00, 159.31it/s]\n",
            " 20%|█▉        | 17/86 [00:00<00:00, 162.18it/s]"
          ],
          "name": "stderr"
        },
        {
          "output_type": "stream",
          "text": [
            "Epoch : 26, mean loss : 153.96\n",
            "Beginning epoch 27\n"
          ],
          "name": "stdout"
        },
        {
          "output_type": "stream",
          "text": [
            "100%|██████████| 86/86 [00:00<00:00, 161.20it/s]\n",
            " 20%|█▉        | 17/86 [00:00<00:00, 165.28it/s]"
          ],
          "name": "stderr"
        },
        {
          "output_type": "stream",
          "text": [
            "Epoch : 27, mean loss : 152.77\n",
            "Beginning epoch 28\n"
          ],
          "name": "stdout"
        },
        {
          "output_type": "stream",
          "text": [
            "100%|██████████| 86/86 [00:00<00:00, 160.92it/s]\n",
            " 17%|█▋        | 15/86 [00:00<00:00, 142.92it/s]"
          ],
          "name": "stderr"
        },
        {
          "output_type": "stream",
          "text": [
            "Epoch : 28, mean loss : 151.90\n",
            "Beginning epoch 29\n"
          ],
          "name": "stdout"
        },
        {
          "output_type": "stream",
          "text": [
            "100%|██████████| 86/86 [00:00<00:00, 148.07it/s]\n",
            " 20%|█▉        | 17/86 [00:00<00:00, 168.49it/s]"
          ],
          "name": "stderr"
        },
        {
          "output_type": "stream",
          "text": [
            "Epoch : 29, mean loss : 151.58\n",
            "Beginning epoch 30\n"
          ],
          "name": "stdout"
        },
        {
          "output_type": "stream",
          "text": [
            "100%|██████████| 86/86 [00:00<00:00, 158.95it/s]\n",
            " 21%|██        | 18/86 [00:00<00:00, 171.94it/s]"
          ],
          "name": "stderr"
        },
        {
          "output_type": "stream",
          "text": [
            "Epoch : 30, mean loss : 150.53\n",
            "Beginning epoch 31\n"
          ],
          "name": "stdout"
        },
        {
          "output_type": "stream",
          "text": [
            "100%|██████████| 86/86 [00:00<00:00, 159.52it/s]\n",
            " 20%|█▉        | 17/86 [00:00<00:00, 167.88it/s]"
          ],
          "name": "stderr"
        },
        {
          "output_type": "stream",
          "text": [
            "Epoch : 31, mean loss : 149.93\n",
            "Beginning epoch 32\n"
          ],
          "name": "stdout"
        },
        {
          "output_type": "stream",
          "text": [
            "100%|██████████| 86/86 [00:00<00:00, 165.47it/s]\n",
            " 20%|█▉        | 17/86 [00:00<00:00, 164.96it/s]"
          ],
          "name": "stderr"
        },
        {
          "output_type": "stream",
          "text": [
            "Epoch : 32, mean loss : 148.50\n",
            "Beginning epoch 33\n"
          ],
          "name": "stdout"
        },
        {
          "output_type": "stream",
          "text": [
            "100%|██████████| 86/86 [00:00<00:00, 164.68it/s]\n",
            " 16%|█▋        | 14/86 [00:00<00:00, 138.99it/s]"
          ],
          "name": "stderr"
        },
        {
          "output_type": "stream",
          "text": [
            "Epoch : 33, mean loss : 147.59\n",
            "Beginning epoch 34\n"
          ],
          "name": "stdout"
        },
        {
          "output_type": "stream",
          "text": [
            "100%|██████████| 86/86 [00:00<00:00, 158.05it/s]\n",
            " 20%|█▉        | 17/86 [00:00<00:00, 167.99it/s]"
          ],
          "name": "stderr"
        },
        {
          "output_type": "stream",
          "text": [
            "Epoch : 34, mean loss : 146.78\n",
            "Beginning epoch 35\n"
          ],
          "name": "stdout"
        },
        {
          "output_type": "stream",
          "text": [
            "100%|██████████| 86/86 [00:00<00:00, 152.59it/s]\n",
            " 20%|█▉        | 17/86 [00:00<00:00, 166.73it/s]"
          ],
          "name": "stderr"
        },
        {
          "output_type": "stream",
          "text": [
            "Epoch : 35, mean loss : 145.56\n",
            "Beginning epoch 36\n"
          ],
          "name": "stdout"
        },
        {
          "output_type": "stream",
          "text": [
            "100%|██████████| 86/86 [00:00<00:00, 159.70it/s]\n",
            " 20%|█▉        | 17/86 [00:00<00:00, 165.60it/s]"
          ],
          "name": "stderr"
        },
        {
          "output_type": "stream",
          "text": [
            "Epoch : 36, mean loss : 144.63\n",
            "Beginning epoch 37\n"
          ],
          "name": "stdout"
        },
        {
          "output_type": "stream",
          "text": [
            "100%|██████████| 86/86 [00:00<00:00, 162.21it/s]\n",
            " 20%|█▉        | 17/86 [00:00<00:00, 165.96it/s]"
          ],
          "name": "stderr"
        },
        {
          "output_type": "stream",
          "text": [
            "Epoch : 37, mean loss : 143.82\n",
            "Beginning epoch 38\n"
          ],
          "name": "stdout"
        },
        {
          "output_type": "stream",
          "text": [
            "100%|██████████| 86/86 [00:00<00:00, 165.67it/s]\n",
            " 17%|█▋        | 15/86 [00:00<00:00, 138.84it/s]"
          ],
          "name": "stderr"
        },
        {
          "output_type": "stream",
          "text": [
            "Epoch : 38, mean loss : 143.63\n",
            "Beginning epoch 39\n"
          ],
          "name": "stdout"
        },
        {
          "output_type": "stream",
          "text": [
            "100%|██████████| 86/86 [00:00<00:00, 155.94it/s]\n",
            " 20%|█▉        | 17/86 [00:00<00:00, 162.34it/s]"
          ],
          "name": "stderr"
        },
        {
          "output_type": "stream",
          "text": [
            "Epoch : 39, mean loss : 142.93\n",
            "Beginning epoch 40\n"
          ],
          "name": "stdout"
        },
        {
          "output_type": "stream",
          "text": [
            "100%|██████████| 86/86 [00:00<00:00, 162.02it/s]\n",
            " 19%|█▊        | 16/86 [00:00<00:00, 152.18it/s]"
          ],
          "name": "stderr"
        },
        {
          "output_type": "stream",
          "text": [
            "Epoch : 40, mean loss : 142.45\n",
            "Beginning epoch 41\n"
          ],
          "name": "stdout"
        },
        {
          "output_type": "stream",
          "text": [
            "100%|██████████| 86/86 [00:00<00:00, 148.97it/s]\n",
            " 20%|█▉        | 17/86 [00:00<00:00, 166.92it/s]"
          ],
          "name": "stderr"
        },
        {
          "output_type": "stream",
          "text": [
            "Epoch : 41, mean loss : 141.76\n",
            "Beginning epoch 42\n"
          ],
          "name": "stdout"
        },
        {
          "output_type": "stream",
          "text": [
            "100%|██████████| 86/86 [00:00<00:00, 159.28it/s]\n",
            " 21%|██        | 18/86 [00:00<00:00, 172.08it/s]"
          ],
          "name": "stderr"
        },
        {
          "output_type": "stream",
          "text": [
            "Epoch : 42, mean loss : 141.04\n",
            "Beginning epoch 43\n"
          ],
          "name": "stdout"
        },
        {
          "output_type": "stream",
          "text": [
            "100%|██████████| 86/86 [00:00<00:00, 167.15it/s]\n",
            " 21%|██        | 18/86 [00:00<00:00, 169.14it/s]"
          ],
          "name": "stderr"
        },
        {
          "output_type": "stream",
          "text": [
            "Epoch : 43, mean loss : 140.59\n",
            "Beginning epoch 44\n"
          ],
          "name": "stdout"
        },
        {
          "output_type": "stream",
          "text": [
            "100%|██████████| 86/86 [00:00<00:00, 158.70it/s]\n",
            " 19%|█▊        | 16/86 [00:00<00:00, 156.35it/s]"
          ],
          "name": "stderr"
        },
        {
          "output_type": "stream",
          "text": [
            "Epoch : 44, mean loss : 139.76\n",
            "Beginning epoch 45\n"
          ],
          "name": "stdout"
        },
        {
          "output_type": "stream",
          "text": [
            "100%|██████████| 86/86 [00:00<00:00, 160.71it/s]\n",
            " 20%|█▉        | 17/86 [00:00<00:00, 168.99it/s]"
          ],
          "name": "stderr"
        },
        {
          "output_type": "stream",
          "text": [
            "Epoch : 45, mean loss : 139.22\n",
            "Beginning epoch 46\n"
          ],
          "name": "stdout"
        },
        {
          "output_type": "stream",
          "text": [
            "100%|██████████| 86/86 [00:00<00:00, 163.13it/s]\n",
            " 21%|██        | 18/86 [00:00<00:00, 171.30it/s]"
          ],
          "name": "stderr"
        },
        {
          "output_type": "stream",
          "text": [
            "Epoch : 46, mean loss : 138.37\n",
            "Beginning epoch 47\n"
          ],
          "name": "stdout"
        },
        {
          "output_type": "stream",
          "text": [
            "100%|██████████| 86/86 [00:00<00:00, 165.07it/s]\n",
            " 21%|██        | 18/86 [00:00<00:00, 171.16it/s]"
          ],
          "name": "stderr"
        },
        {
          "output_type": "stream",
          "text": [
            "Epoch : 47, mean loss : 138.08\n",
            "Beginning epoch 48\n"
          ],
          "name": "stdout"
        },
        {
          "output_type": "stream",
          "text": [
            "100%|██████████| 86/86 [00:00<00:00, 164.49it/s]\n",
            " 19%|█▊        | 16/86 [00:00<00:00, 155.12it/s]"
          ],
          "name": "stderr"
        },
        {
          "output_type": "stream",
          "text": [
            "Epoch : 48, mean loss : 137.49\n",
            "Beginning epoch 49\n"
          ],
          "name": "stdout"
        },
        {
          "output_type": "stream",
          "text": [
            "100%|██████████| 86/86 [00:00<00:00, 160.94it/s]\n",
            " 20%|█▉        | 17/86 [00:00<00:00, 167.11it/s]"
          ],
          "name": "stderr"
        },
        {
          "output_type": "stream",
          "text": [
            "Epoch : 49, mean loss : 136.91\n",
            "Beginning epoch 50\n"
          ],
          "name": "stdout"
        },
        {
          "output_type": "stream",
          "text": [
            "100%|██████████| 86/86 [00:00<00:00, 158.20it/s]\n",
            " 19%|█▊        | 16/86 [00:00<00:00, 159.35it/s]"
          ],
          "name": "stderr"
        },
        {
          "output_type": "stream",
          "text": [
            "Epoch : 50, mean loss : 136.22\n",
            "Beginning epoch 51\n"
          ],
          "name": "stdout"
        },
        {
          "output_type": "stream",
          "text": [
            "100%|██████████| 86/86 [00:00<00:00, 163.46it/s]\n",
            " 20%|█▉        | 17/86 [00:00<00:00, 164.01it/s]"
          ],
          "name": "stderr"
        },
        {
          "output_type": "stream",
          "text": [
            "Epoch : 51, mean loss : 135.49\n",
            "Beginning epoch 52\n"
          ],
          "name": "stdout"
        },
        {
          "output_type": "stream",
          "text": [
            "100%|██████████| 86/86 [00:00<00:00, 161.87it/s]\n",
            " 20%|█▉        | 17/86 [00:00<00:00, 163.59it/s]"
          ],
          "name": "stderr"
        },
        {
          "output_type": "stream",
          "text": [
            "Epoch : 52, mean loss : 134.93\n",
            "Beginning epoch 53\n"
          ],
          "name": "stdout"
        },
        {
          "output_type": "stream",
          "text": [
            "100%|██████████| 86/86 [00:00<00:00, 160.94it/s]\n",
            " 20%|█▉        | 17/86 [00:00<00:00, 158.92it/s]"
          ],
          "name": "stderr"
        },
        {
          "output_type": "stream",
          "text": [
            "Epoch : 53, mean loss : 134.52\n",
            "Beginning epoch 54\n"
          ],
          "name": "stdout"
        },
        {
          "output_type": "stream",
          "text": [
            "100%|██████████| 86/86 [00:00<00:00, 149.92it/s]\n",
            " 20%|█▉        | 17/86 [00:00<00:00, 161.47it/s]"
          ],
          "name": "stderr"
        },
        {
          "output_type": "stream",
          "text": [
            "Epoch : 54, mean loss : 133.98\n",
            "Beginning epoch 55\n"
          ],
          "name": "stdout"
        },
        {
          "output_type": "stream",
          "text": [
            "100%|██████████| 86/86 [00:00<00:00, 157.86it/s]\n",
            " 20%|█▉        | 17/86 [00:00<00:00, 167.86it/s]"
          ],
          "name": "stderr"
        },
        {
          "output_type": "stream",
          "text": [
            "Epoch : 55, mean loss : 133.42\n",
            "Beginning epoch 56\n"
          ],
          "name": "stdout"
        },
        {
          "output_type": "stream",
          "text": [
            "100%|██████████| 86/86 [00:00<00:00, 158.20it/s]\n",
            " 20%|█▉        | 17/86 [00:00<00:00, 161.67it/s]"
          ],
          "name": "stderr"
        },
        {
          "output_type": "stream",
          "text": [
            "Epoch : 56, mean loss : 132.81\n",
            "Beginning epoch 57\n"
          ],
          "name": "stdout"
        },
        {
          "output_type": "stream",
          "text": [
            "100%|██████████| 86/86 [00:00<00:00, 156.54it/s]\n",
            " 19%|█▊        | 16/86 [00:00<00:00, 156.87it/s]"
          ],
          "name": "stderr"
        },
        {
          "output_type": "stream",
          "text": [
            "Epoch : 57, mean loss : 132.34\n",
            "Beginning epoch 58\n"
          ],
          "name": "stdout"
        },
        {
          "output_type": "stream",
          "text": [
            "100%|██████████| 86/86 [00:00<00:00, 159.37it/s]\n",
            " 21%|██        | 18/86 [00:00<00:00, 171.19it/s]"
          ],
          "name": "stderr"
        },
        {
          "output_type": "stream",
          "text": [
            "Epoch : 58, mean loss : 131.75\n",
            "Beginning epoch 59\n"
          ],
          "name": "stdout"
        },
        {
          "output_type": "stream",
          "text": [
            "100%|██████████| 86/86 [00:00<00:00, 159.70it/s]\n",
            " 20%|█▉        | 17/86 [00:00<00:00, 168.21it/s]"
          ],
          "name": "stderr"
        },
        {
          "output_type": "stream",
          "text": [
            "Epoch : 59, mean loss : 131.16\n",
            "Beginning epoch 60\n"
          ],
          "name": "stdout"
        },
        {
          "output_type": "stream",
          "text": [
            "100%|██████████| 86/86 [00:00<00:00, 163.79it/s]\n",
            " 20%|█▉        | 17/86 [00:00<00:00, 163.53it/s]"
          ],
          "name": "stderr"
        },
        {
          "output_type": "stream",
          "text": [
            "Epoch : 60, mean loss : 130.65\n",
            "Beginning epoch 61\n"
          ],
          "name": "stdout"
        },
        {
          "output_type": "stream",
          "text": [
            "100%|██████████| 86/86 [00:00<00:00, 161.65it/s]\n",
            " 20%|█▉        | 17/86 [00:00<00:00, 167.37it/s]"
          ],
          "name": "stderr"
        },
        {
          "output_type": "stream",
          "text": [
            "Epoch : 61, mean loss : 130.29\n",
            "Beginning epoch 62\n"
          ],
          "name": "stdout"
        },
        {
          "output_type": "stream",
          "text": [
            "100%|██████████| 86/86 [00:00<00:00, 159.51it/s]\n",
            " 20%|█▉        | 17/86 [00:00<00:00, 163.70it/s]"
          ],
          "name": "stderr"
        },
        {
          "output_type": "stream",
          "text": [
            "Epoch : 62, mean loss : 129.81\n",
            "Beginning epoch 63\n"
          ],
          "name": "stdout"
        },
        {
          "output_type": "stream",
          "text": [
            "100%|██████████| 86/86 [00:00<00:00, 150.55it/s]\n",
            " 20%|█▉        | 17/86 [00:00<00:00, 166.19it/s]"
          ],
          "name": "stderr"
        },
        {
          "output_type": "stream",
          "text": [
            "Epoch : 63, mean loss : 129.37\n",
            "Beginning epoch 64\n"
          ],
          "name": "stdout"
        },
        {
          "output_type": "stream",
          "text": [
            "100%|██████████| 86/86 [00:00<00:00, 154.49it/s]\n",
            " 20%|█▉        | 17/86 [00:00<00:00, 160.89it/s]"
          ],
          "name": "stderr"
        },
        {
          "output_type": "stream",
          "text": [
            "Epoch : 64, mean loss : 128.86\n",
            "Beginning epoch 65\n"
          ],
          "name": "stdout"
        },
        {
          "output_type": "stream",
          "text": [
            "100%|██████████| 86/86 [00:00<00:00, 154.18it/s]\n",
            " 20%|█▉        | 17/86 [00:00<00:00, 162.22it/s]"
          ],
          "name": "stderr"
        },
        {
          "output_type": "stream",
          "text": [
            "Epoch : 65, mean loss : 128.49\n",
            "Beginning epoch 66\n"
          ],
          "name": "stdout"
        },
        {
          "output_type": "stream",
          "text": [
            "100%|██████████| 86/86 [00:00<00:00, 156.31it/s]\n",
            " 17%|█▋        | 15/86 [00:00<00:00, 148.51it/s]"
          ],
          "name": "stderr"
        },
        {
          "output_type": "stream",
          "text": [
            "Epoch : 66, mean loss : 127.98\n",
            "Beginning epoch 67\n"
          ],
          "name": "stdout"
        },
        {
          "output_type": "stream",
          "text": [
            "100%|██████████| 86/86 [00:00<00:00, 152.24it/s]\n",
            " 19%|█▊        | 16/86 [00:00<00:00, 156.08it/s]"
          ],
          "name": "stderr"
        },
        {
          "output_type": "stream",
          "text": [
            "Epoch : 67, mean loss : 127.67\n",
            "Beginning epoch 68\n"
          ],
          "name": "stdout"
        },
        {
          "output_type": "stream",
          "text": [
            "100%|██████████| 86/86 [00:00<00:00, 150.00it/s]\n",
            " 17%|█▋        | 15/86 [00:00<00:00, 142.69it/s]"
          ],
          "name": "stderr"
        },
        {
          "output_type": "stream",
          "text": [
            "Epoch : 68, mean loss : 127.13\n",
            "Beginning epoch 69\n"
          ],
          "name": "stdout"
        },
        {
          "output_type": "stream",
          "text": [
            "100%|██████████| 86/86 [00:00<00:00, 149.71it/s]\n",
            " 19%|█▊        | 16/86 [00:00<00:00, 158.23it/s]"
          ],
          "name": "stderr"
        },
        {
          "output_type": "stream",
          "text": [
            "Epoch : 69, mean loss : 126.60\n",
            "Beginning epoch 70\n"
          ],
          "name": "stdout"
        },
        {
          "output_type": "stream",
          "text": [
            "100%|██████████| 86/86 [00:00<00:00, 150.07it/s]\n",
            " 19%|█▊        | 16/86 [00:00<00:00, 151.29it/s]"
          ],
          "name": "stderr"
        },
        {
          "output_type": "stream",
          "text": [
            "Epoch : 70, mean loss : 126.19\n",
            "Beginning epoch 71\n"
          ],
          "name": "stdout"
        },
        {
          "output_type": "stream",
          "text": [
            "100%|██████████| 86/86 [00:00<00:00, 145.90it/s]\n",
            " 20%|█▉        | 17/86 [00:00<00:00, 161.72it/s]"
          ],
          "name": "stderr"
        },
        {
          "output_type": "stream",
          "text": [
            "Epoch : 71, mean loss : 125.85\n",
            "Beginning epoch 72\n"
          ],
          "name": "stdout"
        },
        {
          "output_type": "stream",
          "text": [
            "100%|██████████| 86/86 [00:00<00:00, 154.60it/s]\n",
            " 20%|█▉        | 17/86 [00:00<00:00, 161.21it/s]"
          ],
          "name": "stderr"
        },
        {
          "output_type": "stream",
          "text": [
            "Epoch : 72, mean loss : 125.35\n",
            "Beginning epoch 73\n"
          ],
          "name": "stdout"
        },
        {
          "output_type": "stream",
          "text": [
            "100%|██████████| 86/86 [00:00<00:00, 147.70it/s]\n",
            " 15%|█▌        | 13/86 [00:00<00:00, 124.65it/s]"
          ],
          "name": "stderr"
        },
        {
          "output_type": "stream",
          "text": [
            "Epoch : 73, mean loss : 124.88\n",
            "Beginning epoch 74\n"
          ],
          "name": "stdout"
        },
        {
          "output_type": "stream",
          "text": [
            "100%|██████████| 86/86 [00:00<00:00, 144.44it/s]\n",
            " 19%|█▊        | 16/86 [00:00<00:00, 156.84it/s]"
          ],
          "name": "stderr"
        },
        {
          "output_type": "stream",
          "text": [
            "Epoch : 74, mean loss : 124.53\n",
            "Beginning epoch 75\n"
          ],
          "name": "stdout"
        },
        {
          "output_type": "stream",
          "text": [
            "100%|██████████| 86/86 [00:00<00:00, 149.10it/s]\n",
            " 19%|█▊        | 16/86 [00:00<00:00, 155.22it/s]"
          ],
          "name": "stderr"
        },
        {
          "output_type": "stream",
          "text": [
            "Epoch : 75, mean loss : 124.22\n",
            "Beginning epoch 76\n"
          ],
          "name": "stdout"
        },
        {
          "output_type": "stream",
          "text": [
            "100%|██████████| 86/86 [00:00<00:00, 154.04it/s]\n",
            " 17%|█▋        | 15/86 [00:00<00:00, 144.94it/s]"
          ],
          "name": "stderr"
        },
        {
          "output_type": "stream",
          "text": [
            "Epoch : 76, mean loss : 124.01\n",
            "Beginning epoch 77\n"
          ],
          "name": "stdout"
        },
        {
          "output_type": "stream",
          "text": [
            "100%|██████████| 86/86 [00:00<00:00, 144.65it/s]\n",
            " 19%|█▊        | 16/86 [00:00<00:00, 152.53it/s]"
          ],
          "name": "stderr"
        },
        {
          "output_type": "stream",
          "text": [
            "Epoch : 77, mean loss : 123.67\n",
            "Beginning epoch 78\n"
          ],
          "name": "stdout"
        },
        {
          "output_type": "stream",
          "text": [
            "100%|██████████| 86/86 [00:00<00:00, 148.83it/s]\n",
            " 17%|█▋        | 15/86 [00:00<00:00, 147.44it/s]"
          ],
          "name": "stderr"
        },
        {
          "output_type": "stream",
          "text": [
            "Epoch : 78, mean loss : 123.30\n",
            "Beginning epoch 79\n"
          ],
          "name": "stdout"
        },
        {
          "output_type": "stream",
          "text": [
            "100%|██████████| 86/86 [00:00<00:00, 141.63it/s]\n",
            " 19%|█▊        | 16/86 [00:00<00:00, 158.33it/s]"
          ],
          "name": "stderr"
        },
        {
          "output_type": "stream",
          "text": [
            "Epoch : 79, mean loss : 122.87\n",
            "Beginning epoch 80\n"
          ],
          "name": "stdout"
        },
        {
          "output_type": "stream",
          "text": [
            "100%|██████████| 86/86 [00:00<00:00, 140.77it/s]\n",
            " 17%|█▋        | 15/86 [00:00<00:00, 147.61it/s]"
          ],
          "name": "stderr"
        },
        {
          "output_type": "stream",
          "text": [
            "Epoch : 80, mean loss : 122.49\n",
            "Beginning epoch 81\n"
          ],
          "name": "stdout"
        },
        {
          "output_type": "stream",
          "text": [
            "100%|██████████| 86/86 [00:00<00:00, 144.66it/s]\n",
            " 16%|█▋        | 14/86 [00:00<00:00, 139.82it/s]"
          ],
          "name": "stderr"
        },
        {
          "output_type": "stream",
          "text": [
            "Epoch : 81, mean loss : 122.14\n",
            "Beginning epoch 82\n"
          ],
          "name": "stdout"
        },
        {
          "output_type": "stream",
          "text": [
            "100%|██████████| 86/86 [00:00<00:00, 148.42it/s]\n",
            " 19%|█▊        | 16/86 [00:00<00:00, 158.72it/s]"
          ],
          "name": "stderr"
        },
        {
          "output_type": "stream",
          "text": [
            "Epoch : 82, mean loss : 121.69\n",
            "Beginning epoch 83\n"
          ],
          "name": "stdout"
        },
        {
          "output_type": "stream",
          "text": [
            "100%|██████████| 86/86 [00:00<00:00, 152.77it/s]\n",
            " 19%|█▊        | 16/86 [00:00<00:00, 157.54it/s]"
          ],
          "name": "stderr"
        },
        {
          "output_type": "stream",
          "text": [
            "Epoch : 83, mean loss : 121.28\n",
            "Beginning epoch 84\n"
          ],
          "name": "stdout"
        },
        {
          "output_type": "stream",
          "text": [
            "100%|██████████| 86/86 [00:00<00:00, 155.41it/s]\n",
            " 20%|█▉        | 17/86 [00:00<00:00, 165.01it/s]"
          ],
          "name": "stderr"
        },
        {
          "output_type": "stream",
          "text": [
            "Epoch : 84, mean loss : 120.90\n",
            "Beginning epoch 85\n"
          ],
          "name": "stdout"
        },
        {
          "output_type": "stream",
          "text": [
            "100%|██████████| 86/86 [00:00<00:00, 156.26it/s]\n",
            " 20%|█▉        | 17/86 [00:00<00:00, 164.13it/s]"
          ],
          "name": "stderr"
        },
        {
          "output_type": "stream",
          "text": [
            "Epoch : 85, mean loss : 120.55\n",
            "Beginning epoch 86\n"
          ],
          "name": "stdout"
        },
        {
          "output_type": "stream",
          "text": [
            "100%|██████████| 86/86 [00:00<00:00, 159.74it/s]\n",
            " 20%|█▉        | 17/86 [00:00<00:00, 163.31it/s]"
          ],
          "name": "stderr"
        },
        {
          "output_type": "stream",
          "text": [
            "Epoch : 86, mean loss : 120.12\n",
            "Beginning epoch 87\n"
          ],
          "name": "stdout"
        },
        {
          "output_type": "stream",
          "text": [
            "100%|██████████| 86/86 [00:00<00:00, 162.02it/s]\n",
            " 17%|█▋        | 15/86 [00:00<00:00, 149.59it/s]"
          ],
          "name": "stderr"
        },
        {
          "output_type": "stream",
          "text": [
            "Epoch : 87, mean loss : 119.83\n",
            "Beginning epoch 88\n"
          ],
          "name": "stdout"
        },
        {
          "output_type": "stream",
          "text": [
            "100%|██████████| 86/86 [00:00<00:00, 156.74it/s]\n",
            " 20%|█▉        | 17/86 [00:00<00:00, 162.07it/s]"
          ],
          "name": "stderr"
        },
        {
          "output_type": "stream",
          "text": [
            "Epoch : 88, mean loss : 119.56\n",
            "Beginning epoch 89\n"
          ],
          "name": "stdout"
        },
        {
          "output_type": "stream",
          "text": [
            "100%|██████████| 86/86 [00:00<00:00, 146.12it/s]\n",
            " 20%|█▉        | 17/86 [00:00<00:00, 164.36it/s]"
          ],
          "name": "stderr"
        },
        {
          "output_type": "stream",
          "text": [
            "Epoch : 89, mean loss : 119.32\n",
            "Beginning epoch 90\n"
          ],
          "name": "stdout"
        },
        {
          "output_type": "stream",
          "text": [
            "100%|██████████| 86/86 [00:00<00:00, 158.51it/s]\n",
            " 17%|█▋        | 15/86 [00:00<00:00, 148.80it/s]"
          ],
          "name": "stderr"
        },
        {
          "output_type": "stream",
          "text": [
            "Epoch : 90, mean loss : 118.97\n",
            "Beginning epoch 91\n"
          ],
          "name": "stdout"
        },
        {
          "output_type": "stream",
          "text": [
            "100%|██████████| 86/86 [00:00<00:00, 154.39it/s]\n",
            " 20%|█▉        | 17/86 [00:00<00:00, 161.74it/s]"
          ],
          "name": "stderr"
        },
        {
          "output_type": "stream",
          "text": [
            "Epoch : 91, mean loss : 118.59\n",
            "Beginning epoch 92\n"
          ],
          "name": "stdout"
        },
        {
          "output_type": "stream",
          "text": [
            "100%|██████████| 86/86 [00:00<00:00, 158.94it/s]\n",
            " 21%|██        | 18/86 [00:00<00:00, 169.50it/s]"
          ],
          "name": "stderr"
        },
        {
          "output_type": "stream",
          "text": [
            "Epoch : 92, mean loss : 118.20\n",
            "Beginning epoch 93\n"
          ],
          "name": "stdout"
        },
        {
          "output_type": "stream",
          "text": [
            "100%|██████████| 86/86 [00:00<00:00, 157.43it/s]\n",
            " 20%|█▉        | 17/86 [00:00<00:00, 162.80it/s]"
          ],
          "name": "stderr"
        },
        {
          "output_type": "stream",
          "text": [
            "Epoch : 93, mean loss : 117.88\n",
            "Beginning epoch 94\n"
          ],
          "name": "stdout"
        },
        {
          "output_type": "stream",
          "text": [
            "100%|██████████| 86/86 [00:00<00:00, 159.96it/s]\n",
            " 20%|█▉        | 17/86 [00:00<00:00, 161.92it/s]"
          ],
          "name": "stderr"
        },
        {
          "output_type": "stream",
          "text": [
            "Epoch : 94, mean loss : 117.53\n",
            "Beginning epoch 95\n"
          ],
          "name": "stdout"
        },
        {
          "output_type": "stream",
          "text": [
            "100%|██████████| 86/86 [00:00<00:00, 156.56it/s]\n",
            " 20%|█▉        | 17/86 [00:00<00:00, 164.55it/s]"
          ],
          "name": "stderr"
        },
        {
          "output_type": "stream",
          "text": [
            "Epoch : 95, mean loss : 117.11\n",
            "Beginning epoch 96\n"
          ],
          "name": "stdout"
        },
        {
          "output_type": "stream",
          "text": [
            "100%|██████████| 86/86 [00:00<00:00, 154.12it/s]\n",
            " 17%|█▋        | 15/86 [00:00<00:00, 140.48it/s]"
          ],
          "name": "stderr"
        },
        {
          "output_type": "stream",
          "text": [
            "Epoch : 96, mean loss : 116.78\n",
            "Beginning epoch 97\n"
          ],
          "name": "stdout"
        },
        {
          "output_type": "stream",
          "text": [
            "100%|██████████| 86/86 [00:00<00:00, 149.29it/s]\n",
            " 20%|█▉        | 17/86 [00:00<00:00, 165.77it/s]"
          ],
          "name": "stderr"
        },
        {
          "output_type": "stream",
          "text": [
            "Epoch : 97, mean loss : 116.60\n",
            "Beginning epoch 98\n"
          ],
          "name": "stdout"
        },
        {
          "output_type": "stream",
          "text": [
            "100%|██████████| 86/86 [00:00<00:00, 149.17it/s]\n",
            " 19%|█▊        | 16/86 [00:00<00:00, 155.43it/s]"
          ],
          "name": "stderr"
        },
        {
          "output_type": "stream",
          "text": [
            "Epoch : 98, mean loss : 116.31\n",
            "Beginning epoch 99\n"
          ],
          "name": "stdout"
        },
        {
          "output_type": "stream",
          "text": [
            "100%|██████████| 86/86 [00:00<00:00, 155.16it/s]\n",
            " 19%|█▊        | 16/86 [00:00<00:00, 159.53it/s]"
          ],
          "name": "stderr"
        },
        {
          "output_type": "stream",
          "text": [
            "Epoch : 99, mean loss : 115.91\n",
            "Beginning epoch 100\n"
          ],
          "name": "stdout"
        },
        {
          "output_type": "stream",
          "text": [
            "100%|██████████| 86/86 [00:00<00:00, 152.03it/s]\n",
            " 17%|█▋        | 15/86 [00:00<00:00, 143.62it/s]"
          ],
          "name": "stderr"
        },
        {
          "output_type": "stream",
          "text": [
            "Epoch : 100, mean loss : 115.64\n",
            "Beginning epoch 101\n"
          ],
          "name": "stdout"
        },
        {
          "output_type": "stream",
          "text": [
            "100%|██████████| 86/86 [00:00<00:00, 153.15it/s]\n",
            " 20%|█▉        | 17/86 [00:00<00:00, 161.13it/s]"
          ],
          "name": "stderr"
        },
        {
          "output_type": "stream",
          "text": [
            "Epoch : 101, mean loss : 115.24\n",
            "Beginning epoch 102\n"
          ],
          "name": "stdout"
        },
        {
          "output_type": "stream",
          "text": [
            "100%|██████████| 86/86 [00:00<00:00, 158.58it/s]\n",
            " 20%|█▉        | 17/86 [00:00<00:00, 168.52it/s]"
          ],
          "name": "stderr"
        },
        {
          "output_type": "stream",
          "text": [
            "Epoch : 102, mean loss : 115.00\n",
            "Beginning epoch 103\n"
          ],
          "name": "stdout"
        },
        {
          "output_type": "stream",
          "text": [
            "100%|██████████| 86/86 [00:00<00:00, 159.42it/s]\n",
            " 19%|█▊        | 16/86 [00:00<00:00, 156.51it/s]"
          ],
          "name": "stderr"
        },
        {
          "output_type": "stream",
          "text": [
            "Epoch : 103, mean loss : 114.88\n",
            "Beginning epoch 104\n"
          ],
          "name": "stdout"
        },
        {
          "output_type": "stream",
          "text": [
            "100%|██████████| 86/86 [00:00<00:00, 151.34it/s]\n",
            " 20%|█▉        | 17/86 [00:00<00:00, 163.69it/s]"
          ],
          "name": "stderr"
        },
        {
          "output_type": "stream",
          "text": [
            "Epoch : 104, mean loss : 114.58\n",
            "Beginning epoch 105\n"
          ],
          "name": "stdout"
        },
        {
          "output_type": "stream",
          "text": [
            "100%|██████████| 86/86 [00:00<00:00, 158.70it/s]\n",
            " 20%|█▉        | 17/86 [00:00<00:00, 164.60it/s]"
          ],
          "name": "stderr"
        },
        {
          "output_type": "stream",
          "text": [
            "Epoch : 105, mean loss : 114.24\n",
            "Beginning epoch 106\n"
          ],
          "name": "stdout"
        },
        {
          "output_type": "stream",
          "text": [
            "100%|██████████| 86/86 [00:00<00:00, 151.57it/s]\n",
            " 19%|█▊        | 16/86 [00:00<00:00, 158.02it/s]"
          ],
          "name": "stderr"
        },
        {
          "output_type": "stream",
          "text": [
            "Epoch : 106, mean loss : 114.02\n",
            "Beginning epoch 107\n"
          ],
          "name": "stdout"
        },
        {
          "output_type": "stream",
          "text": [
            "100%|██████████| 86/86 [00:00<00:00, 147.10it/s]\n",
            " 16%|█▋        | 14/86 [00:00<00:00, 138.66it/s]"
          ],
          "name": "stderr"
        },
        {
          "output_type": "stream",
          "text": [
            "Epoch : 107, mean loss : 113.83\n",
            "Beginning epoch 108\n"
          ],
          "name": "stdout"
        },
        {
          "output_type": "stream",
          "text": [
            "100%|██████████| 86/86 [00:00<00:00, 146.69it/s]\n",
            " 19%|█▊        | 16/86 [00:00<00:00, 154.17it/s]"
          ],
          "name": "stderr"
        },
        {
          "output_type": "stream",
          "text": [
            "Epoch : 108, mean loss : 113.58\n",
            "Beginning epoch 109\n"
          ],
          "name": "stdout"
        },
        {
          "output_type": "stream",
          "text": [
            "100%|██████████| 86/86 [00:00<00:00, 154.42it/s]\n",
            " 20%|█▉        | 17/86 [00:00<00:00, 163.46it/s]"
          ],
          "name": "stderr"
        },
        {
          "output_type": "stream",
          "text": [
            "Epoch : 109, mean loss : 113.37\n",
            "Beginning epoch 110\n"
          ],
          "name": "stdout"
        },
        {
          "output_type": "stream",
          "text": [
            "100%|██████████| 86/86 [00:00<00:00, 154.93it/s]\n",
            " 17%|█▋        | 15/86 [00:00<00:00, 147.21it/s]"
          ],
          "name": "stderr"
        },
        {
          "output_type": "stream",
          "text": [
            "Epoch : 110, mean loss : 113.08\n",
            "Beginning epoch 111\n"
          ],
          "name": "stdout"
        },
        {
          "output_type": "stream",
          "text": [
            "100%|██████████| 86/86 [00:00<00:00, 147.27it/s]\n",
            " 20%|█▉        | 17/86 [00:00<00:00, 163.76it/s]"
          ],
          "name": "stderr"
        },
        {
          "output_type": "stream",
          "text": [
            "Epoch : 111, mean loss : 112.88\n",
            "Beginning epoch 112\n"
          ],
          "name": "stdout"
        },
        {
          "output_type": "stream",
          "text": [
            "100%|██████████| 86/86 [00:00<00:00, 156.83it/s]\n",
            " 20%|█▉        | 17/86 [00:00<00:00, 162.73it/s]"
          ],
          "name": "stderr"
        },
        {
          "output_type": "stream",
          "text": [
            "Epoch : 112, mean loss : 112.57\n",
            "Beginning epoch 113\n"
          ],
          "name": "stdout"
        },
        {
          "output_type": "stream",
          "text": [
            "100%|██████████| 86/86 [00:00<00:00, 156.50it/s]\n",
            " 20%|█▉        | 17/86 [00:00<00:00, 164.05it/s]"
          ],
          "name": "stderr"
        },
        {
          "output_type": "stream",
          "text": [
            "Epoch : 113, mean loss : 112.29\n",
            "Beginning epoch 114\n"
          ],
          "name": "stdout"
        },
        {
          "output_type": "stream",
          "text": [
            "100%|██████████| 86/86 [00:00<00:00, 161.02it/s]\n",
            " 19%|█▊        | 16/86 [00:00<00:00, 153.38it/s]"
          ],
          "name": "stderr"
        },
        {
          "output_type": "stream",
          "text": [
            "Epoch : 114, mean loss : 112.00\n",
            "Beginning epoch 115\n"
          ],
          "name": "stdout"
        },
        {
          "output_type": "stream",
          "text": [
            "100%|██████████| 86/86 [00:00<00:00, 150.62it/s]\n",
            " 19%|█▊        | 16/86 [00:00<00:00, 153.73it/s]"
          ],
          "name": "stderr"
        },
        {
          "output_type": "stream",
          "text": [
            "Epoch : 115, mean loss : 111.76\n",
            "Beginning epoch 116\n"
          ],
          "name": "stdout"
        },
        {
          "output_type": "stream",
          "text": [
            "100%|██████████| 86/86 [00:00<00:00, 146.37it/s]\n",
            " 19%|█▊        | 16/86 [00:00<00:00, 154.81it/s]"
          ],
          "name": "stderr"
        },
        {
          "output_type": "stream",
          "text": [
            "Epoch : 116, mean loss : 111.51\n",
            "Beginning epoch 117\n"
          ],
          "name": "stdout"
        },
        {
          "output_type": "stream",
          "text": [
            "100%|██████████| 86/86 [00:00<00:00, 153.20it/s]\n",
            " 20%|█▉        | 17/86 [00:00<00:00, 165.91it/s]"
          ],
          "name": "stderr"
        },
        {
          "output_type": "stream",
          "text": [
            "Epoch : 117, mean loss : 111.26\n",
            "Beginning epoch 118\n"
          ],
          "name": "stdout"
        },
        {
          "output_type": "stream",
          "text": [
            "100%|██████████| 86/86 [00:00<00:00, 151.08it/s]\n",
            " 19%|█▊        | 16/86 [00:00<00:00, 156.56it/s]"
          ],
          "name": "stderr"
        },
        {
          "output_type": "stream",
          "text": [
            "Epoch : 118, mean loss : 110.99\n",
            "Beginning epoch 119\n"
          ],
          "name": "stdout"
        },
        {
          "output_type": "stream",
          "text": [
            "100%|██████████| 86/86 [00:00<00:00, 157.42it/s]\n",
            " 17%|█▋        | 15/86 [00:00<00:00, 149.37it/s]"
          ],
          "name": "stderr"
        },
        {
          "output_type": "stream",
          "text": [
            "Epoch : 119, mean loss : 110.77\n",
            "Beginning epoch 120\n"
          ],
          "name": "stdout"
        },
        {
          "output_type": "stream",
          "text": [
            "100%|██████████| 86/86 [00:00<00:00, 152.25it/s]\n",
            " 17%|█▋        | 15/86 [00:00<00:00, 140.23it/s]"
          ],
          "name": "stderr"
        },
        {
          "output_type": "stream",
          "text": [
            "Epoch : 120, mean loss : 110.46\n",
            "Beginning epoch 121\n"
          ],
          "name": "stdout"
        },
        {
          "output_type": "stream",
          "text": [
            "100%|██████████| 86/86 [00:00<00:00, 146.90it/s]\n",
            " 17%|█▋        | 15/86 [00:00<00:00, 143.97it/s]"
          ],
          "name": "stderr"
        },
        {
          "output_type": "stream",
          "text": [
            "Epoch : 121, mean loss : 110.19\n",
            "Beginning epoch 122\n"
          ],
          "name": "stdout"
        },
        {
          "output_type": "stream",
          "text": [
            "100%|██████████| 86/86 [00:00<00:00, 150.93it/s]\n",
            " 20%|█▉        | 17/86 [00:00<00:00, 161.55it/s]"
          ],
          "name": "stderr"
        },
        {
          "output_type": "stream",
          "text": [
            "Epoch : 122, mean loss : 109.90\n",
            "Beginning epoch 123\n"
          ],
          "name": "stdout"
        },
        {
          "output_type": "stream",
          "text": [
            "100%|██████████| 86/86 [00:00<00:00, 160.36it/s]\n",
            " 19%|█▊        | 16/86 [00:00<00:00, 155.22it/s]"
          ],
          "name": "stderr"
        },
        {
          "output_type": "stream",
          "text": [
            "Epoch : 123, mean loss : 109.74\n",
            "Beginning epoch 124\n"
          ],
          "name": "stdout"
        },
        {
          "output_type": "stream",
          "text": [
            "100%|██████████| 86/86 [00:00<00:00, 157.84it/s]\n",
            " 20%|█▉        | 17/86 [00:00<00:00, 168.64it/s]"
          ],
          "name": "stderr"
        },
        {
          "output_type": "stream",
          "text": [
            "Epoch : 124, mean loss : 109.55\n",
            "Beginning epoch 125\n"
          ],
          "name": "stdout"
        },
        {
          "output_type": "stream",
          "text": [
            "100%|██████████| 86/86 [00:00<00:00, 163.21it/s]\n",
            " 19%|█▊        | 16/86 [00:00<00:00, 158.27it/s]"
          ],
          "name": "stderr"
        },
        {
          "output_type": "stream",
          "text": [
            "Epoch : 125, mean loss : 109.31\n",
            "Beginning epoch 126\n"
          ],
          "name": "stdout"
        },
        {
          "output_type": "stream",
          "text": [
            "100%|██████████| 86/86 [00:00<00:00, 157.82it/s]\n",
            " 20%|█▉        | 17/86 [00:00<00:00, 166.24it/s]"
          ],
          "name": "stderr"
        },
        {
          "output_type": "stream",
          "text": [
            "Epoch : 126, mean loss : 109.11\n",
            "Beginning epoch 127\n"
          ],
          "name": "stdout"
        },
        {
          "output_type": "stream",
          "text": [
            "100%|██████████| 86/86 [00:00<00:00, 159.50it/s]\n",
            " 20%|█▉        | 17/86 [00:00<00:00, 166.25it/s]"
          ],
          "name": "stderr"
        },
        {
          "output_type": "stream",
          "text": [
            "Epoch : 127, mean loss : 108.86\n",
            "Beginning epoch 128\n"
          ],
          "name": "stdout"
        },
        {
          "output_type": "stream",
          "text": [
            "100%|██████████| 86/86 [00:00<00:00, 150.63it/s]\n",
            " 21%|██        | 18/86 [00:00<00:00, 170.91it/s]"
          ],
          "name": "stderr"
        },
        {
          "output_type": "stream",
          "text": [
            "Epoch : 128, mean loss : 108.63\n",
            "Beginning epoch 129\n"
          ],
          "name": "stdout"
        },
        {
          "output_type": "stream",
          "text": [
            "100%|██████████| 86/86 [00:00<00:00, 161.53it/s]\n",
            " 20%|█▉        | 17/86 [00:00<00:00, 161.32it/s]"
          ],
          "name": "stderr"
        },
        {
          "output_type": "stream",
          "text": [
            "Epoch : 129, mean loss : 108.39\n",
            "Beginning epoch 130\n"
          ],
          "name": "stdout"
        },
        {
          "output_type": "stream",
          "text": [
            "100%|██████████| 86/86 [00:00<00:00, 154.83it/s]\n",
            " 19%|█▊        | 16/86 [00:00<00:00, 155.95it/s]"
          ],
          "name": "stderr"
        },
        {
          "output_type": "stream",
          "text": [
            "Epoch : 130, mean loss : 108.13\n",
            "Beginning epoch 131\n"
          ],
          "name": "stdout"
        },
        {
          "output_type": "stream",
          "text": [
            "100%|██████████| 86/86 [00:00<00:00, 156.93it/s]\n",
            " 20%|█▉        | 17/86 [00:00<00:00, 164.78it/s]"
          ],
          "name": "stderr"
        },
        {
          "output_type": "stream",
          "text": [
            "Epoch : 131, mean loss : 107.90\n",
            "Beginning epoch 132\n"
          ],
          "name": "stdout"
        },
        {
          "output_type": "stream",
          "text": [
            "100%|██████████| 86/86 [00:00<00:00, 158.45it/s]\n",
            " 20%|█▉        | 17/86 [00:00<00:00, 164.27it/s]"
          ],
          "name": "stderr"
        },
        {
          "output_type": "stream",
          "text": [
            "Epoch : 132, mean loss : 107.65\n",
            "Beginning epoch 133\n"
          ],
          "name": "stdout"
        },
        {
          "output_type": "stream",
          "text": [
            "100%|██████████| 86/86 [00:00<00:00, 149.59it/s]\n",
            " 16%|█▋        | 14/86 [00:00<00:00, 138.99it/s]"
          ],
          "name": "stderr"
        },
        {
          "output_type": "stream",
          "text": [
            "Epoch : 133, mean loss : 107.41\n",
            "Beginning epoch 134\n"
          ],
          "name": "stdout"
        },
        {
          "output_type": "stream",
          "text": [
            "100%|██████████| 86/86 [00:00<00:00, 146.12it/s]\n",
            " 19%|█▊        | 16/86 [00:00<00:00, 152.77it/s]"
          ],
          "name": "stderr"
        },
        {
          "output_type": "stream",
          "text": [
            "Epoch : 134, mean loss : 107.13\n",
            "Beginning epoch 135\n"
          ],
          "name": "stdout"
        },
        {
          "output_type": "stream",
          "text": [
            "100%|██████████| 86/86 [00:00<00:00, 150.60it/s]\n",
            " 19%|█▊        | 16/86 [00:00<00:00, 157.16it/s]"
          ],
          "name": "stderr"
        },
        {
          "output_type": "stream",
          "text": [
            "Epoch : 135, mean loss : 106.93\n",
            "Beginning epoch 136\n"
          ],
          "name": "stdout"
        },
        {
          "output_type": "stream",
          "text": [
            "100%|██████████| 86/86 [00:00<00:00, 159.49it/s]\n",
            " 20%|█▉        | 17/86 [00:00<00:00, 163.66it/s]"
          ],
          "name": "stderr"
        },
        {
          "output_type": "stream",
          "text": [
            "Epoch : 136, mean loss : 106.71\n",
            "Beginning epoch 137\n"
          ],
          "name": "stdout"
        },
        {
          "output_type": "stream",
          "text": [
            "100%|██████████| 86/86 [00:00<00:00, 163.14it/s]\n",
            " 20%|█▉        | 17/86 [00:00<00:00, 162.30it/s]"
          ],
          "name": "stderr"
        },
        {
          "output_type": "stream",
          "text": [
            "Epoch : 137, mean loss : 106.56\n",
            "Beginning epoch 138\n"
          ],
          "name": "stdout"
        },
        {
          "output_type": "stream",
          "text": [
            "100%|██████████| 86/86 [00:00<00:00, 156.46it/s]\n",
            " 20%|█▉        | 17/86 [00:00<00:00, 159.42it/s]"
          ],
          "name": "stderr"
        },
        {
          "output_type": "stream",
          "text": [
            "Epoch : 138, mean loss : 106.32\n",
            "Beginning epoch 139\n"
          ],
          "name": "stdout"
        },
        {
          "output_type": "stream",
          "text": [
            "100%|██████████| 86/86 [00:00<00:00, 157.81it/s]\n",
            " 20%|█▉        | 17/86 [00:00<00:00, 165.81it/s]"
          ],
          "name": "stderr"
        },
        {
          "output_type": "stream",
          "text": [
            "Epoch : 139, mean loss : 106.12\n",
            "Beginning epoch 140\n"
          ],
          "name": "stdout"
        },
        {
          "output_type": "stream",
          "text": [
            "100%|██████████| 86/86 [00:00<00:00, 159.09it/s]\n",
            " 19%|█▊        | 16/86 [00:00<00:00, 158.06it/s]"
          ],
          "name": "stderr"
        },
        {
          "output_type": "stream",
          "text": [
            "Epoch : 140, mean loss : 105.87\n",
            "Beginning epoch 141\n"
          ],
          "name": "stdout"
        },
        {
          "output_type": "stream",
          "text": [
            "100%|██████████| 86/86 [00:00<00:00, 149.48it/s]\n",
            " 20%|█▉        | 17/86 [00:00<00:00, 163.41it/s]"
          ],
          "name": "stderr"
        },
        {
          "output_type": "stream",
          "text": [
            "Epoch : 141, mean loss : 105.65\n",
            "Beginning epoch 142\n"
          ],
          "name": "stdout"
        },
        {
          "output_type": "stream",
          "text": [
            "100%|██████████| 86/86 [00:00<00:00, 159.38it/s]\n",
            " 20%|█▉        | 17/86 [00:00<00:00, 166.89it/s]"
          ],
          "name": "stderr"
        },
        {
          "output_type": "stream",
          "text": [
            "Epoch : 142, mean loss : 105.42\n",
            "Beginning epoch 143\n"
          ],
          "name": "stdout"
        },
        {
          "output_type": "stream",
          "text": [
            "100%|██████████| 86/86 [00:00<00:00, 161.60it/s]\n",
            " 19%|█▊        | 16/86 [00:00<00:00, 156.35it/s]"
          ],
          "name": "stderr"
        },
        {
          "output_type": "stream",
          "text": [
            "Epoch : 143, mean loss : 105.22\n",
            "Beginning epoch 144\n"
          ],
          "name": "stdout"
        },
        {
          "output_type": "stream",
          "text": [
            "100%|██████████| 86/86 [00:00<00:00, 158.40it/s]\n",
            " 19%|█▊        | 16/86 [00:00<00:00, 153.99it/s]"
          ],
          "name": "stderr"
        },
        {
          "output_type": "stream",
          "text": [
            "Epoch : 144, mean loss : 105.01\n",
            "Beginning epoch 145\n"
          ],
          "name": "stdout"
        },
        {
          "output_type": "stream",
          "text": [
            "100%|██████████| 86/86 [00:00<00:00, 162.06it/s]\n",
            " 19%|█▊        | 16/86 [00:00<00:00, 155.25it/s]"
          ],
          "name": "stderr"
        },
        {
          "output_type": "stream",
          "text": [
            "Epoch : 145, mean loss : 104.78\n",
            "Beginning epoch 146\n"
          ],
          "name": "stdout"
        },
        {
          "output_type": "stream",
          "text": [
            "100%|██████████| 86/86 [00:00<00:00, 159.48it/s]\n",
            " 20%|█▉        | 17/86 [00:00<00:00, 164.85it/s]"
          ],
          "name": "stderr"
        },
        {
          "output_type": "stream",
          "text": [
            "Epoch : 146, mean loss : 104.60\n",
            "Beginning epoch 147\n"
          ],
          "name": "stdout"
        },
        {
          "output_type": "stream",
          "text": [
            "100%|██████████| 86/86 [00:00<00:00, 162.18it/s]\n",
            " 20%|█▉        | 17/86 [00:00<00:00, 167.53it/s]"
          ],
          "name": "stderr"
        },
        {
          "output_type": "stream",
          "text": [
            "Epoch : 147, mean loss : 104.38\n",
            "Beginning epoch 148\n"
          ],
          "name": "stdout"
        },
        {
          "output_type": "stream",
          "text": [
            "100%|██████████| 86/86 [00:00<00:00, 159.53it/s]\n",
            " 20%|█▉        | 17/86 [00:00<00:00, 163.49it/s]"
          ],
          "name": "stderr"
        },
        {
          "output_type": "stream",
          "text": [
            "Epoch : 148, mean loss : 104.18\n",
            "Beginning epoch 149\n"
          ],
          "name": "stdout"
        },
        {
          "output_type": "stream",
          "text": [
            "100%|██████████| 86/86 [00:00<00:00, 162.51it/s]\n",
            " 20%|█▉        | 17/86 [00:00<00:00, 164.71it/s]"
          ],
          "name": "stderr"
        },
        {
          "output_type": "stream",
          "text": [
            "Epoch : 149, mean loss : 103.94\n",
            "Beginning epoch 150\n"
          ],
          "name": "stdout"
        },
        {
          "output_type": "stream",
          "text": [
            "100%|██████████| 86/86 [00:00<00:00, 167.64it/s]\n",
            " 20%|█▉        | 17/86 [00:00<00:00, 161.89it/s]"
          ],
          "name": "stderr"
        },
        {
          "output_type": "stream",
          "text": [
            "Epoch : 150, mean loss : 103.73\n",
            "Beginning epoch 151\n"
          ],
          "name": "stdout"
        },
        {
          "output_type": "stream",
          "text": [
            "100%|██████████| 86/86 [00:00<00:00, 162.22it/s]\n",
            " 19%|█▊        | 16/86 [00:00<00:00, 159.42it/s]"
          ],
          "name": "stderr"
        },
        {
          "output_type": "stream",
          "text": [
            "Epoch : 151, mean loss : 103.51\n",
            "Beginning epoch 152\n"
          ],
          "name": "stdout"
        },
        {
          "output_type": "stream",
          "text": [
            "100%|██████████| 86/86 [00:00<00:00, 162.33it/s]\n",
            " 20%|█▉        | 17/86 [00:00<00:00, 167.17it/s]"
          ],
          "name": "stderr"
        },
        {
          "output_type": "stream",
          "text": [
            "Epoch : 152, mean loss : 103.29\n",
            "Beginning epoch 153\n"
          ],
          "name": "stdout"
        },
        {
          "output_type": "stream",
          "text": [
            "100%|██████████| 86/86 [00:00<00:00, 159.20it/s]\n",
            " 20%|█▉        | 17/86 [00:00<00:00, 164.26it/s]"
          ],
          "name": "stderr"
        },
        {
          "output_type": "stream",
          "text": [
            "Epoch : 153, mean loss : 103.12\n",
            "Beginning epoch 154\n"
          ],
          "name": "stdout"
        },
        {
          "output_type": "stream",
          "text": [
            "100%|██████████| 86/86 [00:00<00:00, 159.06it/s]\n",
            " 20%|█▉        | 17/86 [00:00<00:00, 168.53it/s]"
          ],
          "name": "stderr"
        },
        {
          "output_type": "stream",
          "text": [
            "Epoch : 154, mean loss : 102.94\n",
            "Beginning epoch 155\n"
          ],
          "name": "stdout"
        },
        {
          "output_type": "stream",
          "text": [
            "100%|██████████| 86/86 [00:00<00:00, 157.63it/s]\n",
            " 20%|█▉        | 17/86 [00:00<00:00, 162.56it/s]"
          ],
          "name": "stderr"
        },
        {
          "output_type": "stream",
          "text": [
            "Epoch : 155, mean loss : 102.73\n",
            "Beginning epoch 156\n"
          ],
          "name": "stdout"
        },
        {
          "output_type": "stream",
          "text": [
            "100%|██████████| 86/86 [00:00<00:00, 164.30it/s]\n",
            " 19%|█▊        | 16/86 [00:00<00:00, 158.11it/s]"
          ],
          "name": "stderr"
        },
        {
          "output_type": "stream",
          "text": [
            "Epoch : 156, mean loss : 102.55\n",
            "Beginning epoch 157\n"
          ],
          "name": "stdout"
        },
        {
          "output_type": "stream",
          "text": [
            "100%|██████████| 86/86 [00:00<00:00, 157.56it/s]\n",
            " 20%|█▉        | 17/86 [00:00<00:00, 164.99it/s]"
          ],
          "name": "stderr"
        },
        {
          "output_type": "stream",
          "text": [
            "Epoch : 157, mean loss : 102.37\n",
            "Beginning epoch 158\n"
          ],
          "name": "stdout"
        },
        {
          "output_type": "stream",
          "text": [
            "100%|██████████| 86/86 [00:00<00:00, 162.21it/s]\n",
            " 20%|█▉        | 17/86 [00:00<00:00, 163.37it/s]"
          ],
          "name": "stderr"
        },
        {
          "output_type": "stream",
          "text": [
            "Epoch : 158, mean loss : 102.15\n",
            "Beginning epoch 159\n"
          ],
          "name": "stdout"
        },
        {
          "output_type": "stream",
          "text": [
            "100%|██████████| 86/86 [00:00<00:00, 158.66it/s]\n",
            " 19%|█▊        | 16/86 [00:00<00:00, 152.89it/s]"
          ],
          "name": "stderr"
        },
        {
          "output_type": "stream",
          "text": [
            "Epoch : 159, mean loss : 101.95\n",
            "Beginning epoch 160\n"
          ],
          "name": "stdout"
        },
        {
          "output_type": "stream",
          "text": [
            "100%|██████████| 86/86 [00:00<00:00, 158.68it/s]\n",
            " 19%|█▊        | 16/86 [00:00<00:00, 152.27it/s]"
          ],
          "name": "stderr"
        },
        {
          "output_type": "stream",
          "text": [
            "Epoch : 160, mean loss : 101.76\n",
            "Beginning epoch 161\n"
          ],
          "name": "stdout"
        },
        {
          "output_type": "stream",
          "text": [
            "100%|██████████| 86/86 [00:00<00:00, 150.36it/s]\n",
            " 20%|█▉        | 17/86 [00:00<00:00, 162.16it/s]"
          ],
          "name": "stderr"
        },
        {
          "output_type": "stream",
          "text": [
            "Epoch : 161, mean loss : 101.57\n",
            "Beginning epoch 162\n"
          ],
          "name": "stdout"
        },
        {
          "output_type": "stream",
          "text": [
            "100%|██████████| 86/86 [00:00<00:00, 155.16it/s]\n",
            " 20%|█▉        | 17/86 [00:00<00:00, 162.06it/s]"
          ],
          "name": "stderr"
        },
        {
          "output_type": "stream",
          "text": [
            "Epoch : 162, mean loss : 101.39\n",
            "Beginning epoch 163\n"
          ],
          "name": "stdout"
        },
        {
          "output_type": "stream",
          "text": [
            "100%|██████████| 86/86 [00:00<00:00, 160.28it/s]\n",
            " 20%|█▉        | 17/86 [00:00<00:00, 169.73it/s]"
          ],
          "name": "stderr"
        },
        {
          "output_type": "stream",
          "text": [
            "Epoch : 163, mean loss : 101.18\n",
            "Beginning epoch 164\n"
          ],
          "name": "stdout"
        },
        {
          "output_type": "stream",
          "text": [
            "100%|██████████| 86/86 [00:00<00:00, 150.53it/s]\n",
            " 19%|█▊        | 16/86 [00:00<00:00, 159.07it/s]"
          ],
          "name": "stderr"
        },
        {
          "output_type": "stream",
          "text": [
            "Epoch : 164, mean loss : 100.99\n",
            "Beginning epoch 165\n"
          ],
          "name": "stdout"
        },
        {
          "output_type": "stream",
          "text": [
            "100%|██████████| 86/86 [00:00<00:00, 162.08it/s]\n",
            " 20%|█▉        | 17/86 [00:00<00:00, 169.54it/s]"
          ],
          "name": "stderr"
        },
        {
          "output_type": "stream",
          "text": [
            "Epoch : 165, mean loss : 100.81\n",
            "Beginning epoch 166\n"
          ],
          "name": "stdout"
        },
        {
          "output_type": "stream",
          "text": [
            "100%|██████████| 86/86 [00:00<00:00, 157.40it/s]\n",
            " 20%|█▉        | 17/86 [00:00<00:00, 161.51it/s]"
          ],
          "name": "stderr"
        },
        {
          "output_type": "stream",
          "text": [
            "Epoch : 166, mean loss : 100.62\n",
            "Beginning epoch 167\n"
          ],
          "name": "stdout"
        },
        {
          "output_type": "stream",
          "text": [
            "100%|██████████| 86/86 [00:00<00:00, 150.65it/s]\n",
            " 16%|█▋        | 14/86 [00:00<00:00, 137.03it/s]"
          ],
          "name": "stderr"
        },
        {
          "output_type": "stream",
          "text": [
            "Epoch : 167, mean loss : 100.43\n",
            "Beginning epoch 168\n"
          ],
          "name": "stdout"
        },
        {
          "output_type": "stream",
          "text": [
            "100%|██████████| 86/86 [00:00<00:00, 153.26it/s]\n",
            " 20%|█▉        | 17/86 [00:00<00:00, 166.71it/s]"
          ],
          "name": "stderr"
        },
        {
          "output_type": "stream",
          "text": [
            "Epoch : 168, mean loss : 100.25\n",
            "Beginning epoch 169\n"
          ],
          "name": "stdout"
        },
        {
          "output_type": "stream",
          "text": [
            "100%|██████████| 86/86 [00:00<00:00, 160.58it/s]\n",
            " 20%|█▉        | 17/86 [00:00<00:00, 157.51it/s]"
          ],
          "name": "stderr"
        },
        {
          "output_type": "stream",
          "text": [
            "Epoch : 169, mean loss : 100.06\n",
            "Beginning epoch 170\n"
          ],
          "name": "stdout"
        },
        {
          "output_type": "stream",
          "text": [
            "100%|██████████| 86/86 [00:00<00:00, 142.09it/s]\n",
            " 20%|█▉        | 17/86 [00:00<00:00, 167.97it/s]"
          ],
          "name": "stderr"
        },
        {
          "output_type": "stream",
          "text": [
            "Epoch : 170, mean loss : 99.89\n",
            "Beginning epoch 171\n"
          ],
          "name": "stdout"
        },
        {
          "output_type": "stream",
          "text": [
            "100%|██████████| 86/86 [00:00<00:00, 162.21it/s]\n",
            " 19%|█▊        | 16/86 [00:00<00:00, 157.69it/s]"
          ],
          "name": "stderr"
        },
        {
          "output_type": "stream",
          "text": [
            "Epoch : 171, mean loss : 99.69\n",
            "Beginning epoch 172\n"
          ],
          "name": "stdout"
        },
        {
          "output_type": "stream",
          "text": [
            "100%|██████████| 86/86 [00:00<00:00, 154.17it/s]\n",
            " 19%|█▊        | 16/86 [00:00<00:00, 151.40it/s]"
          ],
          "name": "stderr"
        },
        {
          "output_type": "stream",
          "text": [
            "Epoch : 172, mean loss : 99.51\n",
            "Beginning epoch 173\n"
          ],
          "name": "stdout"
        },
        {
          "output_type": "stream",
          "text": [
            "100%|██████████| 86/86 [00:00<00:00, 153.99it/s]\n",
            " 19%|█▊        | 16/86 [00:00<00:00, 151.78it/s]"
          ],
          "name": "stderr"
        },
        {
          "output_type": "stream",
          "text": [
            "Epoch : 173, mean loss : 99.36\n",
            "Beginning epoch 174\n"
          ],
          "name": "stdout"
        },
        {
          "output_type": "stream",
          "text": [
            "100%|██████████| 86/86 [00:00<00:00, 157.55it/s]\n",
            " 20%|█▉        | 17/86 [00:00<00:00, 166.12it/s]"
          ],
          "name": "stderr"
        },
        {
          "output_type": "stream",
          "text": [
            "Epoch : 174, mean loss : 99.19\n",
            "Beginning epoch 175\n"
          ],
          "name": "stdout"
        },
        {
          "output_type": "stream",
          "text": [
            "100%|██████████| 86/86 [00:00<00:00, 149.99it/s]\n",
            " 19%|█▊        | 16/86 [00:00<00:00, 155.57it/s]"
          ],
          "name": "stderr"
        },
        {
          "output_type": "stream",
          "text": [
            "Epoch : 175, mean loss : 99.04\n",
            "Beginning epoch 176\n"
          ],
          "name": "stdout"
        },
        {
          "output_type": "stream",
          "text": [
            "100%|██████████| 86/86 [00:00<00:00, 153.67it/s]\n",
            " 19%|█▊        | 16/86 [00:00<00:00, 158.06it/s]"
          ],
          "name": "stderr"
        },
        {
          "output_type": "stream",
          "text": [
            "Epoch : 176, mean loss : 98.90\n",
            "Beginning epoch 177\n"
          ],
          "name": "stdout"
        },
        {
          "output_type": "stream",
          "text": [
            "100%|██████████| 86/86 [00:00<00:00, 147.57it/s]\n",
            " 19%|█▊        | 16/86 [00:00<00:00, 158.21it/s]"
          ],
          "name": "stderr"
        },
        {
          "output_type": "stream",
          "text": [
            "Epoch : 177, mean loss : 98.71\n",
            "Beginning epoch 178\n"
          ],
          "name": "stdout"
        },
        {
          "output_type": "stream",
          "text": [
            "100%|██████████| 86/86 [00:00<00:00, 151.51it/s]\n",
            " 16%|█▋        | 14/86 [00:00<00:00, 138.53it/s]"
          ],
          "name": "stderr"
        },
        {
          "output_type": "stream",
          "text": [
            "Epoch : 178, mean loss : 98.54\n",
            "Beginning epoch 179\n"
          ],
          "name": "stdout"
        },
        {
          "output_type": "stream",
          "text": [
            "100%|██████████| 86/86 [00:00<00:00, 152.61it/s]\n",
            " 17%|█▋        | 15/86 [00:00<00:00, 146.48it/s]"
          ],
          "name": "stderr"
        },
        {
          "output_type": "stream",
          "text": [
            "Epoch : 179, mean loss : 98.38\n",
            "Beginning epoch 180\n"
          ],
          "name": "stdout"
        },
        {
          "output_type": "stream",
          "text": [
            "100%|██████████| 86/86 [00:00<00:00, 142.82it/s]\n",
            " 17%|█▋        | 15/86 [00:00<00:00, 146.19it/s]"
          ],
          "name": "stderr"
        },
        {
          "output_type": "stream",
          "text": [
            "Epoch : 180, mean loss : 98.21\n",
            "Beginning epoch 181\n"
          ],
          "name": "stdout"
        },
        {
          "output_type": "stream",
          "text": [
            "100%|██████████| 86/86 [00:00<00:00, 144.63it/s]\n",
            " 14%|█▍        | 12/86 [00:00<00:00, 119.45it/s]"
          ],
          "name": "stderr"
        },
        {
          "output_type": "stream",
          "text": [
            "Epoch : 181, mean loss : 98.03\n",
            "Beginning epoch 182\n"
          ],
          "name": "stdout"
        },
        {
          "output_type": "stream",
          "text": [
            "100%|██████████| 86/86 [00:00<00:00, 139.87it/s]\n",
            " 19%|█▊        | 16/86 [00:00<00:00, 152.58it/s]"
          ],
          "name": "stderr"
        },
        {
          "output_type": "stream",
          "text": [
            "Epoch : 182, mean loss : 97.86\n",
            "Beginning epoch 183\n"
          ],
          "name": "stdout"
        },
        {
          "output_type": "stream",
          "text": [
            "100%|██████████| 86/86 [00:00<00:00, 152.03it/s]\n",
            " 19%|█▊        | 16/86 [00:00<00:00, 152.63it/s]"
          ],
          "name": "stderr"
        },
        {
          "output_type": "stream",
          "text": [
            "Epoch : 183, mean loss : 97.71\n",
            "Beginning epoch 184\n"
          ],
          "name": "stdout"
        },
        {
          "output_type": "stream",
          "text": [
            "100%|██████████| 86/86 [00:00<00:00, 147.32it/s]\n",
            " 17%|█▋        | 15/86 [00:00<00:00, 147.05it/s]"
          ],
          "name": "stderr"
        },
        {
          "output_type": "stream",
          "text": [
            "Epoch : 184, mean loss : 97.57\n",
            "Beginning epoch 185\n"
          ],
          "name": "stdout"
        },
        {
          "output_type": "stream",
          "text": [
            "100%|██████████| 86/86 [00:00<00:00, 139.38it/s]\n",
            " 16%|█▋        | 14/86 [00:00<00:00, 136.98it/s]"
          ],
          "name": "stderr"
        },
        {
          "output_type": "stream",
          "text": [
            "Epoch : 185, mean loss : 97.40\n",
            "Beginning epoch 186\n"
          ],
          "name": "stdout"
        },
        {
          "output_type": "stream",
          "text": [
            "100%|██████████| 86/86 [00:00<00:00, 146.22it/s]\n",
            " 20%|█▉        | 17/86 [00:00<00:00, 164.48it/s]"
          ],
          "name": "stderr"
        },
        {
          "output_type": "stream",
          "text": [
            "Epoch : 186, mean loss : 97.22\n",
            "Beginning epoch 187\n"
          ],
          "name": "stdout"
        },
        {
          "output_type": "stream",
          "text": [
            "100%|██████████| 86/86 [00:00<00:00, 135.63it/s]\n",
            " 19%|█▊        | 16/86 [00:00<00:00, 154.47it/s]"
          ],
          "name": "stderr"
        },
        {
          "output_type": "stream",
          "text": [
            "Epoch : 187, mean loss : 97.10\n",
            "Beginning epoch 188\n"
          ],
          "name": "stdout"
        },
        {
          "output_type": "stream",
          "text": [
            "100%|██████████| 86/86 [00:00<00:00, 136.41it/s]\n",
            " 17%|█▋        | 15/86 [00:00<00:00, 140.05it/s]"
          ],
          "name": "stderr"
        },
        {
          "output_type": "stream",
          "text": [
            "Epoch : 188, mean loss : 96.94\n",
            "Beginning epoch 189\n"
          ],
          "name": "stdout"
        },
        {
          "output_type": "stream",
          "text": [
            "100%|██████████| 86/86 [00:00<00:00, 142.65it/s]\n",
            " 17%|█▋        | 15/86 [00:00<00:00, 146.27it/s]"
          ],
          "name": "stderr"
        },
        {
          "output_type": "stream",
          "text": [
            "Epoch : 189, mean loss : 96.81\n",
            "Beginning epoch 190\n"
          ],
          "name": "stdout"
        },
        {
          "output_type": "stream",
          "text": [
            "100%|██████████| 86/86 [00:00<00:00, 149.91it/s]\n",
            " 19%|█▊        | 16/86 [00:00<00:00, 151.96it/s]"
          ],
          "name": "stderr"
        },
        {
          "output_type": "stream",
          "text": [
            "Epoch : 190, mean loss : 96.68\n",
            "Beginning epoch 191\n"
          ],
          "name": "stdout"
        },
        {
          "output_type": "stream",
          "text": [
            "100%|██████████| 86/86 [00:00<00:00, 161.08it/s]\n",
            " 21%|██        | 18/86 [00:00<00:00, 171.05it/s]"
          ],
          "name": "stderr"
        },
        {
          "output_type": "stream",
          "text": [
            "Epoch : 191, mean loss : 96.54\n",
            "Beginning epoch 192\n"
          ],
          "name": "stdout"
        },
        {
          "output_type": "stream",
          "text": [
            "100%|██████████| 86/86 [00:00<00:00, 159.33it/s]\n",
            " 20%|█▉        | 17/86 [00:00<00:00, 161.00it/s]"
          ],
          "name": "stderr"
        },
        {
          "output_type": "stream",
          "text": [
            "Epoch : 192, mean loss : 96.39\n",
            "Beginning epoch 193\n"
          ],
          "name": "stdout"
        },
        {
          "output_type": "stream",
          "text": [
            "100%|██████████| 86/86 [00:00<00:00, 157.63it/s]\n",
            " 20%|█▉        | 17/86 [00:00<00:00, 165.68it/s]"
          ],
          "name": "stderr"
        },
        {
          "output_type": "stream",
          "text": [
            "Epoch : 193, mean loss : 96.23\n",
            "Beginning epoch 194\n"
          ],
          "name": "stdout"
        },
        {
          "output_type": "stream",
          "text": [
            "100%|██████████| 86/86 [00:00<00:00, 158.12it/s]\n",
            " 19%|█▊        | 16/86 [00:00<00:00, 158.35it/s]"
          ],
          "name": "stderr"
        },
        {
          "output_type": "stream",
          "text": [
            "Epoch : 194, mean loss : 96.08\n",
            "Beginning epoch 195\n"
          ],
          "name": "stdout"
        },
        {
          "output_type": "stream",
          "text": [
            "100%|██████████| 86/86 [00:00<00:00, 154.73it/s]\n",
            " 15%|█▌        | 13/86 [00:00<00:00, 123.13it/s]"
          ],
          "name": "stderr"
        },
        {
          "output_type": "stream",
          "text": [
            "Epoch : 195, mean loss : 95.94\n",
            "Beginning epoch 196\n"
          ],
          "name": "stdout"
        },
        {
          "output_type": "stream",
          "text": [
            "100%|██████████| 86/86 [00:00<00:00, 139.59it/s]\n",
            " 19%|█▊        | 16/86 [00:00<00:00, 155.31it/s]"
          ],
          "name": "stderr"
        },
        {
          "output_type": "stream",
          "text": [
            "Epoch : 196, mean loss : 95.80\n",
            "Beginning epoch 197\n"
          ],
          "name": "stdout"
        },
        {
          "output_type": "stream",
          "text": [
            "100%|██████████| 86/86 [00:00<00:00, 144.11it/s]\n",
            " 16%|█▋        | 14/86 [00:00<00:00, 132.09it/s]"
          ],
          "name": "stderr"
        },
        {
          "output_type": "stream",
          "text": [
            "Epoch : 197, mean loss : 95.67\n",
            "Beginning epoch 198\n"
          ],
          "name": "stdout"
        },
        {
          "output_type": "stream",
          "text": [
            "100%|██████████| 86/86 [00:00<00:00, 145.37it/s]\n",
            " 17%|█▋        | 15/86 [00:00<00:00, 147.54it/s]"
          ],
          "name": "stderr"
        },
        {
          "output_type": "stream",
          "text": [
            "Epoch : 198, mean loss : 95.52\n",
            "Beginning epoch 199\n"
          ],
          "name": "stdout"
        },
        {
          "output_type": "stream",
          "text": [
            "100%|██████████| 86/86 [00:00<00:00, 146.10it/s]\n",
            " 17%|█▋        | 15/86 [00:00<00:00, 148.73it/s]"
          ],
          "name": "stderr"
        },
        {
          "output_type": "stream",
          "text": [
            "Epoch : 199, mean loss : 95.38\n",
            "Beginning epoch 200\n"
          ],
          "name": "stdout"
        },
        {
          "output_type": "stream",
          "text": [
            "100%|██████████| 86/86 [00:00<00:00, 150.34it/s]\n",
            " 16%|█▋        | 14/86 [00:00<00:00, 133.28it/s]"
          ],
          "name": "stderr"
        },
        {
          "output_type": "stream",
          "text": [
            "Epoch : 200, mean loss : 95.23\n",
            "Beginning epoch 201\n"
          ],
          "name": "stdout"
        },
        {
          "output_type": "stream",
          "text": [
            "100%|██████████| 86/86 [00:00<00:00, 137.08it/s]\n",
            " 16%|█▋        | 14/86 [00:00<00:00, 131.60it/s]"
          ],
          "name": "stderr"
        },
        {
          "output_type": "stream",
          "text": [
            "Epoch : 201, mean loss : 95.08\n",
            "Beginning epoch 202\n"
          ],
          "name": "stdout"
        },
        {
          "output_type": "stream",
          "text": [
            "100%|██████████| 86/86 [00:00<00:00, 131.14it/s]\n",
            " 16%|█▋        | 14/86 [00:00<00:00, 136.40it/s]"
          ],
          "name": "stderr"
        },
        {
          "output_type": "stream",
          "text": [
            "Epoch : 202, mean loss : 94.94\n",
            "Beginning epoch 203\n"
          ],
          "name": "stdout"
        },
        {
          "output_type": "stream",
          "text": [
            "100%|██████████| 86/86 [00:00<00:00, 136.61it/s]\n",
            " 19%|█▊        | 16/86 [00:00<00:00, 153.24it/s]"
          ],
          "name": "stderr"
        },
        {
          "output_type": "stream",
          "text": [
            "Epoch : 203, mean loss : 94.82\n",
            "Beginning epoch 204\n"
          ],
          "name": "stdout"
        },
        {
          "output_type": "stream",
          "text": [
            "100%|██████████| 86/86 [00:00<00:00, 140.61it/s]\n",
            " 17%|█▋        | 15/86 [00:00<00:00, 141.74it/s]"
          ],
          "name": "stderr"
        },
        {
          "output_type": "stream",
          "text": [
            "Epoch : 204, mean loss : 94.70\n",
            "Beginning epoch 205\n"
          ],
          "name": "stdout"
        },
        {
          "output_type": "stream",
          "text": [
            "100%|██████████| 86/86 [00:00<00:00, 141.28it/s]\n",
            " 16%|█▋        | 14/86 [00:00<00:00, 138.11it/s]"
          ],
          "name": "stderr"
        },
        {
          "output_type": "stream",
          "text": [
            "Epoch : 205, mean loss : 94.56\n",
            "Beginning epoch 206\n"
          ],
          "name": "stdout"
        },
        {
          "output_type": "stream",
          "text": [
            "100%|██████████| 86/86 [00:00<00:00, 139.33it/s]\n",
            " 19%|█▊        | 16/86 [00:00<00:00, 159.35it/s]"
          ],
          "name": "stderr"
        },
        {
          "output_type": "stream",
          "text": [
            "Epoch : 206, mean loss : 94.44\n",
            "Beginning epoch 207\n"
          ],
          "name": "stdout"
        },
        {
          "output_type": "stream",
          "text": [
            "100%|██████████| 86/86 [00:00<00:00, 130.51it/s]\n",
            " 16%|█▋        | 14/86 [00:00<00:00, 130.82it/s]"
          ],
          "name": "stderr"
        },
        {
          "output_type": "stream",
          "text": [
            "Epoch : 207, mean loss : 94.32\n",
            "Beginning epoch 208\n"
          ],
          "name": "stdout"
        },
        {
          "output_type": "stream",
          "text": [
            "100%|██████████| 86/86 [00:00<00:00, 147.24it/s]\n",
            " 17%|█▋        | 15/86 [00:00<00:00, 145.43it/s]"
          ],
          "name": "stderr"
        },
        {
          "output_type": "stream",
          "text": [
            "Epoch : 208, mean loss : 94.19\n",
            "Beginning epoch 209\n"
          ],
          "name": "stdout"
        },
        {
          "output_type": "stream",
          "text": [
            "100%|██████████| 86/86 [00:00<00:00, 146.16it/s]\n",
            " 19%|█▊        | 16/86 [00:00<00:00, 154.71it/s]"
          ],
          "name": "stderr"
        },
        {
          "output_type": "stream",
          "text": [
            "Epoch : 209, mean loss : 94.04\n",
            "Beginning epoch 210\n"
          ],
          "name": "stdout"
        },
        {
          "output_type": "stream",
          "text": [
            "100%|██████████| 86/86 [00:00<00:00, 158.03it/s]\n",
            " 20%|█▉        | 17/86 [00:00<00:00, 167.66it/s]"
          ],
          "name": "stderr"
        },
        {
          "output_type": "stream",
          "text": [
            "Epoch : 210, mean loss : 93.92\n",
            "Beginning epoch 211\n"
          ],
          "name": "stdout"
        },
        {
          "output_type": "stream",
          "text": [
            "100%|██████████| 86/86 [00:00<00:00, 159.71it/s]\n",
            " 20%|█▉        | 17/86 [00:00<00:00, 166.76it/s]"
          ],
          "name": "stderr"
        },
        {
          "output_type": "stream",
          "text": [
            "Epoch : 211, mean loss : 93.80\n",
            "Beginning epoch 212\n"
          ],
          "name": "stdout"
        },
        {
          "output_type": "stream",
          "text": [
            "100%|██████████| 86/86 [00:00<00:00, 161.99it/s]\n",
            " 20%|█▉        | 17/86 [00:00<00:00, 169.85it/s]"
          ],
          "name": "stderr"
        },
        {
          "output_type": "stream",
          "text": [
            "Epoch : 212, mean loss : 93.67\n",
            "Beginning epoch 213\n"
          ],
          "name": "stdout"
        },
        {
          "output_type": "stream",
          "text": [
            "100%|██████████| 86/86 [00:00<00:00, 156.95it/s]\n",
            " 20%|█▉        | 17/86 [00:00<00:00, 161.96it/s]"
          ],
          "name": "stderr"
        },
        {
          "output_type": "stream",
          "text": [
            "Epoch : 213, mean loss : 93.54\n",
            "Beginning epoch 214\n"
          ],
          "name": "stdout"
        },
        {
          "output_type": "stream",
          "text": [
            "100%|██████████| 86/86 [00:00<00:00, 160.89it/s]\n",
            " 19%|█▊        | 16/86 [00:00<00:00, 155.37it/s]"
          ],
          "name": "stderr"
        },
        {
          "output_type": "stream",
          "text": [
            "Epoch : 214, mean loss : 93.43\n",
            "Beginning epoch 215\n"
          ],
          "name": "stdout"
        },
        {
          "output_type": "stream",
          "text": [
            "100%|██████████| 86/86 [00:00<00:00, 160.36it/s]\n",
            " 20%|█▉        | 17/86 [00:00<00:00, 167.62it/s]"
          ],
          "name": "stderr"
        },
        {
          "output_type": "stream",
          "text": [
            "Epoch : 215, mean loss : 93.30\n",
            "Beginning epoch 216\n"
          ],
          "name": "stdout"
        },
        {
          "output_type": "stream",
          "text": [
            "100%|██████████| 86/86 [00:00<00:00, 162.59it/s]\n",
            " 20%|█▉        | 17/86 [00:00<00:00, 161.50it/s]"
          ],
          "name": "stderr"
        },
        {
          "output_type": "stream",
          "text": [
            "Epoch : 216, mean loss : 93.17\n",
            "Beginning epoch 217\n"
          ],
          "name": "stdout"
        },
        {
          "output_type": "stream",
          "text": [
            "100%|██████████| 86/86 [00:00<00:00, 161.70it/s]\n",
            " 19%|█▊        | 16/86 [00:00<00:00, 158.68it/s]"
          ],
          "name": "stderr"
        },
        {
          "output_type": "stream",
          "text": [
            "Epoch : 217, mean loss : 93.04\n",
            "Beginning epoch 218\n"
          ],
          "name": "stdout"
        },
        {
          "output_type": "stream",
          "text": [
            "100%|██████████| 86/86 [00:00<00:00, 158.09it/s]\n",
            " 20%|█▉        | 17/86 [00:00<00:00, 169.52it/s]"
          ],
          "name": "stderr"
        },
        {
          "output_type": "stream",
          "text": [
            "Epoch : 218, mean loss : 92.93\n",
            "Beginning epoch 219\n"
          ],
          "name": "stdout"
        },
        {
          "output_type": "stream",
          "text": [
            "100%|██████████| 86/86 [00:00<00:00, 160.94it/s]\n",
            " 20%|█▉        | 17/86 [00:00<00:00, 167.86it/s]"
          ],
          "name": "stderr"
        },
        {
          "output_type": "stream",
          "text": [
            "Epoch : 219, mean loss : 92.80\n",
            "Beginning epoch 220\n"
          ],
          "name": "stdout"
        },
        {
          "output_type": "stream",
          "text": [
            "100%|██████████| 86/86 [00:00<00:00, 159.01it/s]\n",
            " 20%|█▉        | 17/86 [00:00<00:00, 161.68it/s]"
          ],
          "name": "stderr"
        },
        {
          "output_type": "stream",
          "text": [
            "Epoch : 220, mean loss : 92.66\n",
            "Beginning epoch 221\n"
          ],
          "name": "stdout"
        },
        {
          "output_type": "stream",
          "text": [
            "100%|██████████| 86/86 [00:00<00:00, 160.02it/s]\n",
            " 17%|█▋        | 15/86 [00:00<00:00, 143.86it/s]"
          ],
          "name": "stderr"
        },
        {
          "output_type": "stream",
          "text": [
            "Epoch : 221, mean loss : 92.56\n",
            "Beginning epoch 222\n"
          ],
          "name": "stdout"
        },
        {
          "output_type": "stream",
          "text": [
            "100%|██████████| 86/86 [00:00<00:00, 154.82it/s]\n",
            " 20%|█▉        | 17/86 [00:00<00:00, 166.29it/s]"
          ],
          "name": "stderr"
        },
        {
          "output_type": "stream",
          "text": [
            "Epoch : 222, mean loss : 92.44\n",
            "Beginning epoch 223\n"
          ],
          "name": "stdout"
        },
        {
          "output_type": "stream",
          "text": [
            "100%|██████████| 86/86 [00:00<00:00, 157.43it/s]\n",
            " 19%|█▊        | 16/86 [00:00<00:00, 154.23it/s]"
          ],
          "name": "stderr"
        },
        {
          "output_type": "stream",
          "text": [
            "Epoch : 223, mean loss : 92.33\n",
            "Beginning epoch 224\n"
          ],
          "name": "stdout"
        },
        {
          "output_type": "stream",
          "text": [
            "100%|██████████| 86/86 [00:00<00:00, 161.41it/s]\n",
            " 20%|█▉        | 17/86 [00:00<00:00, 164.49it/s]"
          ],
          "name": "stderr"
        },
        {
          "output_type": "stream",
          "text": [
            "Epoch : 224, mean loss : 92.21\n",
            "Beginning epoch 225\n"
          ],
          "name": "stdout"
        },
        {
          "output_type": "stream",
          "text": [
            "100%|██████████| 86/86 [00:00<00:00, 158.36it/s]\n",
            " 20%|█▉        | 17/86 [00:00<00:00, 162.21it/s]"
          ],
          "name": "stderr"
        },
        {
          "output_type": "stream",
          "text": [
            "Epoch : 225, mean loss : 92.09\n",
            "Beginning epoch 226\n"
          ],
          "name": "stdout"
        },
        {
          "output_type": "stream",
          "text": [
            "100%|██████████| 86/86 [00:00<00:00, 150.45it/s]\n",
            " 20%|█▉        | 17/86 [00:00<00:00, 165.82it/s]"
          ],
          "name": "stderr"
        },
        {
          "output_type": "stream",
          "text": [
            "Epoch : 226, mean loss : 92.00\n",
            "Beginning epoch 227\n"
          ],
          "name": "stdout"
        },
        {
          "output_type": "stream",
          "text": [
            "100%|██████████| 86/86 [00:00<00:00, 162.07it/s]\n",
            " 19%|█▊        | 16/86 [00:00<00:00, 150.92it/s]"
          ],
          "name": "stderr"
        },
        {
          "output_type": "stream",
          "text": [
            "Epoch : 227, mean loss : 91.90\n",
            "Beginning epoch 228\n"
          ],
          "name": "stdout"
        },
        {
          "output_type": "stream",
          "text": [
            "100%|██████████| 86/86 [00:00<00:00, 159.33it/s]\n",
            " 20%|█▉        | 17/86 [00:00<00:00, 168.98it/s]"
          ],
          "name": "stderr"
        },
        {
          "output_type": "stream",
          "text": [
            "Epoch : 228, mean loss : 91.79\n",
            "Beginning epoch 229\n"
          ],
          "name": "stdout"
        },
        {
          "output_type": "stream",
          "text": [
            "100%|██████████| 86/86 [00:00<00:00, 160.20it/s]\n",
            " 16%|█▋        | 14/86 [00:00<00:00, 136.66it/s]"
          ],
          "name": "stderr"
        },
        {
          "output_type": "stream",
          "text": [
            "Epoch : 229, mean loss : 91.67\n",
            "Beginning epoch 230\n"
          ],
          "name": "stdout"
        },
        {
          "output_type": "stream",
          "text": [
            "100%|██████████| 86/86 [00:00<00:00, 158.61it/s]\n",
            " 20%|█▉        | 17/86 [00:00<00:00, 164.19it/s]"
          ],
          "name": "stderr"
        },
        {
          "output_type": "stream",
          "text": [
            "Epoch : 230, mean loss : 91.56\n",
            "Beginning epoch 231\n"
          ],
          "name": "stdout"
        },
        {
          "output_type": "stream",
          "text": [
            "100%|██████████| 86/86 [00:00<00:00, 160.78it/s]\n",
            " 20%|█▉        | 17/86 [00:00<00:00, 168.99it/s]"
          ],
          "name": "stderr"
        },
        {
          "output_type": "stream",
          "text": [
            "Epoch : 231, mean loss : 91.44\n",
            "Beginning epoch 232\n"
          ],
          "name": "stdout"
        },
        {
          "output_type": "stream",
          "text": [
            "100%|██████████| 86/86 [00:00<00:00, 159.93it/s]\n",
            " 20%|█▉        | 17/86 [00:00<00:00, 160.11it/s]"
          ],
          "name": "stderr"
        },
        {
          "output_type": "stream",
          "text": [
            "Epoch : 232, mean loss : 91.34\n",
            "Beginning epoch 233\n"
          ],
          "name": "stdout"
        },
        {
          "output_type": "stream",
          "text": [
            "100%|██████████| 86/86 [00:00<00:00, 149.23it/s]\n",
            " 20%|█▉        | 17/86 [00:00<00:00, 167.96it/s]"
          ],
          "name": "stderr"
        },
        {
          "output_type": "stream",
          "text": [
            "Epoch : 233, mean loss : 91.22\n",
            "Beginning epoch 234\n"
          ],
          "name": "stdout"
        },
        {
          "output_type": "stream",
          "text": [
            "100%|██████████| 86/86 [00:00<00:00, 162.20it/s]\n",
            " 20%|█▉        | 17/86 [00:00<00:00, 162.37it/s]"
          ],
          "name": "stderr"
        },
        {
          "output_type": "stream",
          "text": [
            "Epoch : 234, mean loss : 91.09\n",
            "Beginning epoch 235\n"
          ],
          "name": "stdout"
        },
        {
          "output_type": "stream",
          "text": [
            "100%|██████████| 86/86 [00:00<00:00, 152.49it/s]\n",
            " 20%|█▉        | 17/86 [00:00<00:00, 162.69it/s]"
          ],
          "name": "stderr"
        },
        {
          "output_type": "stream",
          "text": [
            "Epoch : 235, mean loss : 90.98\n",
            "Beginning epoch 236\n"
          ],
          "name": "stdout"
        },
        {
          "output_type": "stream",
          "text": [
            "100%|██████████| 86/86 [00:00<00:00, 162.16it/s]\n",
            " 19%|█▊        | 16/86 [00:00<00:00, 157.52it/s]"
          ],
          "name": "stderr"
        },
        {
          "output_type": "stream",
          "text": [
            "Epoch : 236, mean loss : 90.88\n",
            "Beginning epoch 237\n"
          ],
          "name": "stdout"
        },
        {
          "output_type": "stream",
          "text": [
            "100%|██████████| 86/86 [00:00<00:00, 153.35it/s]\n",
            " 20%|█▉        | 17/86 [00:00<00:00, 167.18it/s]"
          ],
          "name": "stderr"
        },
        {
          "output_type": "stream",
          "text": [
            "Epoch : 237, mean loss : 90.76\n",
            "Beginning epoch 238\n"
          ],
          "name": "stdout"
        },
        {
          "output_type": "stream",
          "text": [
            "100%|██████████| 86/86 [00:00<00:00, 161.63it/s]\n",
            " 20%|█▉        | 17/86 [00:00<00:00, 167.50it/s]"
          ],
          "name": "stderr"
        },
        {
          "output_type": "stream",
          "text": [
            "Epoch : 238, mean loss : 90.65\n",
            "Beginning epoch 239\n"
          ],
          "name": "stdout"
        },
        {
          "output_type": "stream",
          "text": [
            "100%|██████████| 86/86 [00:00<00:00, 160.82it/s]\n",
            " 19%|█▊        | 16/86 [00:00<00:00, 154.93it/s]"
          ],
          "name": "stderr"
        },
        {
          "output_type": "stream",
          "text": [
            "Epoch : 239, mean loss : 90.54\n",
            "Beginning epoch 240\n"
          ],
          "name": "stdout"
        },
        {
          "output_type": "stream",
          "text": [
            "100%|██████████| 86/86 [00:00<00:00, 148.72it/s]\n",
            " 19%|█▊        | 16/86 [00:00<00:00, 155.18it/s]"
          ],
          "name": "stderr"
        },
        {
          "output_type": "stream",
          "text": [
            "Epoch : 240, mean loss : 90.44\n",
            "Beginning epoch 241\n"
          ],
          "name": "stdout"
        },
        {
          "output_type": "stream",
          "text": [
            "100%|██████████| 86/86 [00:00<00:00, 153.21it/s]\n",
            " 20%|█▉        | 17/86 [00:00<00:00, 163.16it/s]"
          ],
          "name": "stderr"
        },
        {
          "output_type": "stream",
          "text": [
            "Epoch : 241, mean loss : 90.34\n",
            "Beginning epoch 242\n"
          ],
          "name": "stdout"
        },
        {
          "output_type": "stream",
          "text": [
            "100%|██████████| 86/86 [00:00<00:00, 157.27it/s]\n",
            " 19%|█▊        | 16/86 [00:00<00:00, 154.45it/s]"
          ],
          "name": "stderr"
        },
        {
          "output_type": "stream",
          "text": [
            "Epoch : 242, mean loss : 90.26\n",
            "Beginning epoch 243\n"
          ],
          "name": "stdout"
        },
        {
          "output_type": "stream",
          "text": [
            "100%|██████████| 86/86 [00:00<00:00, 157.16it/s]\n",
            " 19%|█▊        | 16/86 [00:00<00:00, 159.53it/s]"
          ],
          "name": "stderr"
        },
        {
          "output_type": "stream",
          "text": [
            "Epoch : 243, mean loss : 90.16\n",
            "Beginning epoch 244\n"
          ],
          "name": "stdout"
        },
        {
          "output_type": "stream",
          "text": [
            "100%|██████████| 86/86 [00:00<00:00, 158.15it/s]\n",
            " 17%|█▋        | 15/86 [00:00<00:00, 148.94it/s]"
          ],
          "name": "stderr"
        },
        {
          "output_type": "stream",
          "text": [
            "Epoch : 244, mean loss : 90.06\n",
            "Beginning epoch 245\n"
          ],
          "name": "stdout"
        },
        {
          "output_type": "stream",
          "text": [
            "100%|██████████| 86/86 [00:00<00:00, 158.88it/s]\n",
            " 20%|█▉        | 17/86 [00:00<00:00, 164.29it/s]"
          ],
          "name": "stderr"
        },
        {
          "output_type": "stream",
          "text": [
            "Epoch : 245, mean loss : 89.96\n",
            "Beginning epoch 246\n"
          ],
          "name": "stdout"
        },
        {
          "output_type": "stream",
          "text": [
            "100%|██████████| 86/86 [00:00<00:00, 156.72it/s]\n",
            " 19%|█▊        | 16/86 [00:00<00:00, 155.65it/s]"
          ],
          "name": "stderr"
        },
        {
          "output_type": "stream",
          "text": [
            "Epoch : 246, mean loss : 89.85\n",
            "Beginning epoch 247\n"
          ],
          "name": "stdout"
        },
        {
          "output_type": "stream",
          "text": [
            "100%|██████████| 86/86 [00:00<00:00, 159.62it/s]\n",
            " 19%|█▊        | 16/86 [00:00<00:00, 159.02it/s]"
          ],
          "name": "stderr"
        },
        {
          "output_type": "stream",
          "text": [
            "Epoch : 247, mean loss : 89.76\n",
            "Beginning epoch 248\n"
          ],
          "name": "stdout"
        },
        {
          "output_type": "stream",
          "text": [
            "100%|██████████| 86/86 [00:00<00:00, 157.46it/s]\n",
            " 20%|█▉        | 17/86 [00:00<00:00, 160.98it/s]"
          ],
          "name": "stderr"
        },
        {
          "output_type": "stream",
          "text": [
            "Epoch : 248, mean loss : 89.64\n",
            "Beginning epoch 249\n"
          ],
          "name": "stdout"
        },
        {
          "output_type": "stream",
          "text": [
            "100%|██████████| 86/86 [00:00<00:00, 158.75it/s]\n",
            " 21%|██        | 18/86 [00:00<00:00, 170.43it/s]"
          ],
          "name": "stderr"
        },
        {
          "output_type": "stream",
          "text": [
            "Epoch : 249, mean loss : 89.53\n",
            "Beginning epoch 250\n"
          ],
          "name": "stdout"
        },
        {
          "output_type": "stream",
          "text": [
            "100%|██████████| 86/86 [00:00<00:00, 157.54it/s]\n",
            " 20%|█▉        | 17/86 [00:00<00:00, 163.08it/s]"
          ],
          "name": "stderr"
        },
        {
          "output_type": "stream",
          "text": [
            "Epoch : 250, mean loss : 89.44\n",
            "Beginning epoch 251\n"
          ],
          "name": "stdout"
        },
        {
          "output_type": "stream",
          "text": [
            "100%|██████████| 86/86 [00:00<00:00, 162.52it/s]\n",
            " 16%|█▋        | 14/86 [00:00<00:00, 137.10it/s]"
          ],
          "name": "stderr"
        },
        {
          "output_type": "stream",
          "text": [
            "Epoch : 251, mean loss : 89.34\n",
            "Beginning epoch 252\n"
          ],
          "name": "stdout"
        },
        {
          "output_type": "stream",
          "text": [
            "100%|██████████| 86/86 [00:00<00:00, 149.75it/s]\n",
            " 19%|█▊        | 16/86 [00:00<00:00, 151.75it/s]"
          ],
          "name": "stderr"
        },
        {
          "output_type": "stream",
          "text": [
            "Epoch : 252, mean loss : 89.24\n",
            "Beginning epoch 253\n"
          ],
          "name": "stdout"
        },
        {
          "output_type": "stream",
          "text": [
            "100%|██████████| 86/86 [00:00<00:00, 154.94it/s]\n",
            " 20%|█▉        | 17/86 [00:00<00:00, 160.96it/s]"
          ],
          "name": "stderr"
        },
        {
          "output_type": "stream",
          "text": [
            "Epoch : 253, mean loss : 89.14\n",
            "Beginning epoch 254\n"
          ],
          "name": "stdout"
        },
        {
          "output_type": "stream",
          "text": [
            "100%|██████████| 86/86 [00:00<00:00, 156.67it/s]\n",
            " 20%|█▉        | 17/86 [00:00<00:00, 167.11it/s]"
          ],
          "name": "stderr"
        },
        {
          "output_type": "stream",
          "text": [
            "Epoch : 254, mean loss : 89.05\n",
            "Beginning epoch 255\n"
          ],
          "name": "stdout"
        },
        {
          "output_type": "stream",
          "text": [
            "100%|██████████| 86/86 [00:00<00:00, 159.99it/s]\n",
            " 19%|█▊        | 16/86 [00:00<00:00, 156.28it/s]"
          ],
          "name": "stderr"
        },
        {
          "output_type": "stream",
          "text": [
            "Epoch : 255, mean loss : 88.95\n",
            "Beginning epoch 256\n"
          ],
          "name": "stdout"
        },
        {
          "output_type": "stream",
          "text": [
            "100%|██████████| 86/86 [00:00<00:00, 160.59it/s]\n",
            " 19%|█▊        | 16/86 [00:00<00:00, 154.71it/s]"
          ],
          "name": "stderr"
        },
        {
          "output_type": "stream",
          "text": [
            "Epoch : 256, mean loss : 88.85\n",
            "Beginning epoch 257\n"
          ],
          "name": "stdout"
        },
        {
          "output_type": "stream",
          "text": [
            "100%|██████████| 86/86 [00:00<00:00, 156.82it/s]\n",
            " 20%|█▉        | 17/86 [00:00<00:00, 164.96it/s]"
          ],
          "name": "stderr"
        },
        {
          "output_type": "stream",
          "text": [
            "Epoch : 257, mean loss : 88.75\n",
            "Beginning epoch 258\n"
          ],
          "name": "stdout"
        },
        {
          "output_type": "stream",
          "text": [
            "100%|██████████| 86/86 [00:00<00:00, 159.77it/s]\n",
            " 20%|█▉        | 17/86 [00:00<00:00, 166.35it/s]"
          ],
          "name": "stderr"
        },
        {
          "output_type": "stream",
          "text": [
            "Epoch : 258, mean loss : 88.64\n",
            "Beginning epoch 259\n"
          ],
          "name": "stdout"
        },
        {
          "output_type": "stream",
          "text": [
            "100%|██████████| 86/86 [00:00<00:00, 160.04it/s]\n",
            " 21%|██        | 18/86 [00:00<00:00, 170.62it/s]"
          ],
          "name": "stderr"
        },
        {
          "output_type": "stream",
          "text": [
            "Epoch : 259, mean loss : 88.56\n",
            "Beginning epoch 260\n"
          ],
          "name": "stdout"
        },
        {
          "output_type": "stream",
          "text": [
            "100%|██████████| 86/86 [00:00<00:00, 163.59it/s]\n",
            " 20%|█▉        | 17/86 [00:00<00:00, 166.84it/s]"
          ],
          "name": "stderr"
        },
        {
          "output_type": "stream",
          "text": [
            "Epoch : 260, mean loss : 88.47\n",
            "Beginning epoch 261\n"
          ],
          "name": "stdout"
        },
        {
          "output_type": "stream",
          "text": [
            "100%|██████████| 86/86 [00:00<00:00, 151.52it/s]\n",
            " 19%|█▊        | 16/86 [00:00<00:00, 158.40it/s]"
          ],
          "name": "stderr"
        },
        {
          "output_type": "stream",
          "text": [
            "Epoch : 261, mean loss : 88.37\n",
            "Beginning epoch 262\n"
          ],
          "name": "stdout"
        },
        {
          "output_type": "stream",
          "text": [
            "100%|██████████| 86/86 [00:00<00:00, 154.31it/s]\n",
            " 19%|█▊        | 16/86 [00:00<00:00, 154.58it/s]"
          ],
          "name": "stderr"
        },
        {
          "output_type": "stream",
          "text": [
            "Epoch : 262, mean loss : 88.27\n",
            "Beginning epoch 263\n"
          ],
          "name": "stdout"
        },
        {
          "output_type": "stream",
          "text": [
            "100%|██████████| 86/86 [00:00<00:00, 152.47it/s]\n",
            " 20%|█▉        | 17/86 [00:00<00:00, 165.21it/s]"
          ],
          "name": "stderr"
        },
        {
          "output_type": "stream",
          "text": [
            "Epoch : 263, mean loss : 88.17\n",
            "Beginning epoch 264\n"
          ],
          "name": "stdout"
        },
        {
          "output_type": "stream",
          "text": [
            "100%|██████████| 86/86 [00:00<00:00, 146.91it/s]\n",
            " 19%|█▊        | 16/86 [00:00<00:00, 157.68it/s]"
          ],
          "name": "stderr"
        },
        {
          "output_type": "stream",
          "text": [
            "Epoch : 264, mean loss : 88.08\n",
            "Beginning epoch 265\n"
          ],
          "name": "stdout"
        },
        {
          "output_type": "stream",
          "text": [
            "100%|██████████| 86/86 [00:00<00:00, 153.07it/s]\n",
            " 19%|█▊        | 16/86 [00:00<00:00, 153.18it/s]"
          ],
          "name": "stderr"
        },
        {
          "output_type": "stream",
          "text": [
            "Epoch : 265, mean loss : 87.98\n",
            "Beginning epoch 266\n"
          ],
          "name": "stdout"
        },
        {
          "output_type": "stream",
          "text": [
            "100%|██████████| 86/86 [00:00<00:00, 155.86it/s]\n",
            " 19%|█▊        | 16/86 [00:00<00:00, 155.80it/s]"
          ],
          "name": "stderr"
        },
        {
          "output_type": "stream",
          "text": [
            "Epoch : 266, mean loss : 87.89\n",
            "Beginning epoch 267\n"
          ],
          "name": "stdout"
        },
        {
          "output_type": "stream",
          "text": [
            "100%|██████████| 86/86 [00:00<00:00, 160.19it/s]\n",
            " 20%|█▉        | 17/86 [00:00<00:00, 163.21it/s]"
          ],
          "name": "stderr"
        },
        {
          "output_type": "stream",
          "text": [
            "Epoch : 267, mean loss : 87.80\n",
            "Beginning epoch 268\n"
          ],
          "name": "stdout"
        },
        {
          "output_type": "stream",
          "text": [
            "100%|██████████| 86/86 [00:00<00:00, 158.61it/s]\n",
            " 20%|█▉        | 17/86 [00:00<00:00, 164.45it/s]"
          ],
          "name": "stderr"
        },
        {
          "output_type": "stream",
          "text": [
            "Epoch : 268, mean loss : 87.70\n",
            "Beginning epoch 269\n"
          ],
          "name": "stdout"
        },
        {
          "output_type": "stream",
          "text": [
            "100%|██████████| 86/86 [00:00<00:00, 159.52it/s]\n",
            " 19%|█▊        | 16/86 [00:00<00:00, 155.69it/s]"
          ],
          "name": "stderr"
        },
        {
          "output_type": "stream",
          "text": [
            "Epoch : 269, mean loss : 87.61\n",
            "Beginning epoch 270\n"
          ],
          "name": "stdout"
        },
        {
          "output_type": "stream",
          "text": [
            "100%|██████████| 86/86 [00:00<00:00, 156.60it/s]\n",
            " 19%|█▊        | 16/86 [00:00<00:00, 155.92it/s]"
          ],
          "name": "stderr"
        },
        {
          "output_type": "stream",
          "text": [
            "Epoch : 270, mean loss : 87.55\n",
            "Beginning epoch 271\n"
          ],
          "name": "stdout"
        },
        {
          "output_type": "stream",
          "text": [
            "100%|██████████| 86/86 [00:00<00:00, 158.06it/s]\n",
            " 16%|█▋        | 14/86 [00:00<00:00, 139.95it/s]"
          ],
          "name": "stderr"
        },
        {
          "output_type": "stream",
          "text": [
            "Epoch : 271, mean loss : 87.46\n",
            "Beginning epoch 272\n"
          ],
          "name": "stdout"
        },
        {
          "output_type": "stream",
          "text": [
            "100%|██████████| 86/86 [00:00<00:00, 154.32it/s]\n",
            " 20%|█▉        | 17/86 [00:00<00:00, 169.26it/s]"
          ],
          "name": "stderr"
        },
        {
          "output_type": "stream",
          "text": [
            "Epoch : 272, mean loss : 87.36\n",
            "Beginning epoch 273\n"
          ],
          "name": "stdout"
        },
        {
          "output_type": "stream",
          "text": [
            "100%|██████████| 86/86 [00:00<00:00, 163.88it/s]\n",
            " 19%|█▊        | 16/86 [00:00<00:00, 158.68it/s]"
          ],
          "name": "stderr"
        },
        {
          "output_type": "stream",
          "text": [
            "Epoch : 273, mean loss : 87.26\n",
            "Beginning epoch 274\n"
          ],
          "name": "stdout"
        },
        {
          "output_type": "stream",
          "text": [
            "100%|██████████| 86/86 [00:00<00:00, 143.70it/s]\n",
            " 20%|█▉        | 17/86 [00:00<00:00, 162.77it/s]"
          ],
          "name": "stderr"
        },
        {
          "output_type": "stream",
          "text": [
            "Epoch : 274, mean loss : 87.17\n",
            "Beginning epoch 275\n"
          ],
          "name": "stdout"
        },
        {
          "output_type": "stream",
          "text": [
            "100%|██████████| 86/86 [00:00<00:00, 158.31it/s]\n",
            " 20%|█▉        | 17/86 [00:00<00:00, 164.98it/s]"
          ],
          "name": "stderr"
        },
        {
          "output_type": "stream",
          "text": [
            "Epoch : 275, mean loss : 87.09\n",
            "Beginning epoch 276\n"
          ],
          "name": "stdout"
        },
        {
          "output_type": "stream",
          "text": [
            "100%|██████████| 86/86 [00:00<00:00, 160.42it/s]\n",
            " 19%|█▊        | 16/86 [00:00<00:00, 157.26it/s]"
          ],
          "name": "stderr"
        },
        {
          "output_type": "stream",
          "text": [
            "Epoch : 276, mean loss : 87.00\n",
            "Beginning epoch 277\n"
          ],
          "name": "stdout"
        },
        {
          "output_type": "stream",
          "text": [
            "100%|██████████| 86/86 [00:00<00:00, 156.14it/s]\n",
            " 19%|█▊        | 16/86 [00:00<00:00, 156.05it/s]"
          ],
          "name": "stderr"
        },
        {
          "output_type": "stream",
          "text": [
            "Epoch : 277, mean loss : 86.91\n",
            "Beginning epoch 278\n"
          ],
          "name": "stdout"
        },
        {
          "output_type": "stream",
          "text": [
            "100%|██████████| 86/86 [00:00<00:00, 158.80it/s]\n",
            " 20%|█▉        | 17/86 [00:00<00:00, 161.35it/s]"
          ],
          "name": "stderr"
        },
        {
          "output_type": "stream",
          "text": [
            "Epoch : 278, mean loss : 86.83\n",
            "Beginning epoch 279\n"
          ],
          "name": "stdout"
        },
        {
          "output_type": "stream",
          "text": [
            "100%|██████████| 86/86 [00:00<00:00, 155.55it/s]\n",
            " 20%|█▉        | 17/86 [00:00<00:00, 168.41it/s]"
          ],
          "name": "stderr"
        },
        {
          "output_type": "stream",
          "text": [
            "Epoch : 279, mean loss : 86.74\n",
            "Beginning epoch 280\n"
          ],
          "name": "stdout"
        },
        {
          "output_type": "stream",
          "text": [
            "100%|██████████| 86/86 [00:00<00:00, 156.70it/s]\n",
            " 19%|█▊        | 16/86 [00:00<00:00, 155.95it/s]"
          ],
          "name": "stderr"
        },
        {
          "output_type": "stream",
          "text": [
            "Epoch : 280, mean loss : 86.65\n",
            "Beginning epoch 281\n"
          ],
          "name": "stdout"
        },
        {
          "output_type": "stream",
          "text": [
            "100%|██████████| 86/86 [00:00<00:00, 154.87it/s]\n",
            " 19%|█▊        | 16/86 [00:00<00:00, 157.90it/s]"
          ],
          "name": "stderr"
        },
        {
          "output_type": "stream",
          "text": [
            "Epoch : 281, mean loss : 86.56\n",
            "Beginning epoch 282\n"
          ],
          "name": "stdout"
        },
        {
          "output_type": "stream",
          "text": [
            "100%|██████████| 86/86 [00:00<00:00, 158.38it/s]\n",
            " 19%|█▊        | 16/86 [00:00<00:00, 159.72it/s]"
          ],
          "name": "stderr"
        },
        {
          "output_type": "stream",
          "text": [
            "Epoch : 282, mean loss : 86.49\n",
            "Beginning epoch 283\n"
          ],
          "name": "stdout"
        },
        {
          "output_type": "stream",
          "text": [
            "100%|██████████| 86/86 [00:00<00:00, 158.38it/s]\n",
            " 20%|█▉        | 17/86 [00:00<00:00, 165.59it/s]"
          ],
          "name": "stderr"
        },
        {
          "output_type": "stream",
          "text": [
            "Epoch : 283, mean loss : 86.40\n",
            "Beginning epoch 284\n"
          ],
          "name": "stdout"
        },
        {
          "output_type": "stream",
          "text": [
            "100%|██████████| 86/86 [00:00<00:00, 156.41it/s]\n",
            " 19%|█▊        | 16/86 [00:00<00:00, 154.03it/s]"
          ],
          "name": "stderr"
        },
        {
          "output_type": "stream",
          "text": [
            "Epoch : 284, mean loss : 86.31\n",
            "Beginning epoch 285\n"
          ],
          "name": "stdout"
        },
        {
          "output_type": "stream",
          "text": [
            "100%|██████████| 86/86 [00:00<00:00, 153.06it/s]\n",
            " 20%|█▉        | 17/86 [00:00<00:00, 161.81it/s]"
          ],
          "name": "stderr"
        },
        {
          "output_type": "stream",
          "text": [
            "Epoch : 285, mean loss : 86.22\n",
            "Beginning epoch 286\n"
          ],
          "name": "stdout"
        },
        {
          "output_type": "stream",
          "text": [
            "100%|██████████| 86/86 [00:00<00:00, 156.89it/s]\n",
            " 20%|█▉        | 17/86 [00:00<00:00, 165.23it/s]"
          ],
          "name": "stderr"
        },
        {
          "output_type": "stream",
          "text": [
            "Epoch : 286, mean loss : 86.14\n",
            "Beginning epoch 287\n"
          ],
          "name": "stdout"
        },
        {
          "output_type": "stream",
          "text": [
            "100%|██████████| 86/86 [00:00<00:00, 165.60it/s]\n",
            " 20%|█▉        | 17/86 [00:00<00:00, 161.38it/s]"
          ],
          "name": "stderr"
        },
        {
          "output_type": "stream",
          "text": [
            "Epoch : 287, mean loss : 86.07\n",
            "Beginning epoch 288\n"
          ],
          "name": "stdout"
        },
        {
          "output_type": "stream",
          "text": [
            "100%|██████████| 86/86 [00:00<00:00, 155.59it/s]\n",
            " 19%|█▊        | 16/86 [00:00<00:00, 151.13it/s]"
          ],
          "name": "stderr"
        },
        {
          "output_type": "stream",
          "text": [
            "Epoch : 288, mean loss : 85.99\n",
            "Beginning epoch 289\n"
          ],
          "name": "stdout"
        },
        {
          "output_type": "stream",
          "text": [
            "100%|██████████| 86/86 [00:00<00:00, 138.53it/s]\n",
            " 15%|█▌        | 13/86 [00:00<00:00, 121.90it/s]"
          ],
          "name": "stderr"
        },
        {
          "output_type": "stream",
          "text": [
            "Epoch : 289, mean loss : 85.90\n",
            "Beginning epoch 290\n"
          ],
          "name": "stdout"
        },
        {
          "output_type": "stream",
          "text": [
            "100%|██████████| 86/86 [00:00<00:00, 148.86it/s]\n",
            " 20%|█▉        | 17/86 [00:00<00:00, 169.10it/s]"
          ],
          "name": "stderr"
        },
        {
          "output_type": "stream",
          "text": [
            "Epoch : 290, mean loss : 85.83\n",
            "Beginning epoch 291\n"
          ],
          "name": "stdout"
        },
        {
          "output_type": "stream",
          "text": [
            "100%|██████████| 86/86 [00:00<00:00, 158.09it/s]\n",
            " 19%|█▊        | 16/86 [00:00<00:00, 151.34it/s]"
          ],
          "name": "stderr"
        },
        {
          "output_type": "stream",
          "text": [
            "Epoch : 291, mean loss : 85.75\n",
            "Beginning epoch 292\n"
          ],
          "name": "stdout"
        },
        {
          "output_type": "stream",
          "text": [
            "100%|██████████| 86/86 [00:00<00:00, 157.22it/s]\n",
            " 20%|█▉        | 17/86 [00:00<00:00, 164.55it/s]"
          ],
          "name": "stderr"
        },
        {
          "output_type": "stream",
          "text": [
            "Epoch : 292, mean loss : 85.68\n",
            "Beginning epoch 293\n"
          ],
          "name": "stdout"
        },
        {
          "output_type": "stream",
          "text": [
            "100%|██████████| 86/86 [00:00<00:00, 152.95it/s]\n",
            " 17%|█▋        | 15/86 [00:00<00:00, 149.02it/s]"
          ],
          "name": "stderr"
        },
        {
          "output_type": "stream",
          "text": [
            "Epoch : 293, mean loss : 85.59\n",
            "Beginning epoch 294\n"
          ],
          "name": "stdout"
        },
        {
          "output_type": "stream",
          "text": [
            "100%|██████████| 86/86 [00:00<00:00, 153.75it/s]\n",
            " 17%|█▋        | 15/86 [00:00<00:00, 148.34it/s]"
          ],
          "name": "stderr"
        },
        {
          "output_type": "stream",
          "text": [
            "Epoch : 294, mean loss : 85.51\n",
            "Beginning epoch 295\n"
          ],
          "name": "stdout"
        },
        {
          "output_type": "stream",
          "text": [
            "100%|██████████| 86/86 [00:00<00:00, 146.09it/s]\n",
            " 15%|█▌        | 13/86 [00:00<00:00, 128.98it/s]"
          ],
          "name": "stderr"
        },
        {
          "output_type": "stream",
          "text": [
            "Epoch : 295, mean loss : 85.43\n",
            "Beginning epoch 296\n"
          ],
          "name": "stdout"
        },
        {
          "output_type": "stream",
          "text": [
            "100%|██████████| 86/86 [00:00<00:00, 145.54it/s]\n",
            " 16%|█▋        | 14/86 [00:00<00:00, 131.56it/s]"
          ],
          "name": "stderr"
        },
        {
          "output_type": "stream",
          "text": [
            "Epoch : 296, mean loss : 85.34\n",
            "Beginning epoch 297\n"
          ],
          "name": "stdout"
        },
        {
          "output_type": "stream",
          "text": [
            "100%|██████████| 86/86 [00:00<00:00, 148.64it/s]\n",
            " 17%|█▋        | 15/86 [00:00<00:00, 141.57it/s]"
          ],
          "name": "stderr"
        },
        {
          "output_type": "stream",
          "text": [
            "Epoch : 297, mean loss : 85.26\n",
            "Beginning epoch 298\n"
          ],
          "name": "stdout"
        },
        {
          "output_type": "stream",
          "text": [
            "100%|██████████| 86/86 [00:00<00:00, 153.61it/s]\n",
            " 19%|█▊        | 16/86 [00:00<00:00, 157.00it/s]"
          ],
          "name": "stderr"
        },
        {
          "output_type": "stream",
          "text": [
            "Epoch : 298, mean loss : 85.19\n",
            "Beginning epoch 299\n"
          ],
          "name": "stdout"
        },
        {
          "output_type": "stream",
          "text": [
            "100%|██████████| 86/86 [00:00<00:00, 143.78it/s]\n",
            " 17%|█▋        | 15/86 [00:00<00:00, 143.32it/s]"
          ],
          "name": "stderr"
        },
        {
          "output_type": "stream",
          "text": [
            "Epoch : 299, mean loss : 85.11\n",
            "Beginning epoch 300\n"
          ],
          "name": "stdout"
        },
        {
          "output_type": "stream",
          "text": [
            "100%|██████████| 86/86 [00:00<00:00, 137.79it/s]\n",
            " 16%|█▋        | 14/86 [00:00<00:00, 136.75it/s]"
          ],
          "name": "stderr"
        },
        {
          "output_type": "stream",
          "text": [
            "Epoch : 300, mean loss : 85.03\n",
            "Beginning epoch 301\n"
          ],
          "name": "stdout"
        },
        {
          "output_type": "stream",
          "text": [
            "100%|██████████| 86/86 [00:00<00:00, 130.67it/s]\n",
            " 16%|█▋        | 14/86 [00:00<00:00, 130.67it/s]"
          ],
          "name": "stderr"
        },
        {
          "output_type": "stream",
          "text": [
            "Epoch : 301, mean loss : 84.95\n",
            "Beginning epoch 302\n"
          ],
          "name": "stdout"
        },
        {
          "output_type": "stream",
          "text": [
            "100%|██████████| 86/86 [00:00<00:00, 132.44it/s]\n",
            " 19%|█▊        | 16/86 [00:00<00:00, 156.05it/s]"
          ],
          "name": "stderr"
        },
        {
          "output_type": "stream",
          "text": [
            "Epoch : 302, mean loss : 84.88\n",
            "Beginning epoch 303\n"
          ],
          "name": "stdout"
        },
        {
          "output_type": "stream",
          "text": [
            "100%|██████████| 86/86 [00:00<00:00, 139.50it/s]\n",
            " 12%|█▏        | 10/86 [00:00<00:00, 98.45it/s]"
          ],
          "name": "stderr"
        },
        {
          "output_type": "stream",
          "text": [
            "Epoch : 303, mean loss : 84.81\n",
            "Beginning epoch 304\n"
          ],
          "name": "stdout"
        },
        {
          "output_type": "stream",
          "text": [
            "100%|██████████| 86/86 [00:00<00:00, 116.81it/s]\n",
            " 12%|█▏        | 10/86 [00:00<00:00, 96.43it/s]"
          ],
          "name": "stderr"
        },
        {
          "output_type": "stream",
          "text": [
            "Epoch : 304, mean loss : 84.74\n",
            "Beginning epoch 305\n"
          ],
          "name": "stdout"
        },
        {
          "output_type": "stream",
          "text": [
            "100%|██████████| 86/86 [00:00<00:00, 126.09it/s]\n",
            " 19%|█▊        | 16/86 [00:00<00:00, 154.05it/s]"
          ],
          "name": "stderr"
        },
        {
          "output_type": "stream",
          "text": [
            "Epoch : 305, mean loss : 84.67\n",
            "Beginning epoch 306\n"
          ],
          "name": "stdout"
        },
        {
          "output_type": "stream",
          "text": [
            "100%|██████████| 86/86 [00:00<00:00, 143.70it/s]\n",
            " 14%|█▍        | 12/86 [00:00<00:00, 116.99it/s]"
          ],
          "name": "stderr"
        },
        {
          "output_type": "stream",
          "text": [
            "Epoch : 306, mean loss : 84.59\n",
            "Beginning epoch 307\n"
          ],
          "name": "stdout"
        },
        {
          "output_type": "stream",
          "text": [
            "100%|██████████| 86/86 [00:00<00:00, 140.69it/s]\n",
            " 17%|█▋        | 15/86 [00:00<00:00, 148.14it/s]"
          ],
          "name": "stderr"
        },
        {
          "output_type": "stream",
          "text": [
            "Epoch : 307, mean loss : 84.53\n",
            "Beginning epoch 308\n"
          ],
          "name": "stdout"
        },
        {
          "output_type": "stream",
          "text": [
            "100%|██████████| 86/86 [00:00<00:00, 156.64it/s]\n",
            " 20%|█▉        | 17/86 [00:00<00:00, 163.07it/s]"
          ],
          "name": "stderr"
        },
        {
          "output_type": "stream",
          "text": [
            "Epoch : 308, mean loss : 84.46\n",
            "Beginning epoch 309\n"
          ],
          "name": "stdout"
        },
        {
          "output_type": "stream",
          "text": [
            "100%|██████████| 86/86 [00:00<00:00, 161.54it/s]\n",
            " 20%|█▉        | 17/86 [00:00<00:00, 162.86it/s]"
          ],
          "name": "stderr"
        },
        {
          "output_type": "stream",
          "text": [
            "Epoch : 309, mean loss : 84.38\n",
            "Beginning epoch 310\n"
          ],
          "name": "stdout"
        },
        {
          "output_type": "stream",
          "text": [
            "100%|██████████| 86/86 [00:00<00:00, 161.10it/s]\n",
            " 20%|█▉        | 17/86 [00:00<00:00, 169.05it/s]"
          ],
          "name": "stderr"
        },
        {
          "output_type": "stream",
          "text": [
            "Epoch : 310, mean loss : 84.31\n",
            "Beginning epoch 311\n"
          ],
          "name": "stdout"
        },
        {
          "output_type": "stream",
          "text": [
            "100%|██████████| 86/86 [00:00<00:00, 160.74it/s]\n",
            " 17%|█▋        | 15/86 [00:00<00:00, 143.83it/s]"
          ],
          "name": "stderr"
        },
        {
          "output_type": "stream",
          "text": [
            "Epoch : 311, mean loss : 84.24\n",
            "Beginning epoch 312\n"
          ],
          "name": "stdout"
        },
        {
          "output_type": "stream",
          "text": [
            "100%|██████████| 86/86 [00:00<00:00, 148.83it/s]\n",
            " 20%|█▉        | 17/86 [00:00<00:00, 162.09it/s]"
          ],
          "name": "stderr"
        },
        {
          "output_type": "stream",
          "text": [
            "Epoch : 312, mean loss : 84.17\n",
            "Beginning epoch 313\n"
          ],
          "name": "stdout"
        },
        {
          "output_type": "stream",
          "text": [
            "100%|██████████| 86/86 [00:00<00:00, 163.66it/s]\n",
            " 19%|█▊        | 16/86 [00:00<00:00, 154.93it/s]"
          ],
          "name": "stderr"
        },
        {
          "output_type": "stream",
          "text": [
            "Epoch : 313, mean loss : 84.09\n",
            "Beginning epoch 314\n"
          ],
          "name": "stdout"
        },
        {
          "output_type": "stream",
          "text": [
            "100%|██████████| 86/86 [00:00<00:00, 159.21it/s]\n",
            " 20%|█▉        | 17/86 [00:00<00:00, 163.47it/s]"
          ],
          "name": "stderr"
        },
        {
          "output_type": "stream",
          "text": [
            "Epoch : 314, mean loss : 84.01\n",
            "Beginning epoch 315\n"
          ],
          "name": "stdout"
        },
        {
          "output_type": "stream",
          "text": [
            "100%|██████████| 86/86 [00:00<00:00, 165.25it/s]\n",
            " 20%|█▉        | 17/86 [00:00<00:00, 167.25it/s]"
          ],
          "name": "stderr"
        },
        {
          "output_type": "stream",
          "text": [
            "Epoch : 315, mean loss : 83.93\n",
            "Beginning epoch 316\n"
          ],
          "name": "stdout"
        },
        {
          "output_type": "stream",
          "text": [
            "100%|██████████| 86/86 [00:00<00:00, 161.50it/s]\n",
            " 20%|█▉        | 17/86 [00:00<00:00, 166.22it/s]"
          ],
          "name": "stderr"
        },
        {
          "output_type": "stream",
          "text": [
            "Epoch : 316, mean loss : 83.86\n",
            "Beginning epoch 317\n"
          ],
          "name": "stdout"
        },
        {
          "output_type": "stream",
          "text": [
            "100%|██████████| 86/86 [00:00<00:00, 163.60it/s]\n",
            " 19%|█▊        | 16/86 [00:00<00:00, 155.43it/s]"
          ],
          "name": "stderr"
        },
        {
          "output_type": "stream",
          "text": [
            "Epoch : 317, mean loss : 83.78\n",
            "Beginning epoch 318\n"
          ],
          "name": "stdout"
        },
        {
          "output_type": "stream",
          "text": [
            "100%|██████████| 86/86 [00:00<00:00, 163.26it/s]\n",
            " 20%|█▉        | 17/86 [00:00<00:00, 167.92it/s]"
          ],
          "name": "stderr"
        },
        {
          "output_type": "stream",
          "text": [
            "Epoch : 318, mean loss : 83.71\n",
            "Beginning epoch 319\n"
          ],
          "name": "stdout"
        },
        {
          "output_type": "stream",
          "text": [
            "100%|██████████| 86/86 [00:00<00:00, 160.83it/s]\n",
            " 19%|█▊        | 16/86 [00:00<00:00, 153.59it/s]"
          ],
          "name": "stderr"
        },
        {
          "output_type": "stream",
          "text": [
            "Epoch : 319, mean loss : 83.65\n",
            "Beginning epoch 320\n"
          ],
          "name": "stdout"
        },
        {
          "output_type": "stream",
          "text": [
            "100%|██████████| 86/86 [00:00<00:00, 161.60it/s]\n",
            " 20%|█▉        | 17/86 [00:00<00:00, 169.87it/s]"
          ],
          "name": "stderr"
        },
        {
          "output_type": "stream",
          "text": [
            "Epoch : 320, mean loss : 83.58\n",
            "Beginning epoch 321\n"
          ],
          "name": "stdout"
        },
        {
          "output_type": "stream",
          "text": [
            "100%|██████████| 86/86 [00:00<00:00, 158.90it/s]\n",
            " 20%|█▉        | 17/86 [00:00<00:00, 160.07it/s]"
          ],
          "name": "stderr"
        },
        {
          "output_type": "stream",
          "text": [
            "Epoch : 321, mean loss : 83.51\n",
            "Beginning epoch 322\n"
          ],
          "name": "stdout"
        },
        {
          "output_type": "stream",
          "text": [
            "100%|██████████| 86/86 [00:00<00:00, 161.52it/s]\n",
            " 19%|█▊        | 16/86 [00:00<00:00, 154.53it/s]"
          ],
          "name": "stderr"
        },
        {
          "output_type": "stream",
          "text": [
            "Epoch : 322, mean loss : 83.43\n",
            "Beginning epoch 323\n"
          ],
          "name": "stdout"
        },
        {
          "output_type": "stream",
          "text": [
            "100%|██████████| 86/86 [00:00<00:00, 156.68it/s]\n",
            " 20%|█▉        | 17/86 [00:00<00:00, 168.99it/s]"
          ],
          "name": "stderr"
        },
        {
          "output_type": "stream",
          "text": [
            "Epoch : 323, mean loss : 83.37\n",
            "Beginning epoch 324\n"
          ],
          "name": "stdout"
        },
        {
          "output_type": "stream",
          "text": [
            "100%|██████████| 86/86 [00:00<00:00, 164.94it/s]\n",
            " 20%|█▉        | 17/86 [00:00<00:00, 161.40it/s]"
          ],
          "name": "stderr"
        },
        {
          "output_type": "stream",
          "text": [
            "Epoch : 324, mean loss : 83.30\n",
            "Beginning epoch 325\n"
          ],
          "name": "stdout"
        },
        {
          "output_type": "stream",
          "text": [
            "100%|██████████| 86/86 [00:00<00:00, 156.11it/s]\n",
            " 20%|█▉        | 17/86 [00:00<00:00, 164.00it/s]"
          ],
          "name": "stderr"
        },
        {
          "output_type": "stream",
          "text": [
            "Epoch : 325, mean loss : 83.24\n",
            "Beginning epoch 326\n"
          ],
          "name": "stdout"
        },
        {
          "output_type": "stream",
          "text": [
            "100%|██████████| 86/86 [00:00<00:00, 163.65it/s]\n",
            " 20%|█▉        | 17/86 [00:00<00:00, 162.06it/s]"
          ],
          "name": "stderr"
        },
        {
          "output_type": "stream",
          "text": [
            "Epoch : 326, mean loss : 83.17\n",
            "Beginning epoch 327\n"
          ],
          "name": "stdout"
        },
        {
          "output_type": "stream",
          "text": [
            "100%|██████████| 86/86 [00:00<00:00, 159.58it/s]\n",
            " 20%|█▉        | 17/86 [00:00<00:00, 164.50it/s]"
          ],
          "name": "stderr"
        },
        {
          "output_type": "stream",
          "text": [
            "Epoch : 327, mean loss : 83.11\n",
            "Beginning epoch 328\n"
          ],
          "name": "stdout"
        },
        {
          "output_type": "stream",
          "text": [
            "100%|██████████| 86/86 [00:00<00:00, 161.74it/s]\n",
            " 20%|█▉        | 17/86 [00:00<00:00, 160.58it/s]"
          ],
          "name": "stderr"
        },
        {
          "output_type": "stream",
          "text": [
            "Epoch : 328, mean loss : 83.04\n",
            "Beginning epoch 329\n"
          ],
          "name": "stdout"
        },
        {
          "output_type": "stream",
          "text": [
            "100%|██████████| 86/86 [00:00<00:00, 158.64it/s]\n",
            " 20%|█▉        | 17/86 [00:00<00:00, 162.65it/s]"
          ],
          "name": "stderr"
        },
        {
          "output_type": "stream",
          "text": [
            "Epoch : 329, mean loss : 82.99\n",
            "Beginning epoch 330\n"
          ],
          "name": "stdout"
        },
        {
          "output_type": "stream",
          "text": [
            "100%|██████████| 86/86 [00:00<00:00, 159.64it/s]\n",
            " 16%|█▋        | 14/86 [00:00<00:00, 132.06it/s]"
          ],
          "name": "stderr"
        },
        {
          "output_type": "stream",
          "text": [
            "Epoch : 330, mean loss : 82.93\n",
            "Beginning epoch 331\n"
          ],
          "name": "stdout"
        },
        {
          "output_type": "stream",
          "text": [
            "100%|██████████| 86/86 [00:00<00:00, 145.75it/s]\n",
            " 20%|█▉        | 17/86 [00:00<00:00, 169.20it/s]"
          ],
          "name": "stderr"
        },
        {
          "output_type": "stream",
          "text": [
            "Epoch : 331, mean loss : 82.86\n",
            "Beginning epoch 332\n"
          ],
          "name": "stdout"
        },
        {
          "output_type": "stream",
          "text": [
            "100%|██████████| 86/86 [00:00<00:00, 157.97it/s]\n",
            " 19%|█▊        | 16/86 [00:00<00:00, 157.78it/s]"
          ],
          "name": "stderr"
        },
        {
          "output_type": "stream",
          "text": [
            "Epoch : 332, mean loss : 82.79\n",
            "Beginning epoch 333\n"
          ],
          "name": "stdout"
        },
        {
          "output_type": "stream",
          "text": [
            "100%|██████████| 86/86 [00:00<00:00, 161.85it/s]\n",
            " 19%|█▊        | 16/86 [00:00<00:00, 157.87it/s]"
          ],
          "name": "stderr"
        },
        {
          "output_type": "stream",
          "text": [
            "Epoch : 333, mean loss : 82.74\n",
            "Beginning epoch 334\n"
          ],
          "name": "stdout"
        },
        {
          "output_type": "stream",
          "text": [
            "100%|██████████| 86/86 [00:00<00:00, 155.95it/s]\n",
            " 20%|█▉        | 17/86 [00:00<00:00, 162.74it/s]"
          ],
          "name": "stderr"
        },
        {
          "output_type": "stream",
          "text": [
            "Epoch : 334, mean loss : 82.67\n",
            "Beginning epoch 335\n"
          ],
          "name": "stdout"
        },
        {
          "output_type": "stream",
          "text": [
            "100%|██████████| 86/86 [00:00<00:00, 157.61it/s]\n",
            " 20%|█▉        | 17/86 [00:00<00:00, 162.62it/s]"
          ],
          "name": "stderr"
        },
        {
          "output_type": "stream",
          "text": [
            "Epoch : 335, mean loss : 82.60\n",
            "Beginning epoch 336\n"
          ],
          "name": "stdout"
        },
        {
          "output_type": "stream",
          "text": [
            "100%|██████████| 86/86 [00:00<00:00, 157.17it/s]\n",
            " 20%|█▉        | 17/86 [00:00<00:00, 166.21it/s]"
          ],
          "name": "stderr"
        },
        {
          "output_type": "stream",
          "text": [
            "Epoch : 336, mean loss : 82.55\n",
            "Beginning epoch 337\n"
          ],
          "name": "stdout"
        },
        {
          "output_type": "stream",
          "text": [
            "100%|██████████| 86/86 [00:00<00:00, 163.07it/s]\n",
            " 19%|█▊        | 16/86 [00:00<00:00, 155.81it/s]"
          ],
          "name": "stderr"
        },
        {
          "output_type": "stream",
          "text": [
            "Epoch : 337, mean loss : 82.48\n",
            "Beginning epoch 338\n"
          ],
          "name": "stdout"
        },
        {
          "output_type": "stream",
          "text": [
            "100%|██████████| 86/86 [00:00<00:00, 156.22it/s]\n",
            " 20%|█▉        | 17/86 [00:00<00:00, 166.70it/s]"
          ],
          "name": "stderr"
        },
        {
          "output_type": "stream",
          "text": [
            "Epoch : 338, mean loss : 82.43\n",
            "Beginning epoch 339\n"
          ],
          "name": "stdout"
        },
        {
          "output_type": "stream",
          "text": [
            "100%|██████████| 86/86 [00:00<00:00, 162.67it/s]\n",
            " 20%|█▉        | 17/86 [00:00<00:00, 167.80it/s]"
          ],
          "name": "stderr"
        },
        {
          "output_type": "stream",
          "text": [
            "Epoch : 339, mean loss : 82.37\n",
            "Beginning epoch 340\n"
          ],
          "name": "stdout"
        },
        {
          "output_type": "stream",
          "text": [
            "100%|██████████| 86/86 [00:00<00:00, 160.87it/s]\n",
            " 20%|█▉        | 17/86 [00:00<00:00, 165.35it/s]"
          ],
          "name": "stderr"
        },
        {
          "output_type": "stream",
          "text": [
            "Epoch : 340, mean loss : 82.31\n",
            "Beginning epoch 341\n"
          ],
          "name": "stdout"
        },
        {
          "output_type": "stream",
          "text": [
            "100%|██████████| 86/86 [00:00<00:00, 159.46it/s]\n",
            " 20%|█▉        | 17/86 [00:00<00:00, 168.06it/s]"
          ],
          "name": "stderr"
        },
        {
          "output_type": "stream",
          "text": [
            "Epoch : 341, mean loss : 82.25\n",
            "Beginning epoch 342\n"
          ],
          "name": "stdout"
        },
        {
          "output_type": "stream",
          "text": [
            "100%|██████████| 86/86 [00:00<00:00, 162.68it/s]\n",
            " 17%|█▋        | 15/86 [00:00<00:00, 141.31it/s]"
          ],
          "name": "stderr"
        },
        {
          "output_type": "stream",
          "text": [
            "Epoch : 342, mean loss : 82.19\n",
            "Beginning epoch 343\n"
          ],
          "name": "stdout"
        },
        {
          "output_type": "stream",
          "text": [
            "100%|██████████| 86/86 [00:00<00:00, 158.33it/s]\n",
            " 20%|█▉        | 17/86 [00:00<00:00, 164.74it/s]"
          ],
          "name": "stderr"
        },
        {
          "output_type": "stream",
          "text": [
            "Epoch : 343, mean loss : 82.13\n",
            "Beginning epoch 344\n"
          ],
          "name": "stdout"
        },
        {
          "output_type": "stream",
          "text": [
            "100%|██████████| 86/86 [00:00<00:00, 162.09it/s]\n",
            " 20%|█▉        | 17/86 [00:00<00:00, 160.80it/s]"
          ],
          "name": "stderr"
        },
        {
          "output_type": "stream",
          "text": [
            "Epoch : 344, mean loss : 82.07\n",
            "Beginning epoch 345\n"
          ],
          "name": "stdout"
        },
        {
          "output_type": "stream",
          "text": [
            "100%|██████████| 86/86 [00:00<00:00, 159.55it/s]\n",
            " 19%|█▊        | 16/86 [00:00<00:00, 155.56it/s]"
          ],
          "name": "stderr"
        },
        {
          "output_type": "stream",
          "text": [
            "Epoch : 345, mean loss : 82.01\n",
            "Beginning epoch 346\n"
          ],
          "name": "stdout"
        },
        {
          "output_type": "stream",
          "text": [
            "100%|██████████| 86/86 [00:00<00:00, 161.98it/s]\n",
            " 20%|█▉        | 17/86 [00:00<00:00, 162.25it/s]"
          ],
          "name": "stderr"
        },
        {
          "output_type": "stream",
          "text": [
            "Epoch : 346, mean loss : 81.95\n",
            "Beginning epoch 347\n"
          ],
          "name": "stdout"
        },
        {
          "output_type": "stream",
          "text": [
            "100%|██████████| 86/86 [00:00<00:00, 154.38it/s]\n",
            " 19%|█▊        | 16/86 [00:00<00:00, 156.66it/s]"
          ],
          "name": "stderr"
        },
        {
          "output_type": "stream",
          "text": [
            "Epoch : 347, mean loss : 81.88\n",
            "Beginning epoch 348\n"
          ],
          "name": "stdout"
        },
        {
          "output_type": "stream",
          "text": [
            "100%|██████████| 86/86 [00:00<00:00, 158.37it/s]\n",
            " 17%|█▋        | 15/86 [00:00<00:00, 144.14it/s]"
          ],
          "name": "stderr"
        },
        {
          "output_type": "stream",
          "text": [
            "Epoch : 348, mean loss : 81.82\n",
            "Beginning epoch 349\n"
          ],
          "name": "stdout"
        },
        {
          "output_type": "stream",
          "text": [
            "100%|██████████| 86/86 [00:00<00:00, 155.15it/s]\n",
            " 20%|█▉        | 17/86 [00:00<00:00, 164.18it/s]"
          ],
          "name": "stderr"
        },
        {
          "output_type": "stream",
          "text": [
            "Epoch : 349, mean loss : 81.75\n",
            "Beginning epoch 350\n"
          ],
          "name": "stdout"
        },
        {
          "output_type": "stream",
          "text": [
            "100%|██████████| 86/86 [00:00<00:00, 160.67it/s]\n",
            " 20%|█▉        | 17/86 [00:00<00:00, 164.65it/s]"
          ],
          "name": "stderr"
        },
        {
          "output_type": "stream",
          "text": [
            "Epoch : 350, mean loss : 81.70\n",
            "Beginning epoch 351\n"
          ],
          "name": "stdout"
        },
        {
          "output_type": "stream",
          "text": [
            "100%|██████████| 86/86 [00:00<00:00, 162.25it/s]\n",
            " 14%|█▍        | 12/86 [00:00<00:00, 118.98it/s]"
          ],
          "name": "stderr"
        },
        {
          "output_type": "stream",
          "text": [
            "Epoch : 351, mean loss : 81.64\n",
            "Beginning epoch 352\n"
          ],
          "name": "stdout"
        },
        {
          "output_type": "stream",
          "text": [
            "100%|██████████| 86/86 [00:00<00:00, 148.94it/s]\n",
            " 21%|██        | 18/86 [00:00<00:00, 170.74it/s]"
          ],
          "name": "stderr"
        },
        {
          "output_type": "stream",
          "text": [
            "Epoch : 352, mean loss : 81.58\n",
            "Beginning epoch 353\n"
          ],
          "name": "stdout"
        },
        {
          "output_type": "stream",
          "text": [
            "100%|██████████| 86/86 [00:00<00:00, 163.08it/s]\n",
            " 20%|█▉        | 17/86 [00:00<00:00, 162.43it/s]"
          ],
          "name": "stderr"
        },
        {
          "output_type": "stream",
          "text": [
            "Epoch : 353, mean loss : 81.52\n",
            "Beginning epoch 354\n"
          ],
          "name": "stdout"
        },
        {
          "output_type": "stream",
          "text": [
            "100%|██████████| 86/86 [00:00<00:00, 159.43it/s]\n",
            " 20%|█▉        | 17/86 [00:00<00:00, 157.95it/s]"
          ],
          "name": "stderr"
        },
        {
          "output_type": "stream",
          "text": [
            "Epoch : 354, mean loss : 81.45\n",
            "Beginning epoch 355\n"
          ],
          "name": "stdout"
        },
        {
          "output_type": "stream",
          "text": [
            "100%|██████████| 86/86 [00:00<00:00, 157.98it/s]\n",
            " 20%|█▉        | 17/86 [00:00<00:00, 167.78it/s]"
          ],
          "name": "stderr"
        },
        {
          "output_type": "stream",
          "text": [
            "Epoch : 355, mean loss : 81.39\n",
            "Beginning epoch 356\n"
          ],
          "name": "stdout"
        },
        {
          "output_type": "stream",
          "text": [
            "100%|██████████| 86/86 [00:00<00:00, 162.65it/s]\n",
            " 20%|█▉        | 17/86 [00:00<00:00, 162.03it/s]"
          ],
          "name": "stderr"
        },
        {
          "output_type": "stream",
          "text": [
            "Epoch : 356, mean loss : 81.34\n",
            "Beginning epoch 357\n"
          ],
          "name": "stdout"
        },
        {
          "output_type": "stream",
          "text": [
            "100%|██████████| 86/86 [00:00<00:00, 160.87it/s]\n",
            " 20%|█▉        | 17/86 [00:00<00:00, 162.97it/s]"
          ],
          "name": "stderr"
        },
        {
          "output_type": "stream",
          "text": [
            "Epoch : 357, mean loss : 81.30\n",
            "Beginning epoch 358\n"
          ],
          "name": "stdout"
        },
        {
          "output_type": "stream",
          "text": [
            "100%|██████████| 86/86 [00:00<00:00, 155.40it/s]\n",
            " 19%|█▊        | 16/86 [00:00<00:00, 155.74it/s]"
          ],
          "name": "stderr"
        },
        {
          "output_type": "stream",
          "text": [
            "Epoch : 358, mean loss : 81.24\n",
            "Beginning epoch 359\n"
          ],
          "name": "stdout"
        },
        {
          "output_type": "stream",
          "text": [
            "100%|██████████| 86/86 [00:00<00:00, 149.97it/s]\n",
            " 19%|█▊        | 16/86 [00:00<00:00, 159.55it/s]"
          ],
          "name": "stderr"
        },
        {
          "output_type": "stream",
          "text": [
            "Epoch : 359, mean loss : 81.18\n",
            "Beginning epoch 360\n"
          ],
          "name": "stdout"
        },
        {
          "output_type": "stream",
          "text": [
            "100%|██████████| 86/86 [00:00<00:00, 159.69it/s]\n",
            " 19%|█▊        | 16/86 [00:00<00:00, 157.65it/s]"
          ],
          "name": "stderr"
        },
        {
          "output_type": "stream",
          "text": [
            "Epoch : 360, mean loss : 81.12\n",
            "Beginning epoch 361\n"
          ],
          "name": "stdout"
        },
        {
          "output_type": "stream",
          "text": [
            "100%|██████████| 86/86 [00:00<00:00, 151.79it/s]\n",
            " 20%|█▉        | 17/86 [00:00<00:00, 162.00it/s]"
          ],
          "name": "stderr"
        },
        {
          "output_type": "stream",
          "text": [
            "Epoch : 361, mean loss : 81.07\n",
            "Beginning epoch 362\n"
          ],
          "name": "stdout"
        },
        {
          "output_type": "stream",
          "text": [
            "100%|██████████| 86/86 [00:00<00:00, 158.63it/s]\n",
            " 20%|█▉        | 17/86 [00:00<00:00, 164.40it/s]"
          ],
          "name": "stderr"
        },
        {
          "output_type": "stream",
          "text": [
            "Epoch : 362, mean loss : 81.01\n",
            "Beginning epoch 363\n"
          ],
          "name": "stdout"
        },
        {
          "output_type": "stream",
          "text": [
            "100%|██████████| 86/86 [00:00<00:00, 159.51it/s]\n",
            " 20%|█▉        | 17/86 [00:00<00:00, 163.81it/s]"
          ],
          "name": "stderr"
        },
        {
          "output_type": "stream",
          "text": [
            "Epoch : 363, mean loss : 80.95\n",
            "Beginning epoch 364\n"
          ],
          "name": "stdout"
        },
        {
          "output_type": "stream",
          "text": [
            "100%|██████████| 86/86 [00:00<00:00, 159.29it/s]\n",
            " 20%|█▉        | 17/86 [00:00<00:00, 160.71it/s]"
          ],
          "name": "stderr"
        },
        {
          "output_type": "stream",
          "text": [
            "Epoch : 364, mean loss : 80.90\n",
            "Beginning epoch 365\n"
          ],
          "name": "stdout"
        },
        {
          "output_type": "stream",
          "text": [
            "100%|██████████| 86/86 [00:00<00:00, 159.68it/s]\n",
            " 20%|█▉        | 17/86 [00:00<00:00, 164.74it/s]"
          ],
          "name": "stderr"
        },
        {
          "output_type": "stream",
          "text": [
            "Epoch : 365, mean loss : 80.85\n",
            "Beginning epoch 366\n"
          ],
          "name": "stdout"
        },
        {
          "output_type": "stream",
          "text": [
            "100%|██████████| 86/86 [00:00<00:00, 160.31it/s]\n",
            " 20%|█▉        | 17/86 [00:00<00:00, 165.24it/s]"
          ],
          "name": "stderr"
        },
        {
          "output_type": "stream",
          "text": [
            "Epoch : 366, mean loss : 80.78\n",
            "Beginning epoch 367\n"
          ],
          "name": "stdout"
        },
        {
          "output_type": "stream",
          "text": [
            "100%|██████████| 86/86 [00:00<00:00, 162.94it/s]\n",
            " 15%|█▌        | 13/86 [00:00<00:00, 123.47it/s]"
          ],
          "name": "stderr"
        },
        {
          "output_type": "stream",
          "text": [
            "Epoch : 367, mean loss : 80.72\n",
            "Beginning epoch 368\n"
          ],
          "name": "stdout"
        },
        {
          "output_type": "stream",
          "text": [
            "100%|██████████| 86/86 [00:00<00:00, 148.06it/s]\n",
            " 20%|█▉        | 17/86 [00:00<00:00, 163.68it/s]"
          ],
          "name": "stderr"
        },
        {
          "output_type": "stream",
          "text": [
            "Epoch : 368, mean loss : 80.66\n",
            "Beginning epoch 369\n"
          ],
          "name": "stdout"
        },
        {
          "output_type": "stream",
          "text": [
            "100%|██████████| 86/86 [00:00<00:00, 159.74it/s]\n",
            " 20%|█▉        | 17/86 [00:00<00:00, 161.71it/s]"
          ],
          "name": "stderr"
        },
        {
          "output_type": "stream",
          "text": [
            "Epoch : 369, mean loss : 80.61\n",
            "Beginning epoch 370\n"
          ],
          "name": "stdout"
        },
        {
          "output_type": "stream",
          "text": [
            "100%|██████████| 86/86 [00:00<00:00, 159.75it/s]\n",
            " 17%|█▋        | 15/86 [00:00<00:00, 146.62it/s]"
          ],
          "name": "stderr"
        },
        {
          "output_type": "stream",
          "text": [
            "Epoch : 370, mean loss : 80.56\n",
            "Beginning epoch 371\n"
          ],
          "name": "stdout"
        },
        {
          "output_type": "stream",
          "text": [
            "100%|██████████| 86/86 [00:00<00:00, 154.17it/s]\n",
            " 17%|█▋        | 15/86 [00:00<00:00, 148.91it/s]"
          ],
          "name": "stderr"
        },
        {
          "output_type": "stream",
          "text": [
            "Epoch : 371, mean loss : 80.51\n",
            "Beginning epoch 372\n"
          ],
          "name": "stdout"
        },
        {
          "output_type": "stream",
          "text": [
            "100%|██████████| 86/86 [00:00<00:00, 157.85it/s]\n",
            " 19%|█▊        | 16/86 [00:00<00:00, 153.48it/s]"
          ],
          "name": "stderr"
        },
        {
          "output_type": "stream",
          "text": [
            "Epoch : 372, mean loss : 80.45\n",
            "Beginning epoch 373\n"
          ],
          "name": "stdout"
        },
        {
          "output_type": "stream",
          "text": [
            "100%|██████████| 86/86 [00:00<00:00, 153.07it/s]\n",
            " 19%|█▊        | 16/86 [00:00<00:00, 156.93it/s]"
          ],
          "name": "stderr"
        },
        {
          "output_type": "stream",
          "text": [
            "Epoch : 373, mean loss : 80.41\n",
            "Beginning epoch 374\n"
          ],
          "name": "stdout"
        },
        {
          "output_type": "stream",
          "text": [
            "100%|██████████| 86/86 [00:00<00:00, 157.12it/s]\n",
            " 20%|█▉        | 17/86 [00:00<00:00, 164.19it/s]"
          ],
          "name": "stderr"
        },
        {
          "output_type": "stream",
          "text": [
            "Epoch : 374, mean loss : 80.36\n",
            "Beginning epoch 375\n"
          ],
          "name": "stdout"
        },
        {
          "output_type": "stream",
          "text": [
            "100%|██████████| 86/86 [00:00<00:00, 159.62it/s]\n",
            " 20%|█▉        | 17/86 [00:00<00:00, 168.96it/s]"
          ],
          "name": "stderr"
        },
        {
          "output_type": "stream",
          "text": [
            "Epoch : 375, mean loss : 80.30\n",
            "Beginning epoch 376\n"
          ],
          "name": "stdout"
        },
        {
          "output_type": "stream",
          "text": [
            "100%|██████████| 86/86 [00:00<00:00, 159.64it/s]\n",
            " 14%|█▍        | 12/86 [00:00<00:00, 117.13it/s]"
          ],
          "name": "stderr"
        },
        {
          "output_type": "stream",
          "text": [
            "Epoch : 376, mean loss : 80.25\n",
            "Beginning epoch 377\n"
          ],
          "name": "stdout"
        },
        {
          "output_type": "stream",
          "text": [
            "100%|██████████| 86/86 [00:00<00:00, 141.70it/s]\n",
            " 20%|█▉        | 17/86 [00:00<00:00, 165.03it/s]"
          ],
          "name": "stderr"
        },
        {
          "output_type": "stream",
          "text": [
            "Epoch : 377, mean loss : 80.19\n",
            "Beginning epoch 378\n"
          ],
          "name": "stdout"
        },
        {
          "output_type": "stream",
          "text": [
            "100%|██████████| 86/86 [00:00<00:00, 162.58it/s]\n",
            " 19%|█▊        | 16/86 [00:00<00:00, 159.17it/s]"
          ],
          "name": "stderr"
        },
        {
          "output_type": "stream",
          "text": [
            "Epoch : 378, mean loss : 80.14\n",
            "Beginning epoch 379\n"
          ],
          "name": "stdout"
        },
        {
          "output_type": "stream",
          "text": [
            "100%|██████████| 86/86 [00:00<00:00, 159.21it/s]\n",
            " 20%|█▉        | 17/86 [00:00<00:00, 162.48it/s]"
          ],
          "name": "stderr"
        },
        {
          "output_type": "stream",
          "text": [
            "Epoch : 379, mean loss : 80.09\n",
            "Beginning epoch 380\n"
          ],
          "name": "stdout"
        },
        {
          "output_type": "stream",
          "text": [
            "100%|██████████| 86/86 [00:00<00:00, 162.40it/s]\n",
            " 19%|█▊        | 16/86 [00:00<00:00, 154.64it/s]"
          ],
          "name": "stderr"
        },
        {
          "output_type": "stream",
          "text": [
            "Epoch : 380, mean loss : 80.04\n",
            "Beginning epoch 381\n"
          ],
          "name": "stdout"
        },
        {
          "output_type": "stream",
          "text": [
            "100%|██████████| 86/86 [00:00<00:00, 158.13it/s]\n",
            " 20%|█▉        | 17/86 [00:00<00:00, 163.99it/s]"
          ],
          "name": "stderr"
        },
        {
          "output_type": "stream",
          "text": [
            "Epoch : 381, mean loss : 79.99\n",
            "Beginning epoch 382\n"
          ],
          "name": "stdout"
        },
        {
          "output_type": "stream",
          "text": [
            "100%|██████████| 86/86 [00:00<00:00, 164.05it/s]\n",
            " 19%|█▊        | 16/86 [00:00<00:00, 151.73it/s]"
          ],
          "name": "stderr"
        },
        {
          "output_type": "stream",
          "text": [
            "Epoch : 382, mean loss : 79.94\n",
            "Beginning epoch 383\n"
          ],
          "name": "stdout"
        },
        {
          "output_type": "stream",
          "text": [
            "100%|██████████| 86/86 [00:00<00:00, 146.47it/s]\n",
            " 19%|█▊        | 16/86 [00:00<00:00, 159.88it/s]"
          ],
          "name": "stderr"
        },
        {
          "output_type": "stream",
          "text": [
            "Epoch : 383, mean loss : 79.88\n",
            "Beginning epoch 384\n"
          ],
          "name": "stdout"
        },
        {
          "output_type": "stream",
          "text": [
            "100%|██████████| 86/86 [00:00<00:00, 156.70it/s]\n",
            " 20%|█▉        | 17/86 [00:00<00:00, 165.33it/s]"
          ],
          "name": "stderr"
        },
        {
          "output_type": "stream",
          "text": [
            "Epoch : 384, mean loss : 79.83\n",
            "Beginning epoch 385\n"
          ],
          "name": "stdout"
        },
        {
          "output_type": "stream",
          "text": [
            "100%|██████████| 86/86 [00:00<00:00, 159.94it/s]\n",
            " 20%|█▉        | 17/86 [00:00<00:00, 164.42it/s]"
          ],
          "name": "stderr"
        },
        {
          "output_type": "stream",
          "text": [
            "Epoch : 385, mean loss : 79.78\n",
            "Beginning epoch 386\n"
          ],
          "name": "stdout"
        },
        {
          "output_type": "stream",
          "text": [
            "100%|██████████| 86/86 [00:00<00:00, 158.21it/s]\n",
            " 20%|█▉        | 17/86 [00:00<00:00, 166.23it/s]"
          ],
          "name": "stderr"
        },
        {
          "output_type": "stream",
          "text": [
            "Epoch : 386, mean loss : 79.74\n",
            "Beginning epoch 387\n"
          ],
          "name": "stdout"
        },
        {
          "output_type": "stream",
          "text": [
            "100%|██████████| 86/86 [00:00<00:00, 159.14it/s]\n",
            " 20%|█▉        | 17/86 [00:00<00:00, 162.94it/s]"
          ],
          "name": "stderr"
        },
        {
          "output_type": "stream",
          "text": [
            "Epoch : 387, mean loss : 79.68\n",
            "Beginning epoch 388\n"
          ],
          "name": "stdout"
        },
        {
          "output_type": "stream",
          "text": [
            "100%|██████████| 86/86 [00:00<00:00, 151.95it/s]\n",
            " 20%|█▉        | 17/86 [00:00<00:00, 162.05it/s]"
          ],
          "name": "stderr"
        },
        {
          "output_type": "stream",
          "text": [
            "Epoch : 388, mean loss : 79.63\n",
            "Beginning epoch 389\n"
          ],
          "name": "stdout"
        },
        {
          "output_type": "stream",
          "text": [
            "100%|██████████| 86/86 [00:00<00:00, 160.83it/s]\n",
            " 20%|█▉        | 17/86 [00:00<00:00, 163.50it/s]"
          ],
          "name": "stderr"
        },
        {
          "output_type": "stream",
          "text": [
            "Epoch : 389, mean loss : 79.58\n",
            "Beginning epoch 390\n"
          ],
          "name": "stdout"
        },
        {
          "output_type": "stream",
          "text": [
            "100%|██████████| 86/86 [00:00<00:00, 149.59it/s]\n",
            " 17%|█▋        | 15/86 [00:00<00:00, 145.85it/s]"
          ],
          "name": "stderr"
        },
        {
          "output_type": "stream",
          "text": [
            "Epoch : 390, mean loss : 79.53\n",
            "Beginning epoch 391\n"
          ],
          "name": "stdout"
        },
        {
          "output_type": "stream",
          "text": [
            "100%|██████████| 86/86 [00:00<00:00, 133.87it/s]\n",
            " 19%|█▊        | 16/86 [00:00<00:00, 150.92it/s]"
          ],
          "name": "stderr"
        },
        {
          "output_type": "stream",
          "text": [
            "Epoch : 391, mean loss : 79.48\n",
            "Beginning epoch 392\n"
          ],
          "name": "stdout"
        },
        {
          "output_type": "stream",
          "text": [
            "100%|██████████| 86/86 [00:00<00:00, 156.59it/s]\n",
            " 19%|█▊        | 16/86 [00:00<00:00, 156.78it/s]"
          ],
          "name": "stderr"
        },
        {
          "output_type": "stream",
          "text": [
            "Epoch : 392, mean loss : 79.44\n",
            "Beginning epoch 393\n"
          ],
          "name": "stdout"
        },
        {
          "output_type": "stream",
          "text": [
            "100%|██████████| 86/86 [00:00<00:00, 157.76it/s]\n",
            " 19%|█▊        | 16/86 [00:00<00:00, 157.00it/s]"
          ],
          "name": "stderr"
        },
        {
          "output_type": "stream",
          "text": [
            "Epoch : 393, mean loss : 79.38\n",
            "Beginning epoch 394\n"
          ],
          "name": "stdout"
        },
        {
          "output_type": "stream",
          "text": [
            "100%|██████████| 86/86 [00:00<00:00, 159.24it/s]\n",
            " 19%|█▊        | 16/86 [00:00<00:00, 157.80it/s]"
          ],
          "name": "stderr"
        },
        {
          "output_type": "stream",
          "text": [
            "Epoch : 394, mean loss : 79.34\n",
            "Beginning epoch 395\n"
          ],
          "name": "stdout"
        },
        {
          "output_type": "stream",
          "text": [
            "100%|██████████| 86/86 [00:00<00:00, 160.36it/s]\n",
            " 20%|█▉        | 17/86 [00:00<00:00, 160.45it/s]"
          ],
          "name": "stderr"
        },
        {
          "output_type": "stream",
          "text": [
            "Epoch : 395, mean loss : 79.29\n",
            "Beginning epoch 396\n"
          ],
          "name": "stdout"
        },
        {
          "output_type": "stream",
          "text": [
            "100%|██████████| 86/86 [00:00<00:00, 157.27it/s]\n",
            " 20%|█▉        | 17/86 [00:00<00:00, 165.00it/s]"
          ],
          "name": "stderr"
        },
        {
          "output_type": "stream",
          "text": [
            "Epoch : 396, mean loss : 79.24\n",
            "Beginning epoch 397\n"
          ],
          "name": "stdout"
        },
        {
          "output_type": "stream",
          "text": [
            "100%|██████████| 86/86 [00:00<00:00, 161.42it/s]\n",
            " 19%|█▊        | 16/86 [00:00<00:00, 152.66it/s]"
          ],
          "name": "stderr"
        },
        {
          "output_type": "stream",
          "text": [
            "Epoch : 397, mean loss : 79.18\n",
            "Beginning epoch 398\n"
          ],
          "name": "stdout"
        },
        {
          "output_type": "stream",
          "text": [
            "100%|██████████| 86/86 [00:00<00:00, 162.39it/s]\n",
            " 21%|██        | 18/86 [00:00<00:00, 171.91it/s]"
          ],
          "name": "stderr"
        },
        {
          "output_type": "stream",
          "text": [
            "Epoch : 398, mean loss : 79.14\n",
            "Beginning epoch 399\n"
          ],
          "name": "stdout"
        },
        {
          "output_type": "stream",
          "text": [
            "100%|██████████| 86/86 [00:00<00:00, 162.38it/s]\n",
            " 19%|█▊        | 16/86 [00:00<00:00, 155.65it/s]"
          ],
          "name": "stderr"
        },
        {
          "output_type": "stream",
          "text": [
            "Epoch : 399, mean loss : 79.10\n",
            "Beginning epoch 400\n"
          ],
          "name": "stdout"
        },
        {
          "output_type": "stream",
          "text": [
            "100%|██████████| 86/86 [00:00<00:00, 157.38it/s]\n",
            " 20%|█▉        | 17/86 [00:00<00:00, 165.52it/s]"
          ],
          "name": "stderr"
        },
        {
          "output_type": "stream",
          "text": [
            "Epoch : 400, mean loss : 79.04\n",
            "Beginning epoch 401\n"
          ],
          "name": "stdout"
        },
        {
          "output_type": "stream",
          "text": [
            "100%|██████████| 86/86 [00:00<00:00, 159.50it/s]\n",
            " 20%|█▉        | 17/86 [00:00<00:00, 165.10it/s]"
          ],
          "name": "stderr"
        },
        {
          "output_type": "stream",
          "text": [
            "Epoch : 401, mean loss : 78.99\n",
            "Beginning epoch 402\n"
          ],
          "name": "stdout"
        },
        {
          "output_type": "stream",
          "text": [
            "100%|██████████| 86/86 [00:00<00:00, 159.69it/s]\n",
            " 20%|█▉        | 17/86 [00:00<00:00, 163.32it/s]"
          ],
          "name": "stderr"
        },
        {
          "output_type": "stream",
          "text": [
            "Epoch : 402, mean loss : 78.94\n",
            "Beginning epoch 403\n"
          ],
          "name": "stdout"
        },
        {
          "output_type": "stream",
          "text": [
            "100%|██████████| 86/86 [00:00<00:00, 156.08it/s]\n",
            " 16%|█▋        | 14/86 [00:00<00:00, 138.27it/s]"
          ],
          "name": "stderr"
        },
        {
          "output_type": "stream",
          "text": [
            "Epoch : 403, mean loss : 78.89\n",
            "Beginning epoch 404\n"
          ],
          "name": "stdout"
        },
        {
          "output_type": "stream",
          "text": [
            "100%|██████████| 86/86 [00:00<00:00, 154.62it/s]\n",
            " 19%|█▊        | 16/86 [00:00<00:00, 157.56it/s]"
          ],
          "name": "stderr"
        },
        {
          "output_type": "stream",
          "text": [
            "Epoch : 404, mean loss : 78.85\n",
            "Beginning epoch 405\n"
          ],
          "name": "stdout"
        },
        {
          "output_type": "stream",
          "text": [
            "100%|██████████| 86/86 [00:00<00:00, 157.29it/s]\n",
            " 20%|█▉        | 17/86 [00:00<00:00, 168.22it/s]"
          ],
          "name": "stderr"
        },
        {
          "output_type": "stream",
          "text": [
            "Epoch : 405, mean loss : 78.81\n",
            "Beginning epoch 406\n"
          ],
          "name": "stdout"
        },
        {
          "output_type": "stream",
          "text": [
            "100%|██████████| 86/86 [00:00<00:00, 162.05it/s]\n",
            " 19%|█▊        | 16/86 [00:00<00:00, 156.74it/s]"
          ],
          "name": "stderr"
        },
        {
          "output_type": "stream",
          "text": [
            "Epoch : 406, mean loss : 78.77\n",
            "Beginning epoch 407\n"
          ],
          "name": "stdout"
        },
        {
          "output_type": "stream",
          "text": [
            "100%|██████████| 86/86 [00:00<00:00, 162.63it/s]\n",
            " 20%|█▉        | 17/86 [00:00<00:00, 165.40it/s]"
          ],
          "name": "stderr"
        },
        {
          "output_type": "stream",
          "text": [
            "Epoch : 407, mean loss : 78.72\n",
            "Beginning epoch 408\n"
          ],
          "name": "stdout"
        },
        {
          "output_type": "stream",
          "text": [
            "100%|██████████| 86/86 [00:00<00:00, 154.18it/s]\n",
            " 20%|█▉        | 17/86 [00:00<00:00, 161.57it/s]"
          ],
          "name": "stderr"
        },
        {
          "output_type": "stream",
          "text": [
            "Epoch : 408, mean loss : 78.67\n",
            "Beginning epoch 409\n"
          ],
          "name": "stdout"
        },
        {
          "output_type": "stream",
          "text": [
            "100%|██████████| 86/86 [00:00<00:00, 162.44it/s]\n",
            " 20%|█▉        | 17/86 [00:00<00:00, 162.75it/s]"
          ],
          "name": "stderr"
        },
        {
          "output_type": "stream",
          "text": [
            "Epoch : 409, mean loss : 78.62\n",
            "Beginning epoch 410\n"
          ],
          "name": "stdout"
        },
        {
          "output_type": "stream",
          "text": [
            "100%|██████████| 86/86 [00:00<00:00, 159.21it/s]\n",
            " 19%|█▊        | 16/86 [00:00<00:00, 150.36it/s]"
          ],
          "name": "stderr"
        },
        {
          "output_type": "stream",
          "text": [
            "Epoch : 410, mean loss : 78.58\n",
            "Beginning epoch 411\n"
          ],
          "name": "stdout"
        },
        {
          "output_type": "stream",
          "text": [
            "100%|██████████| 86/86 [00:00<00:00, 156.28it/s]\n",
            " 20%|█▉        | 17/86 [00:00<00:00, 163.96it/s]"
          ],
          "name": "stderr"
        },
        {
          "output_type": "stream",
          "text": [
            "Epoch : 411, mean loss : 78.54\n",
            "Beginning epoch 412\n"
          ],
          "name": "stdout"
        },
        {
          "output_type": "stream",
          "text": [
            "100%|██████████| 86/86 [00:00<00:00, 159.35it/s]\n",
            " 20%|█▉        | 17/86 [00:00<00:00, 161.80it/s]"
          ],
          "name": "stderr"
        },
        {
          "output_type": "stream",
          "text": [
            "Epoch : 412, mean loss : 78.49\n",
            "Beginning epoch 413\n"
          ],
          "name": "stdout"
        },
        {
          "output_type": "stream",
          "text": [
            "100%|██████████| 86/86 [00:00<00:00, 162.69it/s]\n",
            " 20%|█▉        | 17/86 [00:00<00:00, 166.93it/s]"
          ],
          "name": "stderr"
        },
        {
          "output_type": "stream",
          "text": [
            "Epoch : 413, mean loss : 78.45\n",
            "Beginning epoch 414\n"
          ],
          "name": "stdout"
        },
        {
          "output_type": "stream",
          "text": [
            "100%|██████████| 86/86 [00:00<00:00, 163.13it/s]\n",
            " 20%|█▉        | 17/86 [00:00<00:00, 161.48it/s]"
          ],
          "name": "stderr"
        },
        {
          "output_type": "stream",
          "text": [
            "Epoch : 414, mean loss : 78.41\n",
            "Beginning epoch 415\n"
          ],
          "name": "stdout"
        },
        {
          "output_type": "stream",
          "text": [
            "100%|██████████| 86/86 [00:00<00:00, 160.56it/s]\n",
            " 20%|█▉        | 17/86 [00:00<00:00, 165.67it/s]"
          ],
          "name": "stderr"
        },
        {
          "output_type": "stream",
          "text": [
            "Epoch : 415, mean loss : 78.37\n",
            "Beginning epoch 416\n"
          ],
          "name": "stdout"
        },
        {
          "output_type": "stream",
          "text": [
            "100%|██████████| 86/86 [00:00<00:00, 158.26it/s]\n",
            " 19%|█▊        | 16/86 [00:00<00:00, 155.55it/s]"
          ],
          "name": "stderr"
        },
        {
          "output_type": "stream",
          "text": [
            "Epoch : 416, mean loss : 78.32\n",
            "Beginning epoch 417\n"
          ],
          "name": "stdout"
        },
        {
          "output_type": "stream",
          "text": [
            "100%|██████████| 86/86 [00:00<00:00, 160.93it/s]\n",
            " 19%|█▊        | 16/86 [00:00<00:00, 155.06it/s]"
          ],
          "name": "stderr"
        },
        {
          "output_type": "stream",
          "text": [
            "Epoch : 417, mean loss : 78.28\n",
            "Beginning epoch 418\n"
          ],
          "name": "stdout"
        },
        {
          "output_type": "stream",
          "text": [
            "100%|██████████| 86/86 [00:00<00:00, 161.57it/s]\n",
            " 21%|██        | 18/86 [00:00<00:00, 170.08it/s]"
          ],
          "name": "stderr"
        },
        {
          "output_type": "stream",
          "text": [
            "Epoch : 418, mean loss : 78.24\n",
            "Beginning epoch 419\n"
          ],
          "name": "stdout"
        },
        {
          "output_type": "stream",
          "text": [
            "100%|██████████| 86/86 [00:00<00:00, 166.14it/s]\n",
            " 17%|█▋        | 15/86 [00:00<00:00, 146.16it/s]"
          ],
          "name": "stderr"
        },
        {
          "output_type": "stream",
          "text": [
            "Epoch : 419, mean loss : 78.19\n",
            "Beginning epoch 420\n"
          ],
          "name": "stdout"
        },
        {
          "output_type": "stream",
          "text": [
            "100%|██████████| 86/86 [00:00<00:00, 159.51it/s]\n",
            " 20%|█▉        | 17/86 [00:00<00:00, 164.65it/s]"
          ],
          "name": "stderr"
        },
        {
          "output_type": "stream",
          "text": [
            "Epoch : 420, mean loss : 78.15\n",
            "Beginning epoch 421\n"
          ],
          "name": "stdout"
        },
        {
          "output_type": "stream",
          "text": [
            "100%|██████████| 86/86 [00:00<00:00, 153.81it/s]\n",
            " 20%|█▉        | 17/86 [00:00<00:00, 161.84it/s]"
          ],
          "name": "stderr"
        },
        {
          "output_type": "stream",
          "text": [
            "Epoch : 421, mean loss : 78.11\n",
            "Beginning epoch 422\n"
          ],
          "name": "stdout"
        },
        {
          "output_type": "stream",
          "text": [
            "100%|██████████| 86/86 [00:00<00:00, 161.46it/s]\n",
            " 20%|█▉        | 17/86 [00:00<00:00, 163.37it/s]"
          ],
          "name": "stderr"
        },
        {
          "output_type": "stream",
          "text": [
            "Epoch : 422, mean loss : 78.06\n",
            "Beginning epoch 423\n"
          ],
          "name": "stdout"
        },
        {
          "output_type": "stream",
          "text": [
            "100%|██████████| 86/86 [00:00<00:00, 155.58it/s]\n",
            " 20%|█▉        | 17/86 [00:00<00:00, 163.42it/s]"
          ],
          "name": "stderr"
        },
        {
          "output_type": "stream",
          "text": [
            "Epoch : 423, mean loss : 78.02\n",
            "Beginning epoch 424\n"
          ],
          "name": "stdout"
        },
        {
          "output_type": "stream",
          "text": [
            "100%|██████████| 86/86 [00:00<00:00, 159.81it/s]\n",
            " 20%|█▉        | 17/86 [00:00<00:00, 166.42it/s]"
          ],
          "name": "stderr"
        },
        {
          "output_type": "stream",
          "text": [
            "Epoch : 424, mean loss : 77.97\n",
            "Beginning epoch 425\n"
          ],
          "name": "stdout"
        },
        {
          "output_type": "stream",
          "text": [
            "100%|██████████| 86/86 [00:00<00:00, 153.96it/s]\n",
            " 20%|█▉        | 17/86 [00:00<00:00, 168.35it/s]"
          ],
          "name": "stderr"
        },
        {
          "output_type": "stream",
          "text": [
            "Epoch : 425, mean loss : 77.92\n",
            "Beginning epoch 426\n"
          ],
          "name": "stdout"
        },
        {
          "output_type": "stream",
          "text": [
            "100%|██████████| 86/86 [00:00<00:00, 159.00it/s]\n",
            " 19%|█▊        | 16/86 [00:00<00:00, 157.57it/s]"
          ],
          "name": "stderr"
        },
        {
          "output_type": "stream",
          "text": [
            "Epoch : 426, mean loss : 77.89\n",
            "Beginning epoch 427\n"
          ],
          "name": "stdout"
        },
        {
          "output_type": "stream",
          "text": [
            "100%|██████████| 86/86 [00:00<00:00, 155.90it/s]\n",
            " 20%|█▉        | 17/86 [00:00<00:00, 163.45it/s]"
          ],
          "name": "stderr"
        },
        {
          "output_type": "stream",
          "text": [
            "Epoch : 427, mean loss : 77.84\n",
            "Beginning epoch 428\n"
          ],
          "name": "stdout"
        },
        {
          "output_type": "stream",
          "text": [
            "100%|██████████| 86/86 [00:00<00:00, 160.99it/s]\n",
            " 20%|█▉        | 17/86 [00:00<00:00, 167.74it/s]"
          ],
          "name": "stderr"
        },
        {
          "output_type": "stream",
          "text": [
            "Epoch : 428, mean loss : 77.80\n",
            "Beginning epoch 429\n"
          ],
          "name": "stdout"
        },
        {
          "output_type": "stream",
          "text": [
            "100%|██████████| 86/86 [00:00<00:00, 155.74it/s]\n",
            " 20%|█▉        | 17/86 [00:00<00:00, 169.94it/s]"
          ],
          "name": "stderr"
        },
        {
          "output_type": "stream",
          "text": [
            "Epoch : 429, mean loss : 77.76\n",
            "Beginning epoch 430\n"
          ],
          "name": "stdout"
        },
        {
          "output_type": "stream",
          "text": [
            "100%|██████████| 86/86 [00:00<00:00, 164.52it/s]\n",
            " 17%|█▋        | 15/86 [00:00<00:00, 149.76it/s]"
          ],
          "name": "stderr"
        },
        {
          "output_type": "stream",
          "text": [
            "Epoch : 430, mean loss : 77.72\n",
            "Beginning epoch 431\n"
          ],
          "name": "stdout"
        },
        {
          "output_type": "stream",
          "text": [
            "100%|██████████| 86/86 [00:00<00:00, 160.82it/s]\n",
            " 20%|█▉        | 17/86 [00:00<00:00, 160.71it/s]"
          ],
          "name": "stderr"
        },
        {
          "output_type": "stream",
          "text": [
            "Epoch : 431, mean loss : 77.68\n",
            "Beginning epoch 432\n"
          ],
          "name": "stdout"
        },
        {
          "output_type": "stream",
          "text": [
            "100%|██████████| 86/86 [00:00<00:00, 158.02it/s]\n",
            " 20%|█▉        | 17/86 [00:00<00:00, 164.10it/s]"
          ],
          "name": "stderr"
        },
        {
          "output_type": "stream",
          "text": [
            "Epoch : 432, mean loss : 77.63\n",
            "Beginning epoch 433\n"
          ],
          "name": "stdout"
        },
        {
          "output_type": "stream",
          "text": [
            "100%|██████████| 86/86 [00:00<00:00, 162.00it/s]\n",
            " 20%|█▉        | 17/86 [00:00<00:00, 166.04it/s]"
          ],
          "name": "stderr"
        },
        {
          "output_type": "stream",
          "text": [
            "Epoch : 433, mean loss : 77.58\n",
            "Beginning epoch 434\n"
          ],
          "name": "stdout"
        },
        {
          "output_type": "stream",
          "text": [
            "100%|██████████| 86/86 [00:00<00:00, 160.82it/s]\n",
            " 21%|██        | 18/86 [00:00<00:00, 170.31it/s]"
          ],
          "name": "stderr"
        },
        {
          "output_type": "stream",
          "text": [
            "Epoch : 434, mean loss : 77.54\n",
            "Beginning epoch 435\n"
          ],
          "name": "stdout"
        },
        {
          "output_type": "stream",
          "text": [
            "100%|██████████| 86/86 [00:00<00:00, 162.22it/s]\n",
            " 20%|█▉        | 17/86 [00:00<00:00, 165.24it/s]"
          ],
          "name": "stderr"
        },
        {
          "output_type": "stream",
          "text": [
            "Epoch : 435, mean loss : 77.49\n",
            "Beginning epoch 436\n"
          ],
          "name": "stdout"
        },
        {
          "output_type": "stream",
          "text": [
            "100%|██████████| 86/86 [00:00<00:00, 157.68it/s]\n",
            " 19%|█▊        | 16/86 [00:00<00:00, 157.12it/s]"
          ],
          "name": "stderr"
        },
        {
          "output_type": "stream",
          "text": [
            "Epoch : 436, mean loss : 77.46\n",
            "Beginning epoch 437\n"
          ],
          "name": "stdout"
        },
        {
          "output_type": "stream",
          "text": [
            "100%|██████████| 86/86 [00:00<00:00, 157.40it/s]\n",
            " 20%|█▉        | 17/86 [00:00<00:00, 166.66it/s]"
          ],
          "name": "stderr"
        },
        {
          "output_type": "stream",
          "text": [
            "Epoch : 437, mean loss : 77.43\n",
            "Beginning epoch 438\n"
          ],
          "name": "stdout"
        },
        {
          "output_type": "stream",
          "text": [
            "100%|██████████| 86/86 [00:00<00:00, 156.11it/s]\n",
            " 20%|█▉        | 17/86 [00:00<00:00, 162.28it/s]"
          ],
          "name": "stderr"
        },
        {
          "output_type": "stream",
          "text": [
            "Epoch : 438, mean loss : 77.39\n",
            "Beginning epoch 439\n"
          ],
          "name": "stdout"
        },
        {
          "output_type": "stream",
          "text": [
            "100%|██████████| 86/86 [00:00<00:00, 155.23it/s]\n",
            " 19%|█▊        | 16/86 [00:00<00:00, 159.15it/s]"
          ],
          "name": "stderr"
        },
        {
          "output_type": "stream",
          "text": [
            "Epoch : 439, mean loss : 77.34\n",
            "Beginning epoch 440\n"
          ],
          "name": "stdout"
        },
        {
          "output_type": "stream",
          "text": [
            "100%|██████████| 86/86 [00:00<00:00, 153.37it/s]\n",
            " 20%|█▉        | 17/86 [00:00<00:00, 166.83it/s]"
          ],
          "name": "stderr"
        },
        {
          "output_type": "stream",
          "text": [
            "Epoch : 440, mean loss : 77.30\n",
            "Beginning epoch 441\n"
          ],
          "name": "stdout"
        },
        {
          "output_type": "stream",
          "text": [
            "100%|██████████| 86/86 [00:00<00:00, 150.24it/s]\n",
            " 20%|█▉        | 17/86 [00:00<00:00, 158.84it/s]"
          ],
          "name": "stderr"
        },
        {
          "output_type": "stream",
          "text": [
            "Epoch : 441, mean loss : 77.27\n",
            "Beginning epoch 442\n"
          ],
          "name": "stdout"
        },
        {
          "output_type": "stream",
          "text": [
            "100%|██████████| 86/86 [00:00<00:00, 157.89it/s]\n",
            " 16%|█▋        | 14/86 [00:00<00:00, 135.66it/s]"
          ],
          "name": "stderr"
        },
        {
          "output_type": "stream",
          "text": [
            "Epoch : 442, mean loss : 77.23\n",
            "Beginning epoch 443\n"
          ],
          "name": "stdout"
        },
        {
          "output_type": "stream",
          "text": [
            "100%|██████████| 86/86 [00:00<00:00, 154.66it/s]\n",
            " 19%|█▊        | 16/86 [00:00<00:00, 157.27it/s]"
          ],
          "name": "stderr"
        },
        {
          "output_type": "stream",
          "text": [
            "Epoch : 443, mean loss : 77.18\n",
            "Beginning epoch 444\n"
          ],
          "name": "stdout"
        },
        {
          "output_type": "stream",
          "text": [
            "100%|██████████| 86/86 [00:00<00:00, 160.47it/s]\n",
            " 21%|██        | 18/86 [00:00<00:00, 170.65it/s]"
          ],
          "name": "stderr"
        },
        {
          "output_type": "stream",
          "text": [
            "Epoch : 444, mean loss : 77.15\n",
            "Beginning epoch 445\n"
          ],
          "name": "stdout"
        },
        {
          "output_type": "stream",
          "text": [
            "100%|██████████| 86/86 [00:00<00:00, 156.92it/s]\n",
            " 20%|█▉        | 17/86 [00:00<00:00, 163.61it/s]"
          ],
          "name": "stderr"
        },
        {
          "output_type": "stream",
          "text": [
            "Epoch : 445, mean loss : 77.11\n",
            "Beginning epoch 446\n"
          ],
          "name": "stdout"
        },
        {
          "output_type": "stream",
          "text": [
            "100%|██████████| 86/86 [00:00<00:00, 160.06it/s]\n",
            " 20%|█▉        | 17/86 [00:00<00:00, 162.40it/s]"
          ],
          "name": "stderr"
        },
        {
          "output_type": "stream",
          "text": [
            "Epoch : 446, mean loss : 77.08\n",
            "Beginning epoch 447\n"
          ],
          "name": "stdout"
        },
        {
          "output_type": "stream",
          "text": [
            "100%|██████████| 86/86 [00:00<00:00, 162.65it/s]\n",
            " 17%|█▋        | 15/86 [00:00<00:00, 145.52it/s]"
          ],
          "name": "stderr"
        },
        {
          "output_type": "stream",
          "text": [
            "Epoch : 447, mean loss : 77.05\n",
            "Beginning epoch 448\n"
          ],
          "name": "stdout"
        },
        {
          "output_type": "stream",
          "text": [
            "100%|██████████| 86/86 [00:00<00:00, 160.65it/s]\n",
            " 20%|█▉        | 17/86 [00:00<00:00, 160.94it/s]"
          ],
          "name": "stderr"
        },
        {
          "output_type": "stream",
          "text": [
            "Epoch : 448, mean loss : 77.00\n",
            "Beginning epoch 449\n"
          ],
          "name": "stdout"
        },
        {
          "output_type": "stream",
          "text": [
            "100%|██████████| 86/86 [00:00<00:00, 157.72it/s]\n",
            " 20%|█▉        | 17/86 [00:00<00:00, 162.57it/s]"
          ],
          "name": "stderr"
        },
        {
          "output_type": "stream",
          "text": [
            "Epoch : 449, mean loss : 76.97\n",
            "Beginning epoch 450\n"
          ],
          "name": "stdout"
        },
        {
          "output_type": "stream",
          "text": [
            "100%|██████████| 86/86 [00:00<00:00, 157.41it/s]\n",
            " 20%|█▉        | 17/86 [00:00<00:00, 164.36it/s]"
          ],
          "name": "stderr"
        },
        {
          "output_type": "stream",
          "text": [
            "Epoch : 450, mean loss : 76.93\n",
            "Beginning epoch 451\n"
          ],
          "name": "stdout"
        },
        {
          "output_type": "stream",
          "text": [
            "100%|██████████| 86/86 [00:00<00:00, 160.16it/s]\n",
            " 20%|█▉        | 17/86 [00:00<00:00, 168.35it/s]"
          ],
          "name": "stderr"
        },
        {
          "output_type": "stream",
          "text": [
            "Epoch : 451, mean loss : 76.88\n",
            "Beginning epoch 452\n"
          ],
          "name": "stdout"
        },
        {
          "output_type": "stream",
          "text": [
            "100%|██████████| 86/86 [00:00<00:00, 163.24it/s]\n",
            " 20%|█▉        | 17/86 [00:00<00:00, 162.02it/s]"
          ],
          "name": "stderr"
        },
        {
          "output_type": "stream",
          "text": [
            "Epoch : 452, mean loss : 76.84\n",
            "Beginning epoch 453\n"
          ],
          "name": "stdout"
        },
        {
          "output_type": "stream",
          "text": [
            "100%|██████████| 86/86 [00:00<00:00, 162.53it/s]\n",
            " 20%|█▉        | 17/86 [00:00<00:00, 162.46it/s]"
          ],
          "name": "stderr"
        },
        {
          "output_type": "stream",
          "text": [
            "Epoch : 453, mean loss : 76.80\n",
            "Beginning epoch 454\n"
          ],
          "name": "stdout"
        },
        {
          "output_type": "stream",
          "text": [
            "100%|██████████| 86/86 [00:00<00:00, 154.80it/s]\n",
            " 20%|█▉        | 17/86 [00:00<00:00, 167.90it/s]"
          ],
          "name": "stderr"
        },
        {
          "output_type": "stream",
          "text": [
            "Epoch : 454, mean loss : 76.76\n",
            "Beginning epoch 455\n"
          ],
          "name": "stdout"
        },
        {
          "output_type": "stream",
          "text": [
            "100%|██████████| 86/86 [00:00<00:00, 150.13it/s]\n",
            " 21%|██        | 18/86 [00:00<00:00, 173.28it/s]"
          ],
          "name": "stderr"
        },
        {
          "output_type": "stream",
          "text": [
            "Epoch : 455, mean loss : 76.72\n",
            "Beginning epoch 456\n"
          ],
          "name": "stdout"
        },
        {
          "output_type": "stream",
          "text": [
            "100%|██████████| 86/86 [00:00<00:00, 165.53it/s]\n",
            " 17%|█▋        | 15/86 [00:00<00:00, 143.41it/s]"
          ],
          "name": "stderr"
        },
        {
          "output_type": "stream",
          "text": [
            "Epoch : 456, mean loss : 76.68\n",
            "Beginning epoch 457\n"
          ],
          "name": "stdout"
        },
        {
          "output_type": "stream",
          "text": [
            "100%|██████████| 86/86 [00:00<00:00, 157.16it/s]\n",
            " 20%|█▉        | 17/86 [00:00<00:00, 165.81it/s]"
          ],
          "name": "stderr"
        },
        {
          "output_type": "stream",
          "text": [
            "Epoch : 457, mean loss : 76.64\n",
            "Beginning epoch 458\n"
          ],
          "name": "stdout"
        },
        {
          "output_type": "stream",
          "text": [
            "100%|██████████| 86/86 [00:00<00:00, 159.55it/s]\n",
            " 20%|█▉        | 17/86 [00:00<00:00, 162.30it/s]"
          ],
          "name": "stderr"
        },
        {
          "output_type": "stream",
          "text": [
            "Epoch : 458, mean loss : 76.61\n",
            "Beginning epoch 459\n"
          ],
          "name": "stdout"
        },
        {
          "output_type": "stream",
          "text": [
            "100%|██████████| 86/86 [00:00<00:00, 158.08it/s]\n",
            " 20%|█▉        | 17/86 [00:00<00:00, 164.06it/s]"
          ],
          "name": "stderr"
        },
        {
          "output_type": "stream",
          "text": [
            "Epoch : 459, mean loss : 76.57\n",
            "Beginning epoch 460\n"
          ],
          "name": "stdout"
        },
        {
          "output_type": "stream",
          "text": [
            "100%|██████████| 86/86 [00:00<00:00, 155.79it/s]\n",
            " 19%|█▊        | 16/86 [00:00<00:00, 157.20it/s]"
          ],
          "name": "stderr"
        },
        {
          "output_type": "stream",
          "text": [
            "Epoch : 460, mean loss : 76.54\n",
            "Beginning epoch 461\n"
          ],
          "name": "stdout"
        },
        {
          "output_type": "stream",
          "text": [
            "100%|██████████| 86/86 [00:00<00:00, 162.00it/s]\n",
            " 20%|█▉        | 17/86 [00:00<00:00, 164.08it/s]"
          ],
          "name": "stderr"
        },
        {
          "output_type": "stream",
          "text": [
            "Epoch : 461, mean loss : 76.51\n",
            "Beginning epoch 462\n"
          ],
          "name": "stdout"
        },
        {
          "output_type": "stream",
          "text": [
            "100%|██████████| 86/86 [00:00<00:00, 160.97it/s]\n",
            " 21%|██        | 18/86 [00:00<00:00, 170.90it/s]"
          ],
          "name": "stderr"
        },
        {
          "output_type": "stream",
          "text": [
            "Epoch : 462, mean loss : 76.47\n",
            "Beginning epoch 463\n"
          ],
          "name": "stdout"
        },
        {
          "output_type": "stream",
          "text": [
            "100%|██████████| 86/86 [00:00<00:00, 160.30it/s]\n",
            " 20%|█▉        | 17/86 [00:00<00:00, 169.85it/s]"
          ],
          "name": "stderr"
        },
        {
          "output_type": "stream",
          "text": [
            "Epoch : 463, mean loss : 76.42\n",
            "Beginning epoch 464\n"
          ],
          "name": "stdout"
        },
        {
          "output_type": "stream",
          "text": [
            "100%|██████████| 86/86 [00:00<00:00, 162.58it/s]\n",
            " 20%|█▉        | 17/86 [00:00<00:00, 169.97it/s]"
          ],
          "name": "stderr"
        },
        {
          "output_type": "stream",
          "text": [
            "Epoch : 464, mean loss : 76.38\n",
            "Beginning epoch 465\n"
          ],
          "name": "stdout"
        },
        {
          "output_type": "stream",
          "text": [
            "100%|██████████| 86/86 [00:00<00:00, 158.78it/s]\n",
            " 19%|█▊        | 16/86 [00:00<00:00, 156.89it/s]"
          ],
          "name": "stderr"
        },
        {
          "output_type": "stream",
          "text": [
            "Epoch : 465, mean loss : 76.35\n",
            "Beginning epoch 466\n"
          ],
          "name": "stdout"
        },
        {
          "output_type": "stream",
          "text": [
            "100%|██████████| 86/86 [00:00<00:00, 159.12it/s]\n",
            " 19%|█▊        | 16/86 [00:00<00:00, 152.48it/s]"
          ],
          "name": "stderr"
        },
        {
          "output_type": "stream",
          "text": [
            "Epoch : 466, mean loss : 76.31\n",
            "Beginning epoch 467\n"
          ],
          "name": "stdout"
        },
        {
          "output_type": "stream",
          "text": [
            "100%|██████████| 86/86 [00:00<00:00, 156.14it/s]\n",
            " 20%|█▉        | 17/86 [00:00<00:00, 168.82it/s]"
          ],
          "name": "stderr"
        },
        {
          "output_type": "stream",
          "text": [
            "Epoch : 467, mean loss : 76.28\n",
            "Beginning epoch 468\n"
          ],
          "name": "stdout"
        },
        {
          "output_type": "stream",
          "text": [
            "100%|██████████| 86/86 [00:00<00:00, 162.74it/s]\n",
            " 20%|█▉        | 17/86 [00:00<00:00, 166.27it/s]"
          ],
          "name": "stderr"
        },
        {
          "output_type": "stream",
          "text": [
            "Epoch : 468, mean loss : 76.24\n",
            "Beginning epoch 469\n"
          ],
          "name": "stdout"
        },
        {
          "output_type": "stream",
          "text": [
            "100%|██████████| 86/86 [00:00<00:00, 160.41it/s]\n",
            " 19%|█▊        | 16/86 [00:00<00:00, 157.63it/s]"
          ],
          "name": "stderr"
        },
        {
          "output_type": "stream",
          "text": [
            "Epoch : 469, mean loss : 76.21\n",
            "Beginning epoch 470\n"
          ],
          "name": "stdout"
        },
        {
          "output_type": "stream",
          "text": [
            "100%|██████████| 86/86 [00:00<00:00, 160.80it/s]\n",
            " 20%|█▉        | 17/86 [00:00<00:00, 166.98it/s]"
          ],
          "name": "stderr"
        },
        {
          "output_type": "stream",
          "text": [
            "Epoch : 470, mean loss : 76.17\n",
            "Beginning epoch 471\n"
          ],
          "name": "stdout"
        },
        {
          "output_type": "stream",
          "text": [
            "100%|██████████| 86/86 [00:00<00:00, 159.39it/s]\n",
            " 20%|█▉        | 17/86 [00:00<00:00, 163.00it/s]"
          ],
          "name": "stderr"
        },
        {
          "output_type": "stream",
          "text": [
            "Epoch : 471, mean loss : 76.13\n",
            "Beginning epoch 472\n"
          ],
          "name": "stdout"
        },
        {
          "output_type": "stream",
          "text": [
            "100%|██████████| 86/86 [00:00<00:00, 158.66it/s]\n",
            " 20%|█▉        | 17/86 [00:00<00:00, 165.71it/s]"
          ],
          "name": "stderr"
        },
        {
          "output_type": "stream",
          "text": [
            "Epoch : 472, mean loss : 76.10\n",
            "Beginning epoch 473\n"
          ],
          "name": "stdout"
        },
        {
          "output_type": "stream",
          "text": [
            "100%|██████████| 86/86 [00:00<00:00, 163.15it/s]\n",
            " 20%|█▉        | 17/86 [00:00<00:00, 163.85it/s]"
          ],
          "name": "stderr"
        },
        {
          "output_type": "stream",
          "text": [
            "Epoch : 473, mean loss : 76.06\n",
            "Beginning epoch 474\n"
          ],
          "name": "stdout"
        },
        {
          "output_type": "stream",
          "text": [
            "100%|██████████| 86/86 [00:00<00:00, 162.04it/s]\n",
            " 20%|█▉        | 17/86 [00:00<00:00, 164.68it/s]"
          ],
          "name": "stderr"
        },
        {
          "output_type": "stream",
          "text": [
            "Epoch : 474, mean loss : 76.02\n",
            "Beginning epoch 475\n"
          ],
          "name": "stdout"
        },
        {
          "output_type": "stream",
          "text": [
            "100%|██████████| 86/86 [00:00<00:00, 157.86it/s]\n",
            " 20%|█▉        | 17/86 [00:00<00:00, 166.95it/s]"
          ],
          "name": "stderr"
        },
        {
          "output_type": "stream",
          "text": [
            "Epoch : 475, mean loss : 75.98\n",
            "Beginning epoch 476\n"
          ],
          "name": "stdout"
        },
        {
          "output_type": "stream",
          "text": [
            "100%|██████████| 86/86 [00:00<00:00, 153.75it/s]\n",
            " 20%|█▉        | 17/86 [00:00<00:00, 162.21it/s]"
          ],
          "name": "stderr"
        },
        {
          "output_type": "stream",
          "text": [
            "Epoch : 476, mean loss : 75.96\n",
            "Beginning epoch 477\n"
          ],
          "name": "stdout"
        },
        {
          "output_type": "stream",
          "text": [
            "100%|██████████| 86/86 [00:00<00:00, 160.38it/s]\n",
            " 19%|█▊        | 16/86 [00:00<00:00, 153.41it/s]"
          ],
          "name": "stderr"
        },
        {
          "output_type": "stream",
          "text": [
            "Epoch : 477, mean loss : 75.92\n",
            "Beginning epoch 478\n"
          ],
          "name": "stdout"
        },
        {
          "output_type": "stream",
          "text": [
            "100%|██████████| 86/86 [00:00<00:00, 155.92it/s]\n",
            " 20%|█▉        | 17/86 [00:00<00:00, 165.44it/s]"
          ],
          "name": "stderr"
        },
        {
          "output_type": "stream",
          "text": [
            "Epoch : 478, mean loss : 75.89\n",
            "Beginning epoch 479\n"
          ],
          "name": "stdout"
        },
        {
          "output_type": "stream",
          "text": [
            "100%|██████████| 86/86 [00:00<00:00, 160.31it/s]\n",
            " 20%|█▉        | 17/86 [00:00<00:00, 165.11it/s]"
          ],
          "name": "stderr"
        },
        {
          "output_type": "stream",
          "text": [
            "Epoch : 479, mean loss : 75.85\n",
            "Beginning epoch 480\n"
          ],
          "name": "stdout"
        },
        {
          "output_type": "stream",
          "text": [
            "100%|██████████| 86/86 [00:00<00:00, 164.81it/s]\n",
            " 20%|█▉        | 17/86 [00:00<00:00, 166.58it/s]"
          ],
          "name": "stderr"
        },
        {
          "output_type": "stream",
          "text": [
            "Epoch : 480, mean loss : 75.81\n",
            "Beginning epoch 481\n"
          ],
          "name": "stdout"
        },
        {
          "output_type": "stream",
          "text": [
            "100%|██████████| 86/86 [00:00<00:00, 159.73it/s]\n",
            " 19%|█▊        | 16/86 [00:00<00:00, 159.57it/s]"
          ],
          "name": "stderr"
        },
        {
          "output_type": "stream",
          "text": [
            "Epoch : 481, mean loss : 75.78\n",
            "Beginning epoch 482\n"
          ],
          "name": "stdout"
        },
        {
          "output_type": "stream",
          "text": [
            "100%|██████████| 86/86 [00:00<00:00, 156.78it/s]\n",
            " 16%|█▋        | 14/86 [00:00<00:00, 139.84it/s]"
          ],
          "name": "stderr"
        },
        {
          "output_type": "stream",
          "text": [
            "Epoch : 482, mean loss : 75.75\n",
            "Beginning epoch 483\n"
          ],
          "name": "stdout"
        },
        {
          "output_type": "stream",
          "text": [
            "100%|██████████| 86/86 [00:00<00:00, 157.29it/s]\n",
            " 20%|█▉        | 17/86 [00:00<00:00, 167.64it/s]"
          ],
          "name": "stderr"
        },
        {
          "output_type": "stream",
          "text": [
            "Epoch : 483, mean loss : 75.72\n",
            "Beginning epoch 484\n"
          ],
          "name": "stdout"
        },
        {
          "output_type": "stream",
          "text": [
            "100%|██████████| 86/86 [00:00<00:00, 162.03it/s]\n",
            " 19%|█▊        | 16/86 [00:00<00:00, 156.84it/s]"
          ],
          "name": "stderr"
        },
        {
          "output_type": "stream",
          "text": [
            "Epoch : 484, mean loss : 75.68\n",
            "Beginning epoch 485\n"
          ],
          "name": "stdout"
        },
        {
          "output_type": "stream",
          "text": [
            "100%|██████████| 86/86 [00:00<00:00, 159.30it/s]\n",
            " 19%|█▊        | 16/86 [00:00<00:00, 158.04it/s]"
          ],
          "name": "stderr"
        },
        {
          "output_type": "stream",
          "text": [
            "Epoch : 485, mean loss : 75.65\n",
            "Beginning epoch 486\n"
          ],
          "name": "stdout"
        },
        {
          "output_type": "stream",
          "text": [
            "100%|██████████| 86/86 [00:00<00:00, 151.23it/s]\n",
            " 20%|█▉        | 17/86 [00:00<00:00, 163.94it/s]"
          ],
          "name": "stderr"
        },
        {
          "output_type": "stream",
          "text": [
            "Epoch : 486, mean loss : 75.62\n",
            "Beginning epoch 487\n"
          ],
          "name": "stdout"
        },
        {
          "output_type": "stream",
          "text": [
            "100%|██████████| 86/86 [00:00<00:00, 156.03it/s]\n",
            " 20%|█▉        | 17/86 [00:00<00:00, 165.23it/s]"
          ],
          "name": "stderr"
        },
        {
          "output_type": "stream",
          "text": [
            "Epoch : 487, mean loss : 75.59\n",
            "Beginning epoch 488\n"
          ],
          "name": "stdout"
        },
        {
          "output_type": "stream",
          "text": [
            "100%|██████████| 86/86 [00:00<00:00, 147.62it/s]\n",
            " 16%|█▋        | 14/86 [00:00<00:00, 139.20it/s]"
          ],
          "name": "stderr"
        },
        {
          "output_type": "stream",
          "text": [
            "Epoch : 488, mean loss : 75.56\n",
            "Beginning epoch 489\n"
          ],
          "name": "stdout"
        },
        {
          "output_type": "stream",
          "text": [
            "100%|██████████| 86/86 [00:00<00:00, 157.45it/s]\n",
            " 20%|█▉        | 17/86 [00:00<00:00, 166.40it/s]"
          ],
          "name": "stderr"
        },
        {
          "output_type": "stream",
          "text": [
            "Epoch : 489, mean loss : 75.52\n",
            "Beginning epoch 490\n"
          ],
          "name": "stdout"
        },
        {
          "output_type": "stream",
          "text": [
            "100%|██████████| 86/86 [00:00<00:00, 161.50it/s]\n",
            " 19%|█▊        | 16/86 [00:00<00:00, 152.11it/s]"
          ],
          "name": "stderr"
        },
        {
          "output_type": "stream",
          "text": [
            "Epoch : 490, mean loss : 75.48\n",
            "Beginning epoch 491\n"
          ],
          "name": "stdout"
        },
        {
          "output_type": "stream",
          "text": [
            "100%|██████████| 86/86 [00:00<00:00, 161.68it/s]\n",
            " 20%|█▉        | 17/86 [00:00<00:00, 167.75it/s]"
          ],
          "name": "stderr"
        },
        {
          "output_type": "stream",
          "text": [
            "Epoch : 491, mean loss : 75.45\n",
            "Beginning epoch 492\n"
          ],
          "name": "stdout"
        },
        {
          "output_type": "stream",
          "text": [
            "100%|██████████| 86/86 [00:00<00:00, 161.77it/s]\n",
            " 20%|█▉        | 17/86 [00:00<00:00, 167.23it/s]"
          ],
          "name": "stderr"
        },
        {
          "output_type": "stream",
          "text": [
            "Epoch : 492, mean loss : 75.41\n",
            "Beginning epoch 493\n"
          ],
          "name": "stdout"
        },
        {
          "output_type": "stream",
          "text": [
            "100%|██████████| 86/86 [00:00<00:00, 156.86it/s]\n",
            " 20%|█▉        | 17/86 [00:00<00:00, 165.37it/s]"
          ],
          "name": "stderr"
        },
        {
          "output_type": "stream",
          "text": [
            "Epoch : 493, mean loss : 75.38\n",
            "Beginning epoch 494\n"
          ],
          "name": "stdout"
        },
        {
          "output_type": "stream",
          "text": [
            "100%|██████████| 86/86 [00:00<00:00, 153.63it/s]\n",
            " 19%|█▊        | 16/86 [00:00<00:00, 157.93it/s]"
          ],
          "name": "stderr"
        },
        {
          "output_type": "stream",
          "text": [
            "Epoch : 494, mean loss : 75.34\n",
            "Beginning epoch 495\n"
          ],
          "name": "stdout"
        },
        {
          "output_type": "stream",
          "text": [
            "100%|██████████| 86/86 [00:00<00:00, 159.90it/s]\n",
            " 16%|█▋        | 14/86 [00:00<00:00, 140.00it/s]"
          ],
          "name": "stderr"
        },
        {
          "output_type": "stream",
          "text": [
            "Epoch : 495, mean loss : 75.31\n",
            "Beginning epoch 496\n"
          ],
          "name": "stdout"
        },
        {
          "output_type": "stream",
          "text": [
            "100%|██████████| 86/86 [00:00<00:00, 156.80it/s]\n",
            " 17%|█▋        | 15/86 [00:00<00:00, 145.02it/s]"
          ],
          "name": "stderr"
        },
        {
          "output_type": "stream",
          "text": [
            "Epoch : 496, mean loss : 75.27\n",
            "Beginning epoch 497\n"
          ],
          "name": "stdout"
        },
        {
          "output_type": "stream",
          "text": [
            "100%|██████████| 86/86 [00:00<00:00, 147.25it/s]\n",
            " 19%|█▊        | 16/86 [00:00<00:00, 159.19it/s]"
          ],
          "name": "stderr"
        },
        {
          "output_type": "stream",
          "text": [
            "Epoch : 497, mean loss : 75.25\n",
            "Beginning epoch 498\n"
          ],
          "name": "stdout"
        },
        {
          "output_type": "stream",
          "text": [
            "100%|██████████| 86/86 [00:00<00:00, 159.28it/s]\n",
            " 19%|█▊        | 16/86 [00:00<00:00, 159.78it/s]"
          ],
          "name": "stderr"
        },
        {
          "output_type": "stream",
          "text": [
            "Epoch : 498, mean loss : 75.21\n",
            "Beginning epoch 499\n"
          ],
          "name": "stdout"
        },
        {
          "output_type": "stream",
          "text": [
            "100%|██████████| 86/86 [00:00<00:00, 151.84it/s]"
          ],
          "name": "stderr"
        },
        {
          "output_type": "stream",
          "text": [
            "Epoch : 499, mean loss : 75.18\n"
          ],
          "name": "stdout"
        },
        {
          "output_type": "stream",
          "text": [
            "\n"
          ],
          "name": "stderr"
        }
      ]
    },
    {
      "cell_type": "code",
      "metadata": {
        "colab": {
          "base_uri": "https://localhost:8080/",
          "height": 312
        },
        "id": "wqOo7KLRwNei",
        "outputId": "88622dcb-008c-44d0-ce85-e6bb1b500357"
      },
      "source": [
        "plot_loss_fn(losses, \"GloVe loss function\")"
      ],
      "execution_count": null,
      "outputs": [
        {
          "output_type": "display_data",
          "data": {
            "image/png": "[encoded data removed]",
            "text/plain": [
              "<Figure size 432x288 with 1 Axes>"
            ]
          },
          "metadata": {
            "tags": [],
            "needs_background": "light"
          }
        },
        {
          "output_type": "display_data",
          "data": {
            "text/plain": [
              "<Figure size 432x288 with 0 Axes>"
            ]
          },
          "metadata": {
            "tags": []
          }
        }
      ]
    },
    {
      "cell_type": "code",
      "metadata": {
        "colab": {
          "base_uri": "https://localhost:8080/"
        },
        "id": "rBilTkO7r2xr",
        "outputId": "0615c7a8-f983-4d58-f3cf-04d0e19be28a"
      },
      "source": [
        "sentence = \"unk1 Hello world unk2\"\r\n",
        "vec = model.predict(sentence)\r\n",
        "print(vec.shape)\r\n",
        "vec"
      ],
      "execution_count": null,
      "outputs": [
        {
          "output_type": "stream",
          "text": [
            "torch.Size([4, 2])\n"
          ],
          "name": "stdout"
        },
        {
          "output_type": "execute_result",
          "data": {
            "text/plain": [
              "tensor([[-0.4238, -1.0120],\n",
              "        [-0.4238, -1.0120],\n",
              "        [ 0.0511, -0.5007],\n",
              "        [-0.4238, -1.0120]])"
            ]
          },
          "metadata": {
            "tags": []
          },
          "execution_count": 43
        }
      ]
    },
    {
      "cell_type": "code",
      "metadata": {
        "colab": {
          "base_uri": "https://localhost:8080/"
        },
        "id": "JGvvxTmfwdGo",
        "outputId": "5c21ae92-5fa2-41ba-af27-e2be43e95932"
      },
      "source": [
        "word = \"time\"\r\n",
        "vector = get_word(model, word)\r\n",
        "vector"
      ],
      "execution_count": null,
      "outputs": [
        {
          "output_type": "execute_result",
          "data": {
            "text/plain": [
              "tensor([-0.8379, -0.8237])"
            ]
          },
          "metadata": {
            "tags": []
          },
          "execution_count": 44
        }
      ]
    },
    {
      "cell_type": "code",
      "metadata": {
        "colab": {
          "base_uri": "https://localhost:8080/"
        },
        "id": "pk3VHO3EzLQ5",
        "outputId": "bd9353b8-cc9f-40e4-cc14-a2527b0e4ae4"
      },
      "source": [
        "closest(model, vector)"
      ],
      "execution_count": null,
      "outputs": [
        {
          "output_type": "execute_result",
          "data": {
            "text/plain": [
              "[('time', tensor(0.)),\n",
              " ('forgotten', tensor(0.0119)),\n",
              " ('join', tensor(0.0550)),\n",
              " ('rarer', tensor(0.0702)),\n",
              " ('centuries', tensor(0.0709)),\n",
              " ('complicated', tensor(0.0766)),\n",
              " ('originated', tensor(0.1026)),\n",
              " ('light-years', tensor(0.1072)),\n",
              " ('transportation', tensor(0.1093)),\n",
              " ('throng', tensor(0.1175))]"
            ]
          },
          "metadata": {
            "tags": []
          },
          "execution_count": 46
        }
      ]
    },
    {
      "cell_type": "code",
      "metadata": {
        "colab": {
          "base_uri": "https://localhost:8080/"
        },
        "id": "TZC_6TZzzvhF",
        "outputId": "6ec99cd2-16f2-4d9b-865e-4680e604a6ce"
      },
      "source": [
        "analogy(model, \"when\", \"time\", \"who\")"
      ],
      "execution_count": null,
      "outputs": [
        {
          "output_type": "stream",
          "text": [
            "\n",
            "[when : time :: who : ?]\n",
            "(0.0661) taking\n",
            "(0.1178) ash\n",
            "(0.1646) ended\n",
            "(0.1789) again\n",
            "(0.1795) well\n"
          ],
          "name": "stdout"
        }
      ]
    },
    {
      "cell_type": "code",
      "metadata": {
        "id": "9N3FYqky5zgQ"
      },
      "source": [
        "#ix_to_word = {i: word for i, word in enumerate(model.vocab)}"
      ],
      "execution_count": null,
      "outputs": []
    },
    {
      "cell_type": "code",
      "metadata": {
        "colab": {
          "base_uri": "https://localhost:8080/",
          "height": 267
        },
        "id": "6o7qPdAG5J9x",
        "outputId": "fdb93f00-ff23-41fb-c1ec-ff838f77ed03"
      },
      "source": [
        "N_WORDS = 30\r\n",
        "# Visualize embeddings\r\n",
        "#if EMBEDDING_SIZE == 2:\r\n",
        "if True :\r\n",
        "  # Pick some random words\r\n",
        "\tword_inds = np.random.choice(np.arange(len(vocab)), size = N_WORDS, replace=False)\r\n",
        "\tfor word_ind in word_inds:\r\n",
        "\t\tw_embed = model.embeddings()[word_ind].numpy()\r\n",
        "\t\tx, y = w_embed[0], w_embed[1]\r\n",
        "\t\tplt.scatter(x, y)\r\n",
        "\t\tplt.annotate(model.ix_to_word[word_ind], xy=(x, y), xytext=(5, 2),\r\n",
        "\t\t\ttextcoords='offset points', ha='right', va='bottom')\r\n",
        "\tplt.savefig(\"glove.png\")"
      ],
      "execution_count": null,
      "outputs": [
        {
          "output_type": "display_data",
          "data": {
            "image/png": "[encoded data removed]",
            "text/plain": [
              "<Figure size 432x288 with 1 Axes>"
            ]
          },
          "metadata": {
            "tags": [],
            "needs_background": "light"
          }
        }
      ]
    },
    {
      "cell_type": "markdown",
      "metadata": {
        "id": "rAo_z7HE71Z5"
      },
      "source": [
        "* GloVe: Global Vectors for Word Representation \\\r\n",
        "Jeffrey Pennington, Richard Socher, Christopher Manning \\\r\n",
        "https://www.aclweb.org/anthology/D14-1162/\r\n",
        "* http://www.foldl.me/2014/glove-python/\r\n",
        "* https://github.com/balazs-vida/glove-pytorch\r\n",
        "* https://github.com/spro/practical-pytorch/blob/master/glove-word-vectors/glove-word-vectors.ipynb"
      ]
    }
  ]
}